{
 "cells": [
  {
   "cell_type": "code",
   "execution_count": 240,
   "metadata": {},
   "outputs": [],
   "source": [
    "# you can write to stdout for debugging purposes, e.g.\n",
    "# print(\"this is a debug message\")\n",
    "\n",
    "\"\"\"\n",
    "Input\n",
    "-----\n",
    "voters -\n",
    "Voter arrival data (array of strings) sorted by arrival timestamp\n",
    "Format of each entry - \"<arrivalTimestamp>,<votingTime>,<numChildren>,<toleranceTime>\"\n",
    " \n",
    "numMachines -\n",
    "Number of voting machines\n",
    " \n",
    "queueSize -\n",
    "Size of the polling place's queue\n",
    "\n",
    "Output\n",
    "------\n",
    "Return an array of integers of size `numMachines+1` where the 0-th index represents the total number of voters who successfully cast votes and indices 1 to `numMachines` represent the number of votes cast at each voting machine.\n",
    "\"\"\"\n",
    "import heapq\n",
    "class Solution:\n",
    "    def __init__(self,numMachines,queueSize):\n",
    "        # write your code in Python\n",
    "        self.machine_status = []\n",
    "        self.tol_heap = []\n",
    "        self.machines = [0]*(numMachines+1)\n",
    "        self.machine_avail = list(range(1,numMachines+1))\n",
    "        self.curr_queue = 0 \n",
    "        self.curr_machine = self.machine_avail.pop(0)\n",
    "        self.maxqueue = queueSize\n",
    "        self.time = []\n",
    "        self.curr =0\n",
    "    def update_heap(self):\n",
    "        heapq.heapify(self.machine_status)\n",
    "        heapq.heapify(self.tol_heap)    \n",
    "    def get_person_info(self,p):\n",
    "        # return time, voting time, child, time+tol_time\n",
    "        info = [int(i) for i in p.split(',')]\n",
    "        info[3] = info[0]+info[3]\n",
    "        return info \n",
    "\n",
    "    def process_curr_machine(self,time):\n",
    "        while self.machine_status and self.machine_status[0][0]<=time:\n",
    "            _,index =self.machine_status.pop(0)\n",
    "#             print(\"machines\",time,self.machines)\n",
    "            self.machines[index]+=1 \n",
    "            self.machines[0]+=1\n",
    "#             print(\"machines\",time,self.machines)\n",
    "            self.machine_avail.append(index)\n",
    "    def process_curr_tols(self,time):\n",
    "        while self.tol_heap and self.tol_heap[0][0]<time:\n",
    "            temp = self.tol_heap.pop(0)\n",
    "            self.curr_queue-=temp[2]\n",
    "        while self.tol_heap and self.tol_heap[0][0]>=time:\n",
    "            temp = self.tol_heap.pop(0)\n",
    "            self.curr_queue-=temp[2]\n",
    "            self.machine_status.append([temp[1],self.curr_machine])\n",
    "    def process_to_curr(self,info):\n",
    "        i = 0\n",
    "        while i < len(self.machine_status) and (info[0]+info[1])>self.machine_status[i][0]:\n",
    "            self.time.append(self.machine_status[i][0])\n",
    "            i += 1\n",
    "        # self.time.sort()\n",
    "        while self.time:\n",
    "            self.curr = self.time.pop(0)\n",
    "            print(self.curr)\n",
    "            self.process_curr_machine(self.curr)\n",
    "            self.process_curr_tols(self.curr)\n",
    "        self.time+=[info[0]+info[1]]\n",
    "#         print(\"+++++\",self.time)\n",
    "        self.update_heap()\n",
    "    def process_curr(self,info):\n",
    "        if self.curr_queue == self.maxqueue:\n",
    "            return \n",
    "        # current queue is empty \n",
    "        if self.curr_queue==0:\n",
    "            if len(self.machine_avail)>0:\n",
    "                if self.curr<info[3]:\n",
    "                    self.machine_status.append([info[0]+info[1],self.curr_machine])\n",
    "                    self.curr_machine = self.machine_avail.pop(0)\n",
    "            else:            \n",
    "                if self.curr_queue+info[2]+1<self.maxqueue:\n",
    "                    self.curr_queue+= info[2]+1\n",
    "                    self.tol_heap.append([info[3],info[0]+info[1],info[2]])\n",
    "        else:\n",
    "            if self.curr_queue+info[2]+1<self.maxqueue:\n",
    "                self.curr_queue+= info[2]+1\n",
    "                self.tol_heap.append([info[3],info[0]+info[1],info[2]])\n",
    "    def get_sol(self):\n",
    "        return self.machines\n",
    "def solution(voters, numMachines, queueSize):\n",
    "    if numMachines ==0:\n",
    "        return [0,0]\n",
    "    cal = Solution(numMachines,queueSize)\n",
    "    i = 0\n",
    "    for v in voters:\n",
    "        # get info \n",
    "        # process heap until i.time \n",
    "        info = cal.get_person_info(v)\n",
    "        cal.process_to_curr(info)\n",
    "        cal.process_curr(info)\n",
    "    info = cal.get_person_info(voters[-1])\n",
    "    cal.process_to_curr(info)\n",
    "    return cal.get_sol()\n",
    "\n"
   ]
  },
  {
   "cell_type": "code",
   "execution_count": 241,
   "metadata": {},
   "outputs": [
    {
     "name": "stdout",
     "output_type": "stream",
     "text": [
      "100\n",
      "15\n",
      "20\n",
      "15\n",
      "[1, 1]\n"
     ]
    }
   ],
   "source": [
    "# t = [['0,25,0,600', '5,20,0,600', '10,20,1,8','15,50,2,100', '20,100,0,20'], 2, 2] # , '15,50,2,100', '20,100,0,20'\n",
    "# t1 = [['1,5,0,10', '2,5,0,10', '3,5,0,10', '4,5,0,10'], 2, 10] \n",
    "# print(solution(t[0],t[1],t[2]))\n",
    "# print(solution(t1[0],t1[1],t1[2]))\n",
    "t2 = [['0,100,1,1000', '5,10,10,1000', '10,10,10,1000'], 1, 15]\n",
    "print(solution(t2[0],t2[1],t2[2]))"
   ]
  },
  {
   "cell_type": "code",
   "execution_count": 20,
   "metadata": {},
   "outputs": [],
   "source": [
    "a = range(10)"
   ]
  },
  {
   "cell_type": "code",
   "execution_count": 21,
   "metadata": {},
   "outputs": [
    {
     "data": {
      "text/plain": [
       "range(0, 10)"
      ]
     },
     "execution_count": 21,
     "metadata": {},
     "output_type": "execute_result"
    }
   ],
   "source": [
    "a"
   ]
  },
  {
   "cell_type": "code",
   "execution_count": null,
   "metadata": {},
   "outputs": [],
   "source": []
  }
 ],
 "metadata": {
  "kernelspec": {
   "display_name": "Python 3",
   "language": "python",
   "name": "python3"
  },
  "language_info": {
   "codemirror_mode": {
    "name": "ipython",
    "version": 3
   },
   "file_extension": ".py",
   "mimetype": "text/x-python",
   "name": "python",
   "nbconvert_exporter": "python",
   "pygments_lexer": "ipython3",
   "version": "3.8.3"
  }
 },
 "nbformat": 4,
 "nbformat_minor": 4
}
