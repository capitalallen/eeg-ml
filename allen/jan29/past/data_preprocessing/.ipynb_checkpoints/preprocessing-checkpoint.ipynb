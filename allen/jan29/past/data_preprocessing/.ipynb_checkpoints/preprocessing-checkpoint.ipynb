{
 "cells": [
  {
   "cell_type": "code",
   "execution_count": 1,
   "metadata": {},
   "outputs": [],
   "source": [
    "import mat73\n",
    "import numpy as np\n",
    "import matplotlib.pyplot as plt\n",
    "from sklearn.linear_model import LogisticRegression\n",
    "from sklearn.metrics import r2_score\n",
    "from sklearn.metrics import mean_squared_error\n",
    "from IPython.display import display\n",
    "from sklearn.metrics import accuracy_score\n",
    "from sklearn.utils import shuffle\n",
    "from sklearn.ensemble import RandomForestClassifier\n",
    "from sklearn.model_selection import GridSearchCV\n",
    "from xgboost import XGBClassifier"
   ]
  },
  {
   "cell_type": "code",
   "execution_count": 2,
   "metadata": {},
   "outputs": [],
   "source": [
    "# convert male or female to numpy \n",
    "# f or m \n",
    "def convert_mat_np(gender=None):\n",
    "    m_file = \"../raw_data/Emotrans1_girl_data_preprocessed_42.mat\"\n",
    "    f_file = \"../raw_data/Emotrans1_Boy_data_preprocessed_42.mat\"\n",
    "    if gender == \"f\":\n",
    "        data_dict_female = mat73.loadmat(f_file, use_attrdict=True)\n",
    "        return np.array(data_dict_female[\"All_Feature\"])\n",
    "    elif gender == 'm':\n",
    "        data_dict_female = mat73.loadmat(m_file, use_attrdict=True)\n",
    "        return np.array(data_dict_female[\"All_Feature\"])  \n",
    "    else: \n",
    "        raise Exception(\"gender not defined\")"
   ]
  },
  {
   "cell_type": "code",
   "execution_count": 121,
   "metadata": {},
   "outputs": [
    {
     "name": "stdout",
     "output_type": "stream",
     "text": [
      "(19, 4, 4)\n",
      "(23, 4, 4)\n"
     ]
    }
   ],
   "source": [
    "\n",
    "def combine_male_female():\n",
    "    m = convert_mat_np(\"m\")\n",
    "    f = convert_mat_np(\"f\")\n",
    "    return np.concatenate((m,f),axis=0)"
   ]
  },
  {
   "cell_type": "code",
   "execution_count": 124,
   "metadata": {},
   "outputs": [
    {
     "name": "stdout",
     "output_type": "stream",
     "text": [
      "(19, 4, 4)\n",
      "(23, 4, 4)\n",
      "(42, 4, 4)\n"
     ]
    }
   ],
   "source": [
    "print(m.shape)\n",
    "print(f.shape)\n",
    "temp = np.concatenate((m,f),axis=0)\n",
    "print(temp.shape)"
   ]
  },
  {
   "cell_type": "code",
   "execution_count": 3,
   "metadata": {},
   "outputs": [],
   "source": [
    "m_data = convert_mat_np(\"m\")\n",
    "f_data = convert_mat_np(\"f\")"
   ]
  },
  {
   "cell_type": "code",
   "execution_count": 4,
   "metadata": {},
   "outputs": [
    {
     "name": "stdout",
     "output_type": "stream",
     "text": [
      "(19, 4, 4)\n",
      "(4, 4)\n",
      "(4,)\n",
      "(18, 128, 8, 2)\n",
      "(18, 128, 8, 2)\n",
      "(18, 128, 8, 2)\n",
      "(18, 128, 8, 2)\n",
      "(18, 128, 8, 2)\n",
      "(18, 128, 8, 2)\n",
      "(18, 128, 8, 2)\n",
      "(18, 128, 8, 2)\n",
      "(18, 128, 8, 2)\n",
      "(18, 128, 8, 2)\n",
      "(18, 128, 8, 2)\n",
      "(18, 128, 8, 2)\n",
      "(18, 128, 8, 2)\n",
      "(18, 128, 8, 2)\n",
      "(18, 128, 8, 2)\n",
      "(18, 128, 8, 2)\n",
      "(15, 128, 8, 2)\n",
      "(15, 128, 8, 2)\n",
      "(15, 128, 8, 2)\n"
     ]
    }
   ],
   "source": [
    "print(m_data.shape)\n",
    "print(m_data[0].shape)\n",
    "print(m_data[0][0].shape)\n",
    "for i in range(19):  \n",
    "    print(m_data[i][0][0].shape)"
   ]
  },
  {
   "cell_type": "code",
   "execution_count": 5,
   "metadata": {},
   "outputs": [
    {
     "name": "stdout",
     "output_type": "stream",
     "text": [
      "(23, 4, 4)\n",
      "(4, 4)\n",
      "(4,)\n",
      "(18, 128, 8, 2)\n",
      "(18, 128, 8, 2)\n",
      "(18, 128, 8, 2)\n",
      "(18, 128, 8, 2)\n",
      "(18, 128, 8, 2)\n",
      "(18, 128, 8, 2)\n",
      "(18, 128, 8, 2)\n",
      "(18, 128, 8, 2)\n",
      "(18, 128, 8, 2)\n",
      "(18, 128, 8, 2)\n",
      "(18, 128, 8, 2)\n",
      "(15, 128, 8, 2)\n",
      "(15, 128, 8, 2)\n",
      "(18, 128, 8, 2)\n",
      "(15, 128, 8, 2)\n",
      "(18, 128, 8, 2)\n",
      "(18, 128, 8, 2)\n",
      "(18, 128, 8, 2)\n",
      "(18, 128, 8, 2)\n",
      "(12, 128, 8, 2)\n"
     ]
    }
   ],
   "source": [
    "print(f_data.shape)\n",
    "print(f_data[0].shape)\n",
    "print(f_data[0][0].shape)\n",
    "print(f_data[0][0][0].shape)\n",
    "for i in range(19):  \n",
    "    print(f_data[i][0][0].shape)"
   ]
  },
  {
   "cell_type": "code",
   "execution_count": 55,
   "metadata": {},
   "outputs": [],
   "source": [
    "# get pos_or_neg \n",
    "def get_pos_or_neg(data,position,type=None):\n",
    "    arr = []\n",
    "    label = []\n",
    "    label_type = -1\n",
    "    if type == 'neg':\n",
    "        label_type = 0\n",
    "    elif type == 'net':\n",
    "        label_tpye = 1\n",
    "    else:\n",
    "        print(\"Wrong type - get_pos_or_neg()\")\n",
    "        return \n",
    "    for i in range(data.shape[0]):\n",
    "        temp = []\n",
    "        for j in position:\n",
    "            for k in data[i][j[0]][j[1]]:\n",
    "                temp.append(k)\n",
    "        temp = np.array(temp)\n",
    "        if label_type == 1:\n",
    "            label.append(np.ones((temp.shape[0],1)))\n",
    "        else:\n",
    "            label.append(np.zeros((temp.shape[0],1)))\n",
    "        arr.append(temp)\n",
    "    return np.array(arr), np.array(label)"
   ]
  },
  {
   "cell_type": "code",
   "execution_count": 56,
   "metadata": {},
   "outputs": [],
   "source": [
    "# get pos_or_neg \n",
    "def get_difference(data,position,type=None):\n",
    "    arr = []\n",
    "    label = []\n",
    "    label_type = -1\n",
    "    if type == 'neg':\n",
    "        label_type = 0\n",
    "    elif type == 'net':\n",
    "        label_tpye = 1\n",
    "    else:\n",
    "        print(\"Wrong type - get_pos_or_neg()\")\n",
    "        return \n",
    "    for i in range(data.shape[0]):\n",
    "#         print(data[i].shape)\n",
    "        diff = (data[i][position[0][0]][position[0][1]]+data[i][position[1][0]][position[1][1]])/2 - (data[i][position[3][0]][position[3][1]]+data[i][position[2][0]][position[2][1]])/2\n",
    "        if label_type == 1:\n",
    "            label.append(np.ones((diff.shape[0],1)))\n",
    "        else:\n",
    "            label.append(np.zeros((diff.shape[0],1)))\n",
    "        arr.append(diff)\n",
    "    return np.array(arr), np.array(label)"
   ]
  },
  {
   "cell_type": "code",
   "execution_count": 104,
   "metadata": {},
   "outputs": [],
   "source": [
    "\n",
    "pos = [[0,0],[0,1],[1,2],[1,3],[2,0],[2,1],[2,2],[2,3]]\n",
    "neg = [[0,2],[0,3],[1,0],[1,1],[3,0],[3,1],[3,2],[3,3]]\n",
    "#retrive pos or neg return np \n",
    "d1, l1 = get_pos_or_neg(m_data,pos,\"net\")\n",
    "d2, l2 = get_pos_or_neg(m_data,neg,\"neg\")\n",
    "\n"
   ]
  },
  {
   "cell_type": "code",
   "execution_count": 105,
   "metadata": {},
   "outputs": [
    {
     "name": "stdout",
     "output_type": "stream",
     "text": [
      "(96, 128, 8, 2)\n",
      "(96, 1)\n"
     ]
    }
   ],
   "source": [
    "for i in range(d1.size):\n",
    "    print(d1[i].shape)\n",
    "    print(l1[i].shape)\n",
    "    break"
   ]
  },
  {
   "cell_type": "code",
   "execution_count": 106,
   "metadata": {},
   "outputs": [],
   "source": [
    "# combine net and neg \n",
    "def combine_net_neg(netX,netY,negX,negY):\n",
    "    # iterate through each person concat x and y respectively \n",
    "    for i in range(netX.size):\n",
    "        netX[i] = np.concatenate((netX[i],negX[i]),axis=0)\n",
    "        netY[i] = np.concatenate((netY[i],negY[i]),axis=0)\n",
    "    return netX,netY\n",
    "x, y = combine_net_neg(d1,l1,d2,l2)"
   ]
  },
  {
   "cell_type": "code",
   "execution_count": 108,
   "metadata": {},
   "outputs": [],
   "source": [
    "x = choose_freq(x,None,0)\n"
   ]
  },
  {
   "cell_type": "code",
   "execution_count": 110,
   "metadata": {},
   "outputs": [],
   "source": [
    "x = squeeze_feature_size(x)\n"
   ]
  },
  {
   "cell_type": "code",
   "execution_count": 112,
   "metadata": {},
   "outputs": [
    {
     "name": "stdout",
     "output_type": "stream",
     "text": [
      "(19,)\n",
      "(19,)\n",
      "(192, 1024)\n",
      "(192, 1)\n",
      "(192, 1024)\n",
      "(192, 1)\n",
      "(192, 1024)\n",
      "(192, 1)\n",
      "(192, 1024)\n",
      "(192, 1)\n",
      "(192, 1024)\n",
      "(192, 1)\n",
      "(192, 1024)\n",
      "(192, 1)\n",
      "(192, 1024)\n",
      "(192, 1)\n",
      "(192, 1024)\n",
      "(192, 1)\n",
      "(192, 1024)\n",
      "(192, 1)\n",
      "(192, 1024)\n",
      "(192, 1)\n",
      "(192, 1024)\n",
      "(192, 1)\n",
      "(192, 1024)\n",
      "(192, 1)\n",
      "(192, 1024)\n",
      "(192, 1)\n",
      "(192, 1024)\n",
      "(192, 1)\n",
      "(192, 1024)\n",
      "(192, 1)\n",
      "(192, 1024)\n",
      "(192, 1)\n",
      "(156, 1024)\n",
      "(156, 1)\n",
      "(156, 1024)\n",
      "(156, 1)\n",
      "(156, 1024)\n",
      "(156, 1)\n"
     ]
    }
   ],
   "source": [
    "combined = add_labels(x,y)"
   ]
  },
  {
   "cell_type": "code",
   "execution_count": null,
   "metadata": {},
   "outputs": [],
   "source": [
    "for i in range(x.size):\n",
    "    if x[i].shape[0]==y[i].shape[0]:\n",
    "        print(\"pass - \",i,x[i].shape,y[i].shape)"
   ]
  },
  {
   "cell_type": "code",
   "execution_count": 119,
   "metadata": {},
   "outputs": [],
   "source": [
    "# store to csv \n",
    "# input name data \n",
    "# output True or false \n",
    "# file name: type + person # + csv \n",
    "def store_to_csv(folder,exp_name,data):\n",
    "    folder += \"\" if folder.endswith(\"/\") else \"/\"\n",
    "    path = folder+exp_name\n",
    "    for i in range(data.size):\n",
    "        curr_path = path + \"_\" + str(i)+\".csv\"  \n",
    "        np.savetxt(curr_path, data[i], delimiter=\",\")\n",
    "    "
   ]
  },
  {
   "cell_type": "code",
   "execution_count": 120,
   "metadata": {},
   "outputs": [],
   "source": [
    "store_to_csv(\"./test/\",\"test\",combined)"
   ]
  },
  {
   "cell_type": "code",
   "execution_count": 59,
   "metadata": {},
   "outputs": [],
   "source": [
    "# select frequenceis and (0-4s -> 0 or 0.5-4.5s -> 1)\n",
    "def choose_freq(data=None,freq = None, sec=None):\n",
    "    if freq:\n",
    "        data = np.delete(data,freq,axis=3)\n",
    "    if sec == 0:\n",
    "        for i in range(data.shape[0]):\n",
    "            data[i] = np.delete(data[i], 1, axis=3)\n",
    "        return data\n",
    "    elif sec == 1:\n",
    "        for i in range(data.shape[0]):\n",
    "            data[i] = np.delete(data[i], 0, axis=3)\n",
    "        return data\n",
    "    else:\n",
    "        print('sec not specified')\n",
    "        return data "
   ]
  },
  {
   "cell_type": "code",
   "execution_count": 60,
   "metadata": {},
   "outputs": [
    {
     "name": "stdout",
     "output_type": "stream",
     "text": [
      "(18, 128, 8, 1)\n",
      "(18, 128, 8, 1)\n",
      "(18, 128, 8, 1)\n",
      "(18, 128, 8, 1)\n",
      "(18, 128, 8, 1)\n",
      "(18, 128, 8, 1)\n",
      "(18, 128, 8, 1)\n",
      "(18, 128, 8, 1)\n",
      "(18, 128, 8, 1)\n",
      "(18, 128, 8, 1)\n",
      "(18, 128, 8, 1)\n",
      "(18, 128, 8, 1)\n",
      "(18, 128, 8, 1)\n",
      "(18, 128, 8, 1)\n",
      "(18, 128, 8, 1)\n",
      "(18, 128, 8, 1)\n",
      "(15, 128, 8, 1)\n",
      "(15, 128, 8, 1)\n",
      "(15, 128, 8, 1)\n"
     ]
    }
   ],
   "source": [
    "t = choose_freq(d,None,1)\n",
    "for i in range(t.shape[0]):\n",
    "    print(t[i].shape)\n"
   ]
  },
  {
   "cell_type": "code",
   "execution_count": 61,
   "metadata": {},
   "outputs": [],
   "source": [
    "# reshape to 18, 128*8*1\n",
    "def squeeze_feature_size(data):\n",
    "    for i in range(data.shape[0]):\n",
    "        size = data[i].shape\n",
    "        data[i] = data[i].reshape(size[0],size[1]*size[2]*size[3])\n",
    "    return data"
   ]
  },
  {
   "cell_type": "code",
   "execution_count": 62,
   "metadata": {},
   "outputs": [],
   "source": [
    "def add_labels(data,label):\n",
    "    # loop through data size \n",
    "    # add one dimension to data \n",
    "    # add label value to that new dimension \n",
    "    print(data.shape)\n",
    "    print(label.shape)\n",
    "    for i in range(data.shape[0]):\n",
    "        print(data[i].shape)\n",
    "        print(label[i].shape)\n",
    "        data[i] = np.concatenate((data[i],label[i]),axis=1)\n",
    "    return np.array(data) \n"
   ]
  },
  {
   "cell_type": "code",
   "execution_count": 63,
   "metadata": {},
   "outputs": [
    {
     "name": "stdout",
     "output_type": "stream",
     "text": [
      "(18, 1024)\n"
     ]
    }
   ],
   "source": [
    "t = squeeze_feature_size(t)\n",
    "for i in range(t.shape[0]):\n",
    "    print(t[i].shape)\n",
    "    break"
   ]
  },
  {
   "cell_type": "code",
   "execution_count": null,
   "metadata": {},
   "outputs": [],
   "source": []
  },
  {
   "cell_type": "code",
   "execution_count": 64,
   "metadata": {},
   "outputs": [
    {
     "name": "stdout",
     "output_type": "stream",
     "text": [
      "(19,)\n",
      "(19,)\n",
      "(18, 1024)\n",
      "(18, 1)\n",
      "(18, 1024)\n",
      "(18, 1)\n",
      "(18, 1024)\n",
      "(18, 1)\n",
      "(18, 1024)\n",
      "(18, 1)\n",
      "(18, 1024)\n",
      "(18, 1)\n",
      "(18, 1024)\n",
      "(18, 1)\n",
      "(18, 1024)\n",
      "(18, 1)\n",
      "(18, 1024)\n",
      "(18, 1)\n",
      "(18, 1024)\n",
      "(18, 1)\n",
      "(18, 1024)\n",
      "(18, 1)\n",
      "(18, 1024)\n",
      "(18, 1)\n",
      "(18, 1024)\n",
      "(18, 1)\n",
      "(18, 1024)\n",
      "(18, 1)\n",
      "(18, 1024)\n",
      "(18, 1)\n",
      "(18, 1024)\n",
      "(18, 1)\n",
      "(18, 1024)\n",
      "(18, 1)\n",
      "(15, 1024)\n",
      "(15, 1)\n",
      "(15, 1024)\n",
      "(15, 1)\n",
      "(15, 1024)\n",
      "(15, 1)\n",
      "(18, 1025)\n",
      "(18, 1025)\n",
      "(18, 1025)\n",
      "(18, 1025)\n",
      "(18, 1025)\n",
      "(18, 1025)\n",
      "(18, 1025)\n",
      "(18, 1025)\n",
      "(18, 1025)\n",
      "(18, 1025)\n",
      "(18, 1025)\n",
      "(18, 1025)\n",
      "(18, 1025)\n",
      "(18, 1025)\n",
      "(18, 1025)\n",
      "(18, 1025)\n",
      "(15, 1025)\n",
      "(15, 1025)\n",
      "(15, 1025)\n"
     ]
    }
   ],
   "source": [
    "# t, l \n",
    "new = add_labels(t,l)\n",
    "new.shape\n"
   ]
  },
  {
   "cell_type": "code",
   "execution_count": 65,
   "metadata": {},
   "outputs": [
    {
     "name": "stdout",
     "output_type": "stream",
     "text": [
      "(19,)\n",
      "(18, 1025)\n",
      "(18, 1025)\n",
      "(18, 1025)\n",
      "(18, 1025)\n",
      "(18, 1025)\n",
      "(18, 1025)\n",
      "(18, 1025)\n",
      "(18, 1025)\n",
      "(18, 1025)\n",
      "(18, 1025)\n",
      "(18, 1025)\n",
      "(18, 1025)\n",
      "(18, 1025)\n",
      "(18, 1025)\n",
      "(18, 1025)\n",
      "(18, 1025)\n",
      "(15, 1025)\n",
      "(15, 1025)\n",
      "(15, 1025)\n"
     ]
    }
   ],
   "source": [
    "print(new.shape)\n",
    "for i in range(new.shape[0]):\n",
    "    print(new[i].shape)"
   ]
  },
  {
   "cell_type": "code",
   "execution_count": 76,
   "metadata": {},
   "outputs": [],
   "source": [
    "# get label and delete last value \n",
    "# data from csv. delete 1025 and append that as label \n",
    "def get_data_label(data):\n",
    "    label=[]\n",
    "    for i in range(data.shape[0]):\n",
    "        label.append(data[i][:,1024])\n",
    "        data[i] = np.delete(data[i],1024,axis=1)\n",
    "    return data, np.array(label)\n",
    "#x,y = get_label(new)"
   ]
  },
  {
   "cell_type": "code",
   "execution_count": 81,
   "metadata": {},
   "outputs": [
    {
     "name": "stdout",
     "output_type": "stream",
     "text": [
      "pass 0 (18, 1024)\n",
      "pass 1 (18, 1024)\n",
      "pass 2 (18, 1024)\n",
      "pass 3 (18, 1024)\n",
      "pass 4 (18, 1024)\n",
      "pass 5 (18, 1024)\n",
      "pass 6 (18, 1024)\n",
      "pass 7 (18, 1024)\n",
      "pass 8 (18, 1024)\n",
      "pass 9 (18, 1024)\n",
      "pass 10 (18, 1024)\n",
      "pass 11 (18, 1024)\n",
      "pass 12 (18, 1024)\n",
      "pass 13 (18, 1024)\n",
      "pass 14 (18, 1024)\n",
      "pass 15 (18, 1024)\n",
      "pass 16 (15, 1024)\n",
      "pass 17 (15, 1024)\n",
      "pass 18 (15, 1024)\n"
     ]
    }
   ],
   "source": [
    "for i in range(x.size):\n",
    "    if x[i].shape[0] == y[i].shape[0]:\n",
    "        print(\"pass\",i,x[i].shape)\n",
    "# print(x[0].size)\n",
    "# print(y[0].shape)"
   ]
  },
  {
   "cell_type": "code",
   "execution_count": 22,
   "metadata": {},
   "outputs": [
    {
     "data": {
      "text/plain": [
       "(2, 2, 1)"
      ]
     },
     "execution_count": 22,
     "metadata": {},
     "output_type": "execute_result"
    }
   ],
   "source": [
    "test = np.array([[[19],[1]],[[19],[2]]])\n",
    "test.shape\n"
   ]
  },
  {
   "cell_type": "code",
   "execution_count": 112,
   "metadata": {},
   "outputs": [
    {
     "ename": "ValueError",
     "evalue": "cannot reshape array of size 152 into shape (1788,128,8,2)",
     "output_type": "error",
     "traceback": [
      "\u001b[0;31m---------------------------------------------------------------------------\u001b[0m",
      "\u001b[0;31mValueError\u001b[0m                                Traceback (most recent call last)",
      "\u001b[0;32m<ipython-input-112-040b27f2d08b>\u001b[0m in \u001b[0;36m<module>\u001b[0;34m\u001b[0m\n\u001b[0;32m----> 1\u001b[0;31m \u001b[0mtemp\u001b[0m\u001b[0;34m.\u001b[0m\u001b[0mreshape\u001b[0m\u001b[0;34m(\u001b[0m\u001b[0;34m(\u001b[0m\u001b[0mc\u001b[0m\u001b[0;34m,\u001b[0m\u001b[0;36m128\u001b[0m\u001b[0;34m,\u001b[0m\u001b[0;36m8\u001b[0m\u001b[0;34m,\u001b[0m\u001b[0;36m2\u001b[0m\u001b[0;34m)\u001b[0m\u001b[0;34m)\u001b[0m\u001b[0;34m\u001b[0m\u001b[0;34m\u001b[0m\u001b[0m\n\u001b[0m",
      "\u001b[0;31mValueError\u001b[0m: cannot reshape array of size 152 into shape (1788,128,8,2)"
     ]
    }
   ],
   "source": [
    "temp.reshape((c,128,8,2))"
   ]
  },
  {
   "cell_type": "markdown",
   "metadata": {},
   "source": [
    "### print(trails[16])"
   ]
  },
  {
   "cell_type": "code",
   "execution_count": 129,
   "metadata": {},
   "outputs": [],
   "source": [
    "file_path = '../data/neg_vs_net/male_0/'+\"0.csv\"\n",
    "file_path1 = '../data/neg_vs_net/male_0/'+\"1.csv\"\n",
    "t1 = np.genfromtxt(file_path, delimiter=',')\n",
    "t2 = np.genfromtxt(file_path1, delimiter=',')"
   ]
  },
  {
   "cell_type": "code",
   "execution_count": 130,
   "metadata": {},
   "outputs": [
    {
     "name": "stdout",
     "output_type": "stream",
     "text": [
      "(192, 1025)\n",
      "(192, 1025)\n"
     ]
    }
   ],
   "source": [
    "print(t1.shape)\n",
    "print(t2.shape)\n"
   ]
  },
  {
   "cell_type": "code",
   "execution_count": null,
   "metadata": {},
   "outputs": [],
   "source": []
  },
  {
   "cell_type": "code",
   "execution_count": 137,
   "metadata": {},
   "outputs": [],
   "source": [
    "def files_in_dir(folder):\n",
    "    ordered_list = []\n",
    "    file_list = os.listdir(folder)\n",
    "    for i in range(len(file_list)):\n",
    "        ordered_list.append(folder +str(i)+\".csv\")\n",
    "    return ordered_list"
   ]
  },
  {
   "cell_type": "code",
   "execution_count": 138,
   "metadata": {},
   "outputs": [],
   "source": [
    "def get_all_data(folder):\n",
    "    file_list = files_in_dir(folder)\n",
    "    x,y = [],[]\n",
    "    for i in file_list:\n",
    "        temp_x,temp_y = get_data_label(i)\n",
    "        x.append(temp_x)\n",
    "        y.append(temp_y)\n",
    "    return np.array(x),np.array(y)\n"
   ]
  },
  {
   "cell_type": "code",
   "execution_count": null,
   "metadata": {},
   "outputs": [],
   "source": [
    "# x,y =get_data_label(data)\n",
    "import os \n",
    "folder = '../data/neg_vs_net/male_0/'\n",
    "x,y = get_all_data(folder)"
   ]
  }
 ],
 "metadata": {
  "kernelspec": {
   "display_name": "Python 3",
   "language": "python",
   "name": "python3"
  },
  "language_info": {
   "codemirror_mode": {
    "name": "ipython",
    "version": 3
   },
   "file_extension": ".py",
   "mimetype": "text/x-python",
   "name": "python",
   "nbconvert_exporter": "python",
   "pygments_lexer": "ipython3",
   "version": "3.8.3"
  }
 },
 "nbformat": 4,
 "nbformat_minor": 4
}
