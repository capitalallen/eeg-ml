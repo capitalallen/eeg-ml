{
 "cells": [
  {
   "cell_type": "code",
   "execution_count": 79,
   "metadata": {},
   "outputs": [],
   "source": [
    "import mat73\n",
    "import numpy as np\n",
    "import matplotlib.pyplot as plt\n",
    "from sklearn.linear_model import LogisticRegression\n",
    "from sklearn.metrics import r2_score\n",
    "from sklearn.metrics import mean_squared_error\n",
    "from IPython.display import display\n",
    "from sklearn.metrics import accuracy_score\n",
    "from sklearn.utils import shuffle\n",
    "from sklearn.ensemble import RandomForestClassifier\n",
    "from sklearn.model_selection import GridSearchCV\n",
    "import pandas as pd \n",
    "from os import walk\n",
    "import json "
   ]
  },
  {
   "cell_type": "code",
   "execution_count": 80,
   "metadata": {},
   "outputs": [],
   "source": [
    "def read_json(file_name):\n",
    "    with open(file_name) as f:\n",
    "      data = json.load(f)\n",
    "    return data"
   ]
  },
  {
   "cell_type": "code",
   "execution_count": 44,
   "metadata": {},
   "outputs": [],
   "source": [
    "b =  [1,   2,   3,  4,   5,    6,  7,  8,    9, 10, 11, 12, 13, 14, 15, 16, 17, 18, 19, 20, 21, 22, 23]\n",
    "bstress = [22, 10, 19, 17, 23, 14, 9, 18, 23, 10, 8, 13, 12, 20, 21, 13, 0, 28, 13, 7, 18, 13, 15]\n",
    "g =  [1,    2,   3,  4,  5,  6,  7,  8,    9, 10, 11, 12, 13, 14, 15, 16, 17,]\n",
    "gstress =  [11, 13, 25, 7, 28, 14, 8, 13, 10, 12, 11, 16, 20, 25, 16, 31, 9]"
   ]
  },
  {
   "cell_type": "code",
   "execution_count": 55,
   "metadata": {},
   "outputs": [],
   "source": [
    "df = pd.read_csv('../table.csv')"
   ]
  },
  {
   "cell_type": "code",
   "execution_count": 56,
   "metadata": {},
   "outputs": [
    {
     "data": {
      "text/plain": [
       "Index(['Exp_ID', 'exp_time', 'trais no.', 'note', 'signal_condition', 'gender',\n",
       "       'age', 'race', 'handiness', 'sleep condition', 'Q11', 'Q12', 'Q13',\n",
       "       'Q13_r', 'Q14', 'ID', 'ID_boy', 'ID_girl', 'Raw_within_RF',\n",
       "       'Raw_within_logistic', 'within_classification',\n",
       "       'within_classification_logistic', 'Raw_within_netVSneg_RF',\n",
       "       'Raw_within_netVSneg_logistic', 'Within_netVSneg_RF',\n",
       "       'Within_netVSneg_logistic', 'within_Feature_asymmtry_RF',\n",
       "       'within_Feature_Less_RF', 'within_Feature_Less_Logistic', 'stress',\n",
       "       'stressGroup', '42set_ID', 'between_classification_all',\n",
       "       'Between_Feature_asymmtry', 'Between_Feature_Less',\n",
       "       'raw_betweenNeutral2Negative', 'raw_StressGroupbetweenNeutral2Negative',\n",
       "       'raw_between_stressGroup', 'between_stressGroup',\n",
       "       'Between_Stress2groups_RF', 'Between_Stress2groups_log',\n",
       "       'Between_GenderGroup', 'Between_RandomGroup',\n",
       "       'between_stressGroup_netural_vs_negative', '39set_ID',\n",
       "       'between_classification', 'between_stressGroup.1', '33set_ID',\n",
       "       'between_classification.1', 'between_stressGroup.2'],\n",
       "      dtype='object')"
      ]
     },
     "execution_count": 56,
     "metadata": {},
     "output_type": "execute_result"
    }
   ],
   "source": [
    "df.columns"
   ]
  },
  {
   "cell_type": "code",
   "execution_count": 181,
   "metadata": {},
   "outputs": [],
   "source": [
    "folder = '../results/sleep_condition/'"
   ]
  },
  {
   "cell_type": "code",
   "execution_count": 182,
   "metadata": {},
   "outputs": [],
   "source": [
    "_, _, filenames = next(walk(folder))"
   ]
  },
  {
   "cell_type": "code",
   "execution_count": 183,
   "metadata": {},
   "outputs": [],
   "source": [
    "filenames.sort()"
   ]
  },
  {
   "cell_type": "code",
   "execution_count": 184,
   "metadata": {},
   "outputs": [
    {
     "data": {
      "text/plain": [
       "['bad.json', 'good.json']"
      ]
     },
     "execution_count": 184,
     "metadata": {},
     "output_type": "execute_result"
    }
   ],
   "source": [
    "filenames"
   ]
  },
  {
   "cell_type": "code",
   "execution_count": 187,
   "metadata": {},
   "outputs": [
    {
     "data": {
      "text/plain": [
       "0.7727272727272727"
      ]
     },
     "execution_count": 187,
     "metadata": {},
     "output_type": "execute_result"
    }
   ],
   "source": [
    "bad = read_json(folder+filenames[1])['avg_acc']\n",
    "sum(bad)/len(bad)"
   ]
  },
  {
   "cell_type": "code",
   "execution_count": 169,
   "metadata": {},
   "outputs": [
    {
     "name": "stdout",
     "output_type": "stream",
     "text": [
      "[75.3222222222222, 73.48333333333336, 70.50000000000003, 72.24166666666667, 73.61666666666665, 72.74444444444445, 71.87500000000001, 71.83055555555553, 71.77500000000002, 72.41111111111114, 71.94722222222225, 71.98333333333336, 70.57500000000003, 70.90833333333335, 72.50277777777777, 71.73055555555557, 75.2333333333334, 72.7138888888889, 72.69999999999999, 68.83888888888887, 71.43888888888888, 73.79722222222222, 69.28055555555557, 72.8388888888889, 72.42222222222223, 73.20000000000002, 72.16111111111111, 71.96666666666664, 71.50833333333331, 71.16388888888889, 72.0527777777778, 71.79166666666666, 70.65277777777779, 70.5277777777778, 71.78611111111111, 72.9527777777778, 72.05555555555557, 71.74722222222223, 72.35000000000002, 71.62222222222225]\n"
     ]
    }
   ],
   "source": [
    "num = 0\n",
    "final = [0 for _ in range(40)]\n",
    "for num in range(100):\n",
    "    arr = []\n",
    "    for group in range(3):\n",
    "        accs = read_json(folder+f\"trailNum{num}_groupNum{group}.json\")['avg_acc']\n",
    "        ids = read_json(folder+f\"trailNum{num}_groupNum{group}.json\")['ids']\n",
    "        for i in range(len(accs)):\n",
    "            arr.append((ids[i],accs[i]))\n",
    "    arr.sort()\n",
    "    for j in arr:\n",
    "        final[j[0]]+=j[1]\n",
    "print(final)"
   ]
  },
  {
   "cell_type": "code",
   "execution_count": 170,
   "metadata": {},
   "outputs": [
    {
     "name": "stdout",
     "output_type": "stream",
     "text": [
      "[0.7532222222222219, 0.7348333333333337, 0.7050000000000003, 0.7224166666666667, 0.7361666666666664, 0.7274444444444446, 0.7187500000000001, 0.7183055555555553, 0.7177500000000002, 0.7241111111111114, 0.7194722222222225, 0.7198333333333337, 0.7057500000000003, 0.7090833333333335, 0.7250277777777776, 0.7173055555555556, 0.7523333333333341, 0.727138888888889, 0.7269999999999999, 0.6883888888888887, 0.7143888888888889, 0.7379722222222221, 0.6928055555555557, 0.728388888888889, 0.7242222222222223, 0.7320000000000002, 0.7216111111111111, 0.7196666666666665, 0.7150833333333331, 0.7116388888888889, 0.7205277777777781, 0.7179166666666665, 0.7065277777777779, 0.705277777777778, 0.7178611111111111, 0.729527777777778, 0.7205555555555557, 0.7174722222222223, 0.7235000000000003, 0.7162222222222225]\n"
     ]
    }
   ],
   "source": [
    "for i in range(len(final)):\n",
    "    final[i] = final[i]/100\n",
    "print(final)"
   ]
  },
  {
   "cell_type": "code",
   "execution_count": 188,
   "metadata": {},
   "outputs": [],
   "source": [
    "df = pd.read_csv('../table.csv')"
   ]
  },
  {
   "cell_type": "code",
   "execution_count": 200,
   "metadata": {},
   "outputs": [
    {
     "name": "stdout",
     "output_type": "stream",
     "text": [
      "<class 'str'>\n",
      "[2, 3, 5, 8, 9, 10, 11, 12, 16, 18, 22, 23, 24, 27, 28, 29, 30, 32, 33, 36, 37, 38, 39, 41] [0, 4, 6, 7, 14, 15, 19, 20, 21, 25, 26, 31, 34]\n"
     ]
    }
   ],
   "source": [
    "vals = df['Q13_r'].values \n",
    "net =[]\n",
    "neg = []\n",
    "print(type(vals[0]))\n",
    "for i in range(len(vals)):\n",
    "    temp = str(vals[i])\n",
    "    if 'Neg' in temp:\n",
    "        neg.append(i)\n",
    "    elif 'Neu' in temp:\n",
    "        net.append(i)\n",
    "print(net,neg)"
   ]
  },
  {
   "cell_type": "code",
   "execution_count": 172,
   "metadata": {},
   "outputs": [],
   "source": [
    "for _ in range(20):\n",
    "    final.append(-1)\n",
    "df['Between_RandomGroup'] = final[:52]\n",
    "df.to_csv('../table.csv')"
   ]
  },
  {
   "cell_type": "code",
   "execution_count": 138,
   "metadata": {},
   "outputs": [],
   "source": [
    "overall.sort(key=lambda x:x[0])\n",
    "good.sort(key=lambda x:x[0])"
   ]
  },
  {
   "cell_type": "code",
   "execution_count": 151,
   "metadata": {},
   "outputs": [
    {
     "name": "stdout",
     "output_type": "stream",
     "text": [
      "[0.8888888888888888, 0.8333333333333334, 0.8611111111111112, 0.75, 0.8333333333333334, 0.8888888888888888, 0.8611111111111112, 0.6666666666666666, 0.6388888888888888, 0.75, 0.7666666666666667, 0.5666666666666667, 0.8888888888888888, 0.7333333333333333, 0.5, 0.7222222222222222, 0.8055555555555556, 0.6388888888888888, 0.5833333333333334, 0.6944444444444444, 0.75, 0.5833333333333334, 0.6666666666666666, 0.6944444444444444, 0.8333333333333334, 0.7222222222222222, 0.8611111111111112, 0.5, 0.6944444444444444, 0.6111111111111112, 0.8888888888888888, 0.8055555555555556, 0.7777777777777778, 0.6944444444444444, 0.5833333333333334, 0.8611111111111112, 0.7777777777777778, 0.75, 0.8333333333333334, 0.8, 0.6333333333333333, 0.5666666666666667]\n"
     ]
    }
   ],
   "source": [
    "print(overall)"
   ]
  },
  {
   "cell_type": "code",
   "execution_count": 140,
   "metadata": {},
   "outputs": [],
   "source": [
    "for i in range(len(overall)):\n",
    "    overall[i] = overall[i][1]"
   ]
  },
  {
   "cell_type": "code",
   "execution_count": 179,
   "metadata": {},
   "outputs": [
    {
     "name": "stdout",
     "output_type": "stream",
     "text": [
      "[0.7777777777777778, 0.7222222222222222, 0.2777777777777778, 0.2777777777777778, 0.5, 0.2777777777777778, 0.6666666666666666, 0.6666666666666666, 0.5, 0.4444444444444444, 0.6333333333333333, 0.6666666666666666, 0.6111111111111112, 0.5333333333333333, 0.4444444444444444, 0.3611111111111111, 0.5833333333333334, 0.5277777777777778, 0.4583333333333333, 0.25, 0.6666666666666666, 0.3055555555555556, 0.7222222222222222, 0.7777777777777778, 0.5277777777777778, 0.3055555555555556, 0.9166666666666666, 0.6111111111111112, 0.6111111111111112, 0.5, 0.6388888888888888, 0.5833333333333334, 0.5555555555555556, 0.5277777777777778, 0.3333333333333333, 0.5, 0.6666666666666666, 0.6944444444444444, 0.4444444444444444, 0.5666666666666667, 0.3333333333333333, 0.36666666666666664, 0.25, 0.6666666666666666, 0.2777777777777778, 0.75]\n"
     ]
    }
   ],
   "source": [
    "overall = read_json(folder+filenames[1])['avg_acc']\n",
    "print(overall)"
   ]
  },
  {
   "cell_type": "code",
   "execution_count": 180,
   "metadata": {},
   "outputs": [],
   "source": [
    "for _ in range(20):\n",
    "    overall.append(-1)\n",
    "df['Raw_within_netVSneg_RF'] = overall[:52]\n",
    "df.to_csv('../table.csv')"
   ]
  },
  {
   "cell_type": "code",
   "execution_count": null,
   "metadata": {},
   "outputs": [],
   "source": []
  }
 ],
 "metadata": {
  "kernelspec": {
   "display_name": "Python 3",
   "language": "python",
   "name": "python3"
  },
  "language_info": {
   "codemirror_mode": {
    "name": "ipython",
    "version": 3
   },
   "file_extension": ".py",
   "mimetype": "text/x-python",
   "name": "python",
   "nbconvert_exporter": "python",
   "pygments_lexer": "ipython3",
   "version": "3.8.3"
  }
 },
 "nbformat": 4,
 "nbformat_minor": 4
}
