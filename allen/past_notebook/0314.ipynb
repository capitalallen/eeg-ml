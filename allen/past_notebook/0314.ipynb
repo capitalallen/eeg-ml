{
 "cells": [
  {
   "cell_type": "code",
   "execution_count": 79,
   "metadata": {},
   "outputs": [],
   "source": [
    "import mat73\n",
    "import numpy as np\n",
    "import matplotlib.pyplot as plt\n",
    "from sklearn.linear_model import LogisticRegression\n",
    "from sklearn.metrics import r2_score\n",
    "from sklearn.metrics import mean_squared_error\n",
    "from IPython.display import display\n",
    "from sklearn.metrics import accuracy_score\n",
    "from sklearn.utils import shuffle\n",
    "from sklearn.ensemble import RandomForestClassifier\n",
    "from sklearn.model_selection import GridSearchCV\n",
    "import pandas as pd \n",
    "from os import walk\n",
    "import json "
   ]
  },
  {
   "cell_type": "code",
   "execution_count": 80,
   "metadata": {},
   "outputs": [],
   "source": [
    "def read_json(file_name):\n",
    "    with open(file_name) as f:\n",
    "      data = json.load(f)\n",
    "    return data"
   ]
  },
  {
   "cell_type": "code",
   "execution_count": 44,
   "metadata": {},
   "outputs": [],
   "source": [
    "b =  [1,   2,   3,  4,   5,    6,  7,  8,    9, 10, 11, 12, 13, 14, 15, 16, 17, 18, 19, 20, 21, 22, 23]\n",
    "bstress = [22, 10, 19, 17, 23, 14, 9, 18, 23, 10, 8, 13, 12, 20, 21, 13, 0, 28, 13, 7, 18, 13, 15]\n",
    "g =  [1,    2,   3,  4,  5,  6,  7,  8,    9, 10, 11, 12, 13, 14, 15, 16, 17,]\n",
    "gstress =  [11, 13, 25, 7, 28, 14, 8, 13, 10, 12, 11, 16, 20, 25, 16, 31, 9]"
   ]
  },
  {
   "cell_type": "code",
   "execution_count": 55,
   "metadata": {},
   "outputs": [],
   "source": [
    "df = pd.read_csv('../table.csv')"
   ]
  },
  {
   "cell_type": "code",
   "execution_count": 56,
   "metadata": {},
   "outputs": [
    {
     "data": {
      "text/plain": [
       "Index(['Exp_ID', 'exp_time', 'trais no.', 'note', 'signal_condition', 'gender',\n",
       "       'age', 'race', 'handiness', 'sleep condition', 'Q11', 'Q12', 'Q13',\n",
       "       'Q13_r', 'Q14', 'ID', 'ID_boy', 'ID_girl', 'Raw_within_RF',\n",
       "       'Raw_within_logistic', 'within_classification',\n",
       "       'within_classification_logistic', 'Raw_within_netVSneg_RF',\n",
       "       'Raw_within_netVSneg_logistic', 'Within_netVSneg_RF',\n",
       "       'Within_netVSneg_logistic', 'within_Feature_asymmtry_RF',\n",
       "       'within_Feature_Less_RF', 'within_Feature_Less_Logistic', 'stress',\n",
       "       'stressGroup', '42set_ID', 'between_classification_all',\n",
       "       'Between_Feature_asymmtry', 'Between_Feature_Less',\n",
       "       'raw_betweenNeutral2Negative', 'raw_StressGroupbetweenNeutral2Negative',\n",
       "       'raw_between_stressGroup', 'between_stressGroup',\n",
       "       'Between_Stress2groups_RF', 'Between_Stress2groups_log',\n",
       "       'Between_GenderGroup', 'Between_RandomGroup',\n",
       "       'between_stressGroup_netural_vs_negative', '39set_ID',\n",
       "       'between_classification', 'between_stressGroup.1', '33set_ID',\n",
       "       'between_classification.1', 'between_stressGroup.2'],\n",
       "      dtype='object')"
      ]
     },
     "execution_count": 56,
     "metadata": {},
     "output_type": "execute_result"
    }
   ],
   "source": [
    "df.columns"
   ]
  },
  {
   "cell_type": "code",
   "execution_count": 277,
   "metadata": {},
   "outputs": [],
   "source": [
    "folder = '../results/0307/'"
   ]
  },
  {
   "cell_type": "code",
   "execution_count": 278,
   "metadata": {},
   "outputs": [],
   "source": [
    "a, b, filenames = next(walk(folder))"
   ]
  },
  {
   "cell_type": "code",
   "execution_count": 279,
   "metadata": {},
   "outputs": [
    {
     "name": "stdout",
     "output_type": "stream",
     "text": [
      "['leave_one_order_33_stress_l100.json', 'leave_one_order_33_stress_h0.1.json', 'leave_one_order_42_h1.json', 'within_33logistic1000.json', 'within_42_logistic100.json', 'leave_one_order_42_m50.json', 'within_42logistic_noscaler50.json', 'leaveone_33_logistic50.json', 'within_33logistic100.json', 'leave_one_order_36_h1000.json', 'leave_one_order_33_stress_m1000.json', 'leave_one_order_33_stress_l1000.json', 'leaveone_33_logistic0.1.json', '.DS_Store', 'within_42_logistic50.json', 'leave_one_order_36_l50.json', 'leave_one_order_33_stress_m100.json', 'leave_one_order_33_stress_m50.json', 'leave_one_order_42_l1.json', 'leave_one_order_36_h50.json', 'leaveone_33_logistic1000.json', 'within_39_logistic50.json', 'within_39_logistic100.json', 'leave_one_order_42_l100.json', 'leave_one_order_42_h0.1.json', 'leave_one_order_36_l0.1.json', 'leave_one_order_36_h100.json', 'leave_one_order_36_m0.1.json', 'leave_one_order_42_m1.json', 'leave_one_order_42_m100.json', 'leave_one_order_42_h1000.json', 'leaveone_39_logistic0.1.json', 'leave_one_order_42_l0.1.json', 'leave_one_order_42_h100.json', 'within_39_logistic0.1.json', 'leaveone_with_bad_logistic1000.json', 'leave_one_order_36_l100.json', 'leave_one_order_42_l50.json', 'leave_one_order_36_h0.1.json', 'leave_one_order_36_m100.json', 'leave_one_order_42_l1000.json', 'leave_one_order_42_m1000.json', 'leave_one_order_33_stress_l50.json', 'leaveone_39_logistic100.json', 'leave_one_order_42_m0.1.json', 'leave_one_order_36_m50.json', 'leaveone_with_bad_logistic50.json', 'within_33logistic50.json', 'within_42_logistic0.1.json', 'leave_one_order_33_stress_h50.json', 'leave_one_order_33_stress_l0.1.json', 'leave_one_order_33_stress_h100.json', 'leave_one_order_36_l1000.json', 'leave_one_order_36_m1000.json', 'leaveone_39_logistic1000.json', 'within_42_logistic1000.json', 'leaveone_with_bad_logistic100.json', 'within_33logistic0.1.json', 'leaveone_with_bad_logistic01.json', 'leaveone_33_logistic100.json', 'within_39_logistic1000.json', 'leave_one_order_33_stress_h1000.json', 'leave_one_order_33_stress_m0.1.json', 'leaveone_39_logistic50.json', 'leave_one_order_42_h50.json']\n"
     ]
    }
   ],
   "source": [
    "print(filenames)"
   ]
  },
  {
   "cell_type": "code",
   "execution_count": 287,
   "metadata": {},
   "outputs": [
    {
     "name": "stdout",
     "output_type": "stream",
     "text": [
      "leave_one_order_33_stress_l100.json\n"
     ]
    }
   ],
   "source": [
    "arr = []\n",
    "for i in filenames:\n",
    "    if '.json' in i:\n",
    "        val = cal_avg(read_json(folder+i)['avg_acc'])\n",
    "        arr.append([val,i])"
   ]
  },
  {
   "cell_type": "code",
   "execution_count": 283,
   "metadata": {},
   "outputs": [
    {
     "name": "stdout",
     "output_type": "stream",
     "text": [
      "0.712962962962963\n",
      "0.7160493827160495\n"
     ]
    }
   ],
   "source": [
    "def cal_avg(arr):\n",
    "    print(sum(arr)/len(arr))\n",
    "cal_avg(val1['avg_acc'])\n",
    "cal_avg(val2['avg_acc'])"
   ]
  },
  {
   "cell_type": "code",
   "execution_count": 242,
   "metadata": {},
   "outputs": [
    {
     "data": {
      "text/plain": [
       "0.7584722222222223"
      ]
     },
     "execution_count": 242,
     "metadata": {},
     "output_type": "execute_result"
    }
   ],
   "source": [
    "bad = read_json(folder+filenames[1])['avg_acc']\n",
    "sum(bad)/len(bad)"
   ]
  },
  {
   "cell_type": "code",
   "execution_count": 259,
   "metadata": {},
   "outputs": [],
   "source": [
    "num = 0\n",
    "final = [0 for _ in range(40)]\n",
    "arr = []\n",
    "for num in range(100):\n",
    "    temp = []\n",
    "    for group in range(3):\n",
    "        accs = read_json(folder+f\"trailNum{num}_groupNum{group}.json\")['avg_acc']\n",
    "        temp.append(sum(accs)/len(accs))\n",
    "    arr.append(np.array(temp))\n",
    "arr = np.array(arr)\n",
    "np.savetxt(\"temp.csv\", arr, delimiter=\",\")\n",
    "# df = pd.DataFrame([])\n",
    "# df['14_group'] = arr[]\n",
    "# df.to_csv(\"temp.csv\")"
   ]
  },
  {
   "cell_type": "code",
   "execution_count": 170,
   "metadata": {},
   "outputs": [
    {
     "name": "stdout",
     "output_type": "stream",
     "text": [
      "[0.7532222222222219, 0.7348333333333337, 0.7050000000000003, 0.7224166666666667, 0.7361666666666664, 0.7274444444444446, 0.7187500000000001, 0.7183055555555553, 0.7177500000000002, 0.7241111111111114, 0.7194722222222225, 0.7198333333333337, 0.7057500000000003, 0.7090833333333335, 0.7250277777777776, 0.7173055555555556, 0.7523333333333341, 0.727138888888889, 0.7269999999999999, 0.6883888888888887, 0.7143888888888889, 0.7379722222222221, 0.6928055555555557, 0.728388888888889, 0.7242222222222223, 0.7320000000000002, 0.7216111111111111, 0.7196666666666665, 0.7150833333333331, 0.7116388888888889, 0.7205277777777781, 0.7179166666666665, 0.7065277777777779, 0.705277777777778, 0.7178611111111111, 0.729527777777778, 0.7205555555555557, 0.7174722222222223, 0.7235000000000003, 0.7162222222222225]\n"
     ]
    }
   ],
   "source": [
    "for i in range(len(final)):\n",
    "    final[i] = final[i]/100\n",
    "print(final)"
   ]
  },
  {
   "cell_type": "code",
   "execution_count": 209,
   "metadata": {},
   "outputs": [],
   "source": [
    "df = pd.read_csv('../table.csv')"
   ]
  },
  {
   "cell_type": "code",
   "execution_count": 202,
   "metadata": {},
   "outputs": [
    {
     "name": "stdout",
     "output_type": "stream",
     "text": [
      "['Negative' 'Equal' 'Neutral' 'Neutral' 'Negative' 'Neutral' 'Negative'\n",
      " 'Negative' 'Neutral' 'Neutral' 'Neutral' 'Neutral' 'Neutral' 'Equal'\n",
      " 'Negative' 'Negative' 'Neutral' 'Equal' 'Neutral' 'Negative' 'Negative'\n",
      " 'Negative' 'Neutral' 'Neutral' 'Neutral' 'Negative' 'Negative' 'Neutral'\n",
      " 'Neutral' 'Neutral' 'Neutral' 'Negative' 'Neutral' 'Neutral' 'Negative'\n",
      " 'Equal' 'Neutral' 'Neutral' 'Neutral' 'Neutral' nan 'Neutral' nan nan nan\n",
      " nan nan nan nan nan nan nan]\n",
      "<class 'str'>\n",
      "[2, 3, 5, 8, 9, 10, 11, 12, 16, 18, 22, 23, 24, 27, 28, 29, 30, 32, 33, 36, 37, 38, 39, 41] [0, 4, 6, 7, 14, 15, 19, 20, 21, 25, 26, 31, 34]\n"
     ]
    }
   ],
   "source": [
    "vals = df['Q13_r'].values \n",
    "net =[]\n",
    "neg = []\n",
    "print(vals)\n",
    "print(type(vals[0]))\n",
    "for i in range(len(vals)):\n",
    "    temp = str(vals[i])\n",
    "    if 'Negative' == temp:\n",
    "        neg.append(i)\n",
    "    elif 'Neutral' == temp:\n",
    "        net.append(i)\n",
    "print(net,neg)"
   ]
  },
  {
   "cell_type": "code",
   "execution_count": 172,
   "metadata": {},
   "outputs": [],
   "source": [
    "for _ in range(20):\n",
    "    final.append(-1)\n",
    "df['Between_RandomGroup'] = final[:52]\n",
    "df.to_csv('../table.csv')"
   ]
  },
  {
   "cell_type": "code",
   "execution_count": 138,
   "metadata": {},
   "outputs": [],
   "source": [
    "overall.sort(key=lambda x:x[0])\n",
    "good.sort(key=lambda x:x[0])"
   ]
  },
  {
   "cell_type": "code",
   "execution_count": 151,
   "metadata": {},
   "outputs": [
    {
     "name": "stdout",
     "output_type": "stream",
     "text": [
      "[0.8888888888888888, 0.8333333333333334, 0.8611111111111112, 0.75, 0.8333333333333334, 0.8888888888888888, 0.8611111111111112, 0.6666666666666666, 0.6388888888888888, 0.75, 0.7666666666666667, 0.5666666666666667, 0.8888888888888888, 0.7333333333333333, 0.5, 0.7222222222222222, 0.8055555555555556, 0.6388888888888888, 0.5833333333333334, 0.6944444444444444, 0.75, 0.5833333333333334, 0.6666666666666666, 0.6944444444444444, 0.8333333333333334, 0.7222222222222222, 0.8611111111111112, 0.5, 0.6944444444444444, 0.6111111111111112, 0.8888888888888888, 0.8055555555555556, 0.7777777777777778, 0.6944444444444444, 0.5833333333333334, 0.8611111111111112, 0.7777777777777778, 0.75, 0.8333333333333334, 0.8, 0.6333333333333333, 0.5666666666666667]\n"
     ]
    }
   ],
   "source": [
    "print(overall)"
   ]
  },
  {
   "cell_type": "code",
   "execution_count": 140,
   "metadata": {},
   "outputs": [],
   "source": [
    "for i in range(len(overall)):\n",
    "    overall[i] = overall[i][1]"
   ]
  },
  {
   "cell_type": "code",
   "execution_count": 235,
   "metadata": {},
   "outputs": [],
   "source": [
    "# ['bad.json', 'good.json']\n",
    "bad = read_json(folder+filenames[0])['avg_acc']\n",
    "good =  read_json(folder+filenames[1])['avg_acc']\n",
    "id_good = [2, 3, 5, 8, 9, 10, 11, 12, 16, 18, 22, 23, 24, 27, 28, 29, 30, 32, 33, 36, 37, 38, 39, 41]  \n",
    "id_bad = [0, 4, 6, 7, 14, 15, 19, 20, 21, 25, 26, 31, 34]"
   ]
  },
  {
   "cell_type": "code",
   "execution_count": 236,
   "metadata": {},
   "outputs": [
    {
     "name": "stdout",
     "output_type": "stream",
     "text": [
      "0.7329059829059829\n",
      "0.7502314814814817\n"
     ]
    }
   ],
   "source": [
    "print(sum(bad)/len(bad))\n",
    "print(sum(good)/len(good))"
   ]
  },
  {
   "cell_type": "code",
   "execution_count": 229,
   "metadata": {},
   "outputs": [],
   "source": [
    "for i in range(len(bad)):\n",
    "    bad[i] = [id_bad[i],bad[i]]\n",
    "for i in range(len(good)):\n",
    "    good[i] = [id_good[i],good[i]]\n",
    "bad.extend(good)"
   ]
  },
  {
   "cell_type": "code",
   "execution_count": 230,
   "metadata": {},
   "outputs": [
    {
     "name": "stdout",
     "output_type": "stream",
     "text": [
      "[[0, 0.9166666666666666], [2, 0.8055555555555556], [3, 0.6666666666666666], [4, 0.9166666666666666], [5, 0.8333333333333334], [6, 0.8333333333333334], [7, 0.6111111111111112], [8, 0.7222222222222222], [9, 0.7222222222222222], [10, 0.7666666666666667], [11, 0.7666666666666667], [12, 0.8888888888888888], [14, 0.5555555555555556], [15, 0.5555555555555556], [16, 0.8055555555555556], [18, 0.6666666666666666], [19, 0.6388888888888888], [20, 0.8055555555555556], [21, 0.7222222222222222], [22, 0.6388888888888888], [23, 0.6944444444444444], [24, 0.8333333333333334], [25, 0.6388888888888888], [26, 0.8888888888888888], [27, 0.5833333333333334], [28, 0.6666666666666666], [29, 0.6944444444444444], [30, 0.9444444444444444], [31, 0.8055555555555556], [32, 0.6388888888888888], [33, 0.6666666666666666], [34, 0.6388888888888888], [36, 0.7777777777777778], [37, 0.7777777777777778], [38, 0.8055555555555556], [39, 0.8333333333333334], [41, 0.8055555555555556]]\n"
     ]
    }
   ],
   "source": [
    "bad.sort()\n",
    "print(bad)\n",
    "for i in range(len(bad)):\n",
    "    bad[i] = bad[i][1]"
   ]
  },
  {
   "cell_type": "code",
   "execution_count": 227,
   "metadata": {},
   "outputs": [
    {
     "data": {
      "text/plain": [
       "[0.9166666666666666,\n",
       " 0.8055555555555556,\n",
       " 0.6666666666666666,\n",
       " 0.9166666666666666,\n",
       " 0.8333333333333334,\n",
       " 0.8333333333333334,\n",
       " 0.6111111111111112,\n",
       " 0.7222222222222222,\n",
       " 0.7222222222222222,\n",
       " 0.7666666666666667,\n",
       " 0.7666666666666667,\n",
       " 0.8888888888888888,\n",
       " 0.5555555555555556,\n",
       " 0.5555555555555556,\n",
       " 0.8055555555555556,\n",
       " 0.6666666666666666,\n",
       " 0.6388888888888888,\n",
       " 0.8055555555555556,\n",
       " 0.7222222222222222,\n",
       " 0.6388888888888888,\n",
       " 0.6944444444444444,\n",
       " 0.8333333333333334,\n",
       " 0.6388888888888888,\n",
       " 0.8888888888888888,\n",
       " 0.5833333333333334,\n",
       " 0.6666666666666666,\n",
       " 0.6944444444444444,\n",
       " 0.9444444444444444,\n",
       " 0.8055555555555556,\n",
       " 0.6388888888888888,\n",
       " 0.6666666666666666,\n",
       " 0.6388888888888888,\n",
       " 0.7777777777777778,\n",
       " 0.7777777777777778,\n",
       " 0.8055555555555556,\n",
       " 0.8333333333333334,\n",
       " 0.8055555555555556]"
      ]
     },
     "execution_count": 227,
     "metadata": {},
     "output_type": "execute_result"
    }
   ],
   "source": []
  },
  {
   "cell_type": "code",
   "execution_count": 234,
   "metadata": {},
   "outputs": [],
   "source": [
    "for _ in range(20):\n",
    "    bad.append(-1)\n",
    "df['order_difference_q13_rf'] = bad[:52]\n",
    "df.to_csv('../table.csv')"
   ]
  },
  {
   "cell_type": "code",
   "execution_count": null,
   "metadata": {},
   "outputs": [],
   "source": []
  }
 ],
 "metadata": {
  "kernelspec": {
   "display_name": "Python 3",
   "language": "python",
   "name": "python3"
  },
  "language_info": {
   "codemirror_mode": {
    "name": "ipython",
    "version": 3
   },
   "file_extension": ".py",
   "mimetype": "text/x-python",
   "name": "python",
   "nbconvert_exporter": "python",
   "pygments_lexer": "ipython3",
   "version": "3.8.3"
  }
 },
 "nbformat": 4,
 "nbformat_minor": 4
}
