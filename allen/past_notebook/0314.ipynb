{
 "cells": [
  {
   "cell_type": "code",
   "execution_count": 1,
   "metadata": {},
   "outputs": [],
   "source": [
    "import mat73\n",
    "import numpy as np\n",
    "import matplotlib.pyplot as plt\n",
    "from sklearn.linear_model import LogisticRegression\n",
    "from sklearn.metrics import r2_score\n",
    "from sklearn.metrics import mean_squared_error\n",
    "from IPython.display import display\n",
    "from sklearn.metrics import accuracy_score\n",
    "from sklearn.utils import shuffle\n",
    "from sklearn.ensemble import RandomForestClassifier\n",
    "from sklearn.model_selection import GridSearchCV\n",
    "import pandas as pd "
   ]
  },
  {
   "cell_type": "code",
   "execution_count": 14,
   "metadata": {},
   "outputs": [],
   "source": [
    "def shuffle_and_group(array):\n",
    "    np.random.shuffle(array)\n",
    "    print(array)\n",
    "    return array[:14],array[14:28],array[28:]"
   ]
  },
  {
   "cell_type": "code",
   "execution_count": 16,
   "metadata": {},
   "outputs": [
    {
     "name": "stdout",
     "output_type": "stream",
     "text": [
      "[8, 32, 3, 26, 5, 38, 20, 18, 19, 7, 27, 39, 11, 17, 33, 13, 37, 34, 28, 22, 23, 1, 9, 25, 36, 14, 6, 15, 35, 31, 12, 2, 4, 16, 10, 0, 29, 21, 24, 30]\n"
     ]
    }
   ],
   "source": [
    "arr = [i for i in range(40)]\n",
    "a = shuffle_and_group(arr)"
   ]
  },
  {
   "cell_type": "code",
   "execution_count": 17,
   "metadata": {},
   "outputs": [
    {
     "data": {
      "text/plain": [
       "([8, 32, 3, 26, 5, 38, 20, 18, 19, 7, 27, 39, 11, 17],\n",
       " [33, 13, 37, 34, 28, 22, 23, 1, 9, 25, 36, 14, 6, 15],\n",
       " [35, 31, 12, 2, 4, 16, 10, 0, 29, 21, 24, 30])"
      ]
     },
     "execution_count": 17,
     "metadata": {},
     "output_type": "execute_result"
    }
   ],
   "source": [
    "a"
   ]
  },
  {
   "cell_type": "code",
   "execution_count": 12,
   "metadata": {},
   "outputs": [
    {
     "data": {
      "text/plain": [
       "14"
      ]
     },
     "execution_count": 12,
     "metadata": {},
     "output_type": "execute_result"
    }
   ],
   "source": [
    "len(m)"
   ]
  },
  {
   "cell_type": "code",
   "execution_count": 18,
   "metadata": {},
   "outputs": [],
   "source": [
    "a = [0.6944444444444444, 0.6666666666666666, 0.6388888888888888, 0.5833333333333334, 0.6944444444444444, 0.7777777777777778, 0.75, 0.6388888888888888, 0.5277777777777778, 0.6944444444444444, 0.7333333333333333, 0.5333333333333333, 0.6388888888888888, 0.5666666666666667, 0.5833333333333334, 0.5, 0.6388888888888888, 0.6388888888888888, 0.8333333333333334, 0.5277777777777778, 0.6111111111111112, 0.6111111111111112, 0.5833333333333334, 0.5833333333333334, 0.6666666666666666, 0.6944444444444444, 0.6388888888888888, 0.5555555555555556, 0.5277777777777778, 0.4722222222222222, 0.8333333333333334, 0.75, 0.5555555555555556, 0.6111111111111112, 0.6388888888888888, 0.5277777777777778, 0.6944444444444444, 0.7222222222222222, 0.6388888888888888, 0.5666666666666667]"
   ]
  },
  {
   "cell_type": "code",
   "execution_count": 19,
   "metadata": {},
   "outputs": [
    {
     "data": {
      "text/plain": [
       "40"
      ]
     },
     "execution_count": 19,
     "metadata": {},
     "output_type": "execute_result"
    }
   ],
   "source": [
    "len(a)"
   ]
  },
  {
   "cell_type": "code",
   "execution_count": null,
   "metadata": {},
   "outputs": [],
   "source": []
  }
 ],
 "metadata": {
  "kernelspec": {
   "display_name": "Python 3",
   "language": "python",
   "name": "python3"
  },
  "language_info": {
   "codemirror_mode": {
    "name": "ipython",
    "version": 3
   },
   "file_extension": ".py",
   "mimetype": "text/x-python",
   "name": "python",
   "nbconvert_exporter": "python",
   "pygments_lexer": "ipython3",
   "version": "3.8.3"
  }
 },
 "nbformat": 4,
 "nbformat_minor": 4
}
