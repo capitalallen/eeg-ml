{
 "cells": [
  {
   "cell_type": "code",
   "execution_count": 10,
   "metadata": {},
   "outputs": [],
   "source": [
    "import mat73\n",
    "import numpy as np\n",
    "import matplotlib \n",
    "import matplotlib.pyplot as plt\n",
    "from sklearn.linear_model import LogisticRegression\n",
    "from sklearn.metrics import r2_score\n",
    "from sklearn.metrics import mean_squared_error\n",
    "from IPython.display import display\n",
    "from sklearn.metrics import accuracy_score\n",
    "from sklearn.utils import shuffle\n",
    "from sklearn.ensemble import RandomForestClassifier\n",
    "from sklearn.model_selection import GridSearchCV\n",
    "import pandas as pd \n",
    "import json\n",
    "from os import walk\n",
    "import seaborn as sns\n",
    "from pathlib import Path\n",
    "from scipy.stats import norm\n",
    "import os"
   ]
  },
  {
   "cell_type": "code",
   "execution_count": 2,
   "metadata": {},
   "outputs": [],
   "source": [
    "def read_json(file_name):\n",
    "    with open(file_name) as f:\n",
    "      data = json.load(f)\n",
    "    return data"
   ]
  },
  {
   "cell_type": "code",
   "execution_count": 3,
   "metadata": {},
   "outputs": [],
   "source": [
    "f = './results'\n",
    "_, _, filenames = next(walk('./results'))"
   ]
  },
  {
   "cell_type": "code",
   "execution_count": 30,
   "metadata": {},
   "outputs": [],
   "source": [
    "df = read_json(\"./results/\"+filenames[3])"
   ]
  },
  {
   "cell_type": "code",
   "execution_count": 31,
   "metadata": {},
   "outputs": [
    {
     "data": {
      "text/plain": [
       "dict_keys(['name', 'avg_acc', 'coefs'])"
      ]
     },
     "execution_count": 31,
     "metadata": {},
     "output_type": "execute_result"
    }
   ],
   "source": [
    "df.keys()"
   ]
  },
  {
   "cell_type": "code",
   "execution_count": 32,
   "metadata": {},
   "outputs": [],
   "source": [
    "arr = np.array(df['coefs'])"
   ]
  },
  {
   "cell_type": "code",
   "execution_count": 59,
   "metadata": {},
   "outputs": [],
   "source": [
    "\"\"\"\n",
    "input: folder, coefs_np_arr\n",
    "change to abs value \n",
    "store only 0 and 1 to adjust \n",
    "store avg of all people to avg \n",
    "plot \n",
    "store sorted and top 20 to json file \n",
    "\"\"\"\n",
    "def write_to_json(file_name,avg_acc,coefs):\n",
    "    data = {} \n",
    "    data['top_20'] = avg_acc\n",
    "    data['sorted'] = coefs\n",
    "    with open(file_name, 'w') as outfile:\n",
    "        json.dump(data, outfile)\n",
    "def store_graph_sorted_results(folder,arr,threhold=0.0001):\n",
    "    Path(folder).mkdir(parents=True, exist_ok=True)\n",
    "    folder += \"/\"\n",
    "    arr = np.absolute(arr)\n",
    "    adjust = arr >= threhold\n",
    "    adjust = adjust.astype(int)\n",
    "    adjust = np.sum(adjust,axis=0)\n",
    "    x = [i for i in range(adjust.shape[1])]\n",
    "    \n",
    "    avg = np.average(arr,axis=0)\n",
    "    plt.figure(figsize=(15, 10))\n",
    "    plt.xticks(np.arange(min(x), max(x)+1, 100))\n",
    "    plt.bar(x, adjust[0])\n",
    "    plt.xlabel('2048 features')\n",
    "    plt.ylabel('count of 0s or 1s of all people')\n",
    "    plt.savefig(folder+\"count.png\")\n",
    "    plt.close()\n",
    "    \n",
    "    plt.figure(figsize=(15, 10))\n",
    "    plt.xticks(np.arange(min(x), max(x)+1, 100))\n",
    "    plt.bar(x, avg[0])\n",
    "    plt.xlabel('2048 features')\n",
    "    plt.ylabel('coef of average of all people')\n",
    "    plt.savefig(folder+\"results.png\")\n",
    "    plt.close()\n",
    "    \n",
    "    ax = sns.distplot(avg[0], fit=norm, kde=False)\n",
    "    ax.set(xlabel='coef value', ylabel='count')\n",
    "    ax.figure.savefig(folder+\"histgram.png\")\n",
    "    plt.close()\n",
    "    temp = [] \n",
    "    for i in range(len(x)):\n",
    "        temp.append([x[i],avg[0][i]])\n",
    "    temp.sort(key=lambda x:x[1],reverse=True)\n",
    "    write_to_json(folder+\"sorted_results.json\",temp[:20],temp)"
   ]
  },
  {
   "cell_type": "code",
   "execution_count": 60,
   "metadata": {},
   "outputs": [
    {
     "name": "stderr",
     "output_type": "stream",
     "text": [
      "/opt/anaconda3/lib/python3.8/site-packages/seaborn/distributions.py:2557: FutureWarning: `distplot` is a deprecated function and will be removed in a future version. Please adapt your code to use either `displot` (a figure-level function with similar flexibility) or `histplot` (an axes-level function for histograms).\n",
      "  warnings.warn(msg, FutureWarning)\n",
      "/opt/anaconda3/lib/python3.8/site-packages/seaborn/distributions.py:2557: FutureWarning: `distplot` is a deprecated function and will be removed in a future version. Please adapt your code to use either `displot` (a figure-level function with similar flexibility) or `histplot` (an axes-level function for histograms).\n",
      "  warnings.warn(msg, FutureWarning)\n",
      "/opt/anaconda3/lib/python3.8/site-packages/seaborn/distributions.py:2557: FutureWarning: `distplot` is a deprecated function and will be removed in a future version. Please adapt your code to use either `displot` (a figure-level function with similar flexibility) or `histplot` (an axes-level function for histograms).\n",
      "  warnings.warn(msg, FutureWarning)\n",
      "/opt/anaconda3/lib/python3.8/site-packages/seaborn/distributions.py:2557: FutureWarning: `distplot` is a deprecated function and will be removed in a future version. Please adapt your code to use either `displot` (a figure-level function with similar flexibility) or `histplot` (an axes-level function for histograms).\n",
      "  warnings.warn(msg, FutureWarning)\n",
      "/opt/anaconda3/lib/python3.8/site-packages/seaborn/distributions.py:2557: FutureWarning: `distplot` is a deprecated function and will be removed in a future version. Please adapt your code to use either `displot` (a figure-level function with similar flexibility) or `histplot` (an axes-level function for histograms).\n",
      "  warnings.warn(msg, FutureWarning)\n",
      "/opt/anaconda3/lib/python3.8/site-packages/seaborn/distributions.py:2557: FutureWarning: `distplot` is a deprecated function and will be removed in a future version. Please adapt your code to use either `displot` (a figure-level function with similar flexibility) or `histplot` (an axes-level function for histograms).\n",
      "  warnings.warn(msg, FutureWarning)\n",
      "/opt/anaconda3/lib/python3.8/site-packages/seaborn/distributions.py:2557: FutureWarning: `distplot` is a deprecated function and will be removed in a future version. Please adapt your code to use either `displot` (a figure-level function with similar flexibility) or `histplot` (an axes-level function for histograms).\n",
      "  warnings.warn(msg, FutureWarning)\n",
      "/opt/anaconda3/lib/python3.8/site-packages/seaborn/distributions.py:2557: FutureWarning: `distplot` is a deprecated function and will be removed in a future version. Please adapt your code to use either `displot` (a figure-level function with similar flexibility) or `histplot` (an axes-level function for histograms).\n",
      "  warnings.warn(msg, FutureWarning)\n",
      "/opt/anaconda3/lib/python3.8/site-packages/seaborn/distributions.py:2557: FutureWarning: `distplot` is a deprecated function and will be removed in a future version. Please adapt your code to use either `displot` (a figure-level function with similar flexibility) or `histplot` (an axes-level function for histograms).\n",
      "  warnings.warn(msg, FutureWarning)\n",
      "/opt/anaconda3/lib/python3.8/site-packages/seaborn/distributions.py:2557: FutureWarning: `distplot` is a deprecated function and will be removed in a future version. Please adapt your code to use either `displot` (a figure-level function with similar flexibility) or `histplot` (an axes-level function for histograms).\n",
      "  warnings.warn(msg, FutureWarning)\n",
      "/opt/anaconda3/lib/python3.8/site-packages/seaborn/distributions.py:2557: FutureWarning: `distplot` is a deprecated function and will be removed in a future version. Please adapt your code to use either `displot` (a figure-level function with similar flexibility) or `histplot` (an axes-level function for histograms).\n",
      "  warnings.warn(msg, FutureWarning)\n",
      "/opt/anaconda3/lib/python3.8/site-packages/seaborn/distributions.py:2557: FutureWarning: `distplot` is a deprecated function and will be removed in a future version. Please adapt your code to use either `displot` (a figure-level function with similar flexibility) or `histplot` (an axes-level function for histograms).\n",
      "  warnings.warn(msg, FutureWarning)\n",
      "/opt/anaconda3/lib/python3.8/site-packages/seaborn/distributions.py:2557: FutureWarning: `distplot` is a deprecated function and will be removed in a future version. Please adapt your code to use either `displot` (a figure-level function with similar flexibility) or `histplot` (an axes-level function for histograms).\n",
      "  warnings.warn(msg, FutureWarning)\n",
      "/opt/anaconda3/lib/python3.8/site-packages/seaborn/distributions.py:2557: FutureWarning: `distplot` is a deprecated function and will be removed in a future version. Please adapt your code to use either `displot` (a figure-level function with similar flexibility) or `histplot` (an axes-level function for histograms).\n",
      "  warnings.warn(msg, FutureWarning)\n",
      "/opt/anaconda3/lib/python3.8/site-packages/seaborn/distributions.py:2557: FutureWarning: `distplot` is a deprecated function and will be removed in a future version. Please adapt your code to use either `displot` (a figure-level function with similar flexibility) or `histplot` (an axes-level function for histograms).\n",
      "  warnings.warn(msg, FutureWarning)\n",
      "/opt/anaconda3/lib/python3.8/site-packages/seaborn/distributions.py:2557: FutureWarning: `distplot` is a deprecated function and will be removed in a future version. Please adapt your code to use either `displot` (a figure-level function with similar flexibility) or `histplot` (an axes-level function for histograms).\n",
      "  warnings.warn(msg, FutureWarning)\n",
      "/opt/anaconda3/lib/python3.8/site-packages/seaborn/distributions.py:2557: FutureWarning: `distplot` is a deprecated function and will be removed in a future version. Please adapt your code to use either `displot` (a figure-level function with similar flexibility) or `histplot` (an axes-level function for histograms).\n",
      "  warnings.warn(msg, FutureWarning)\n",
      "/opt/anaconda3/lib/python3.8/site-packages/seaborn/distributions.py:2557: FutureWarning: `distplot` is a deprecated function and will be removed in a future version. Please adapt your code to use either `displot` (a figure-level function with similar flexibility) or `histplot` (an axes-level function for histograms).\n",
      "  warnings.warn(msg, FutureWarning)\n",
      "/opt/anaconda3/lib/python3.8/site-packages/seaborn/distributions.py:2557: FutureWarning: `distplot` is a deprecated function and will be removed in a future version. Please adapt your code to use either `displot` (a figure-level function with similar flexibility) or `histplot` (an axes-level function for histograms).\n",
      "  warnings.warn(msg, FutureWarning)\n",
      "/opt/anaconda3/lib/python3.8/site-packages/seaborn/distributions.py:2557: FutureWarning: `distplot` is a deprecated function and will be removed in a future version. Please adapt your code to use either `displot` (a figure-level function with similar flexibility) or `histplot` (an axes-level function for histograms).\n",
      "  warnings.warn(msg, FutureWarning)\n",
      "/opt/anaconda3/lib/python3.8/site-packages/seaborn/distributions.py:2557: FutureWarning: `distplot` is a deprecated function and will be removed in a future version. Please adapt your code to use either `displot` (a figure-level function with similar flexibility) or `histplot` (an axes-level function for histograms).\n",
      "  warnings.warn(msg, FutureWarning)\n",
      "/opt/anaconda3/lib/python3.8/site-packages/seaborn/distributions.py:2557: FutureWarning: `distplot` is a deprecated function and will be removed in a future version. Please adapt your code to use either `displot` (a figure-level function with similar flexibility) or `histplot` (an axes-level function for histograms).\n",
      "  warnings.warn(msg, FutureWarning)\n",
      "/opt/anaconda3/lib/python3.8/site-packages/seaborn/distributions.py:2557: FutureWarning: `distplot` is a deprecated function and will be removed in a future version. Please adapt your code to use either `displot` (a figure-level function with similar flexibility) or `histplot` (an axes-level function for histograms).\n",
      "  warnings.warn(msg, FutureWarning)\n",
      "/opt/anaconda3/lib/python3.8/site-packages/seaborn/distributions.py:2557: FutureWarning: `distplot` is a deprecated function and will be removed in a future version. Please adapt your code to use either `displot` (a figure-level function with similar flexibility) or `histplot` (an axes-level function for histograms).\n",
      "  warnings.warn(msg, FutureWarning)\n"
     ]
    },
    {
     "name": "stderr",
     "output_type": "stream",
     "text": [
      "/opt/anaconda3/lib/python3.8/site-packages/seaborn/distributions.py:2557: FutureWarning: `distplot` is a deprecated function and will be removed in a future version. Please adapt your code to use either `displot` (a figure-level function with similar flexibility) or `histplot` (an axes-level function for histograms).\n",
      "  warnings.warn(msg, FutureWarning)\n",
      "/opt/anaconda3/lib/python3.8/site-packages/seaborn/distributions.py:2557: FutureWarning: `distplot` is a deprecated function and will be removed in a future version. Please adapt your code to use either `displot` (a figure-level function with similar flexibility) or `histplot` (an axes-level function for histograms).\n",
      "  warnings.warn(msg, FutureWarning)\n",
      "/opt/anaconda3/lib/python3.8/site-packages/seaborn/distributions.py:2557: FutureWarning: `distplot` is a deprecated function and will be removed in a future version. Please adapt your code to use either `displot` (a figure-level function with similar flexibility) or `histplot` (an axes-level function for histograms).\n",
      "  warnings.warn(msg, FutureWarning)\n",
      "/opt/anaconda3/lib/python3.8/site-packages/seaborn/distributions.py:2557: FutureWarning: `distplot` is a deprecated function and will be removed in a future version. Please adapt your code to use either `displot` (a figure-level function with similar flexibility) or `histplot` (an axes-level function for histograms).\n",
      "  warnings.warn(msg, FutureWarning)\n",
      "/opt/anaconda3/lib/python3.8/site-packages/seaborn/distributions.py:2557: FutureWarning: `distplot` is a deprecated function and will be removed in a future version. Please adapt your code to use either `displot` (a figure-level function with similar flexibility) or `histplot` (an axes-level function for histograms).\n",
      "  warnings.warn(msg, FutureWarning)\n",
      "/opt/anaconda3/lib/python3.8/site-packages/seaborn/distributions.py:2557: FutureWarning: `distplot` is a deprecated function and will be removed in a future version. Please adapt your code to use either `displot` (a figure-level function with similar flexibility) or `histplot` (an axes-level function for histograms).\n",
      "  warnings.warn(msg, FutureWarning)\n",
      "/opt/anaconda3/lib/python3.8/site-packages/seaborn/distributions.py:2557: FutureWarning: `distplot` is a deprecated function and will be removed in a future version. Please adapt your code to use either `displot` (a figure-level function with similar flexibility) or `histplot` (an axes-level function for histograms).\n",
      "  warnings.warn(msg, FutureWarning)\n",
      "/opt/anaconda3/lib/python3.8/site-packages/seaborn/distributions.py:2557: FutureWarning: `distplot` is a deprecated function and will be removed in a future version. Please adapt your code to use either `displot` (a figure-level function with similar flexibility) or `histplot` (an axes-level function for histograms).\n",
      "  warnings.warn(msg, FutureWarning)\n",
      "/opt/anaconda3/lib/python3.8/site-packages/seaborn/distributions.py:2557: FutureWarning: `distplot` is a deprecated function and will be removed in a future version. Please adapt your code to use either `displot` (a figure-level function with similar flexibility) or `histplot` (an axes-level function for histograms).\n",
      "  warnings.warn(msg, FutureWarning)\n",
      "/opt/anaconda3/lib/python3.8/site-packages/seaborn/distributions.py:2557: FutureWarning: `distplot` is a deprecated function and will be removed in a future version. Please adapt your code to use either `displot` (a figure-level function with similar flexibility) or `histplot` (an axes-level function for histograms).\n",
      "  warnings.warn(msg, FutureWarning)\n",
      "/opt/anaconda3/lib/python3.8/site-packages/seaborn/distributions.py:2557: FutureWarning: `distplot` is a deprecated function and will be removed in a future version. Please adapt your code to use either `displot` (a figure-level function with similar flexibility) or `histplot` (an axes-level function for histograms).\n",
      "  warnings.warn(msg, FutureWarning)\n",
      "/opt/anaconda3/lib/python3.8/site-packages/seaborn/distributions.py:2557: FutureWarning: `distplot` is a deprecated function and will be removed in a future version. Please adapt your code to use either `displot` (a figure-level function with similar flexibility) or `histplot` (an axes-level function for histograms).\n",
      "  warnings.warn(msg, FutureWarning)\n",
      "/opt/anaconda3/lib/python3.8/site-packages/seaborn/distributions.py:2557: FutureWarning: `distplot` is a deprecated function and will be removed in a future version. Please adapt your code to use either `displot` (a figure-level function with similar flexibility) or `histplot` (an axes-level function for histograms).\n",
      "  warnings.warn(msg, FutureWarning)\n",
      "/opt/anaconda3/lib/python3.8/site-packages/seaborn/distributions.py:2557: FutureWarning: `distplot` is a deprecated function and will be removed in a future version. Please adapt your code to use either `displot` (a figure-level function with similar flexibility) or `histplot` (an axes-level function for histograms).\n",
      "  warnings.warn(msg, FutureWarning)\n",
      "/opt/anaconda3/lib/python3.8/site-packages/seaborn/distributions.py:2557: FutureWarning: `distplot` is a deprecated function and will be removed in a future version. Please adapt your code to use either `displot` (a figure-level function with similar flexibility) or `histplot` (an axes-level function for histograms).\n",
      "  warnings.warn(msg, FutureWarning)\n",
      "/opt/anaconda3/lib/python3.8/site-packages/seaborn/distributions.py:2557: FutureWarning: `distplot` is a deprecated function and will be removed in a future version. Please adapt your code to use either `displot` (a figure-level function with similar flexibility) or `histplot` (an axes-level function for histograms).\n",
      "  warnings.warn(msg, FutureWarning)\n",
      "/opt/anaconda3/lib/python3.8/site-packages/seaborn/distributions.py:2557: FutureWarning: `distplot` is a deprecated function and will be removed in a future version. Please adapt your code to use either `displot` (a figure-level function with similar flexibility) or `histplot` (an axes-level function for histograms).\n",
      "  warnings.warn(msg, FutureWarning)\n",
      "/opt/anaconda3/lib/python3.8/site-packages/seaborn/distributions.py:2557: FutureWarning: `distplot` is a deprecated function and will be removed in a future version. Please adapt your code to use either `displot` (a figure-level function with similar flexibility) or `histplot` (an axes-level function for histograms).\n",
      "  warnings.warn(msg, FutureWarning)\n",
      "/opt/anaconda3/lib/python3.8/site-packages/seaborn/distributions.py:2557: FutureWarning: `distplot` is a deprecated function and will be removed in a future version. Please adapt your code to use either `displot` (a figure-level function with similar flexibility) or `histplot` (an axes-level function for histograms).\n",
      "  warnings.warn(msg, FutureWarning)\n",
      "/opt/anaconda3/lib/python3.8/site-packages/seaborn/distributions.py:2557: FutureWarning: `distplot` is a deprecated function and will be removed in a future version. Please adapt your code to use either `displot` (a figure-level function with similar flexibility) or `histplot` (an axes-level function for histograms).\n",
      "  warnings.warn(msg, FutureWarning)\n",
      "/opt/anaconda3/lib/python3.8/site-packages/seaborn/distributions.py:2557: FutureWarning: `distplot` is a deprecated function and will be removed in a future version. Please adapt your code to use either `displot` (a figure-level function with similar flexibility) or `histplot` (an axes-level function for histograms).\n",
      "  warnings.warn(msg, FutureWarning)\n",
      "/opt/anaconda3/lib/python3.8/site-packages/seaborn/distributions.py:2557: FutureWarning: `distplot` is a deprecated function and will be removed in a future version. Please adapt your code to use either `displot` (a figure-level function with similar flexibility) or `histplot` (an axes-level function for histograms).\n",
      "  warnings.warn(msg, FutureWarning)\n",
      "/opt/anaconda3/lib/python3.8/site-packages/seaborn/distributions.py:2557: FutureWarning: `distplot` is a deprecated function and will be removed in a future version. Please adapt your code to use either `displot` (a figure-level function with similar flexibility) or `histplot` (an axes-level function for histograms).\n",
      "  warnings.warn(msg, FutureWarning)\n",
      "/opt/anaconda3/lib/python3.8/site-packages/seaborn/distributions.py:2557: FutureWarning: `distplot` is a deprecated function and will be removed in a future version. Please adapt your code to use either `displot` (a figure-level function with similar flexibility) or `histplot` (an axes-level function for histograms).\n",
      "  warnings.warn(msg, FutureWarning)\n"
     ]
    },
    {
     "name": "stderr",
     "output_type": "stream",
     "text": [
      "/opt/anaconda3/lib/python3.8/site-packages/seaborn/distributions.py:2557: FutureWarning: `distplot` is a deprecated function and will be removed in a future version. Please adapt your code to use either `displot` (a figure-level function with similar flexibility) or `histplot` (an axes-level function for histograms).\n",
      "  warnings.warn(msg, FutureWarning)\n",
      "/opt/anaconda3/lib/python3.8/site-packages/seaborn/distributions.py:2557: FutureWarning: `distplot` is a deprecated function and will be removed in a future version. Please adapt your code to use either `displot` (a figure-level function with similar flexibility) or `histplot` (an axes-level function for histograms).\n",
      "  warnings.warn(msg, FutureWarning)\n",
      "/opt/anaconda3/lib/python3.8/site-packages/seaborn/distributions.py:2557: FutureWarning: `distplot` is a deprecated function and will be removed in a future version. Please adapt your code to use either `displot` (a figure-level function with similar flexibility) or `histplot` (an axes-level function for histograms).\n",
      "  warnings.warn(msg, FutureWarning)\n",
      "/opt/anaconda3/lib/python3.8/site-packages/seaborn/distributions.py:2557: FutureWarning: `distplot` is a deprecated function and will be removed in a future version. Please adapt your code to use either `displot` (a figure-level function with similar flexibility) or `histplot` (an axes-level function for histograms).\n",
      "  warnings.warn(msg, FutureWarning)\n",
      "/opt/anaconda3/lib/python3.8/site-packages/seaborn/distributions.py:2557: FutureWarning: `distplot` is a deprecated function and will be removed in a future version. Please adapt your code to use either `displot` (a figure-level function with similar flexibility) or `histplot` (an axes-level function for histograms).\n",
      "  warnings.warn(msg, FutureWarning)\n",
      "/opt/anaconda3/lib/python3.8/site-packages/seaborn/distributions.py:2557: FutureWarning: `distplot` is a deprecated function and will be removed in a future version. Please adapt your code to use either `displot` (a figure-level function with similar flexibility) or `histplot` (an axes-level function for histograms).\n",
      "  warnings.warn(msg, FutureWarning)\n",
      "/opt/anaconda3/lib/python3.8/site-packages/seaborn/distributions.py:2557: FutureWarning: `distplot` is a deprecated function and will be removed in a future version. Please adapt your code to use either `displot` (a figure-level function with similar flexibility) or `histplot` (an axes-level function for histograms).\n",
      "  warnings.warn(msg, FutureWarning)\n",
      "/opt/anaconda3/lib/python3.8/site-packages/seaborn/distributions.py:2557: FutureWarning: `distplot` is a deprecated function and will be removed in a future version. Please adapt your code to use either `displot` (a figure-level function with similar flexibility) or `histplot` (an axes-level function for histograms).\n",
      "  warnings.warn(msg, FutureWarning)\n",
      "/opt/anaconda3/lib/python3.8/site-packages/seaborn/distributions.py:2557: FutureWarning: `distplot` is a deprecated function and will be removed in a future version. Please adapt your code to use either `displot` (a figure-level function with similar flexibility) or `histplot` (an axes-level function for histograms).\n",
      "  warnings.warn(msg, FutureWarning)\n",
      "/opt/anaconda3/lib/python3.8/site-packages/seaborn/distributions.py:2557: FutureWarning: `distplot` is a deprecated function and will be removed in a future version. Please adapt your code to use either `displot` (a figure-level function with similar flexibility) or `histplot` (an axes-level function for histograms).\n",
      "  warnings.warn(msg, FutureWarning)\n",
      "/opt/anaconda3/lib/python3.8/site-packages/seaborn/distributions.py:2557: FutureWarning: `distplot` is a deprecated function and will be removed in a future version. Please adapt your code to use either `displot` (a figure-level function with similar flexibility) or `histplot` (an axes-level function for histograms).\n",
      "  warnings.warn(msg, FutureWarning)\n",
      "/opt/anaconda3/lib/python3.8/site-packages/seaborn/distributions.py:2557: FutureWarning: `distplot` is a deprecated function and will be removed in a future version. Please adapt your code to use either `displot` (a figure-level function with similar flexibility) or `histplot` (an axes-level function for histograms).\n",
      "  warnings.warn(msg, FutureWarning)\n",
      "/opt/anaconda3/lib/python3.8/site-packages/seaborn/distributions.py:2557: FutureWarning: `distplot` is a deprecated function and will be removed in a future version. Please adapt your code to use either `displot` (a figure-level function with similar flexibility) or `histplot` (an axes-level function for histograms).\n",
      "  warnings.warn(msg, FutureWarning)\n",
      "/opt/anaconda3/lib/python3.8/site-packages/seaborn/distributions.py:2557: FutureWarning: `distplot` is a deprecated function and will be removed in a future version. Please adapt your code to use either `displot` (a figure-level function with similar flexibility) or `histplot` (an axes-level function for histograms).\n",
      "  warnings.warn(msg, FutureWarning)\n",
      "/opt/anaconda3/lib/python3.8/site-packages/seaborn/distributions.py:2557: FutureWarning: `distplot` is a deprecated function and will be removed in a future version. Please adapt your code to use either `displot` (a figure-level function with similar flexibility) or `histplot` (an axes-level function for histograms).\n",
      "  warnings.warn(msg, FutureWarning)\n"
     ]
    }
   ],
   "source": [
    "f = './results/graph/'\n",
    "_, _, filenames = next(walk('./results'))\n",
    "filenames.sort() \n",
    "filenames.remove('.DS_Store')\n",
    "j = 0\n",
    "for i in filenames:\n",
    "    file = f+i[:-5]\n",
    "    coefs = read_json(\"./results/\"+i)['coefs']\n",
    "    store_graph_sorted_results(file,coefs)"
   ]
  },
  {
   "cell_type": "code",
   "execution_count": 23,
   "metadata": {},
   "outputs": [],
   "source": [
    "# x = [i for i in range(arr.shape[1])]\n",
    "# plt.bar(x,arr[0])"
   ]
  },
  {
   "cell_type": "code",
   "execution_count": 33,
   "metadata": {},
   "outputs": [
    {
     "name": "stdout",
     "output_type": "stream",
     "text": [
      "[0 1]\n",
      "(33, 1, 2048)\n",
      "(1, 2048)\n"
     ]
    }
   ],
   "source": [
    "adjust = arr >= 0.0001\n",
    "adjust = adjust.astype(int)\n",
    "print(np.unique(adjust))\n",
    "print(adjust.shape)\n",
    "adjust = np.sum(adjust,axis=0)\n",
    "print(adjust.shape)\n",
    "x = [i for i in range(adjust.shape[1])]\n",
    "\n",
    "\n",
    "\n",
    "# for i in range(arr.shape[0]):\n",
    "#     temp = np.count_nonzero(arr[i] < 0.00001)\n",
    "#     print(temp)\n"
   ]
  },
  {
   "cell_type": "code",
   "execution_count": 34,
   "metadata": {},
   "outputs": [],
   "source": [
    "\n",
    "# print(adjust.tolist())\n",
    "# plt.bar(x,adjust[0])"
   ]
  },
  {
   "cell_type": "code",
   "execution_count": 35,
   "metadata": {},
   "outputs": [
    {
     "data": {
      "text/plain": [
       "(1, 2048)"
      ]
     },
     "execution_count": 35,
     "metadata": {},
     "output_type": "execute_result"
    }
   ],
   "source": [
    "avg = np.average(arr,axis=0)\n",
    "avg.shape"
   ]
  },
  {
   "cell_type": "code",
   "execution_count": 74,
   "metadata": {},
   "outputs": [],
   "source": [
    "plt.bar(x, adjust[0])\n",
    "plt.xlabel('2048 features')\n",
    "plt.ylabel('count of 0s or 1s of all people')\n",
    "plt.savefig(\"out.png\")\n",
    "plt.close()\n",
    "\n",
    "plt.bar(x, avg[0])\n",
    "plt.xlabel('coefs')\n",
    "plt.ylabel('count)\n",
    "plt.savefig(\"out1.png\")\n",
    "plt.close()"
   ]
  },
  {
   "cell_type": "code",
   "execution_count": 55,
   "metadata": {},
   "outputs": [
    {
     "name": "stderr",
     "output_type": "stream",
     "text": [
      "/opt/anaconda3/lib/python3.8/site-packages/seaborn/distributions.py:2557: FutureWarning: `distplot` is a deprecated function and will be removed in a future version. Please adapt your code to use either `displot` (a figure-level function with similar flexibility) or `histplot` (an axes-level function for histograms).\n",
      "  warnings.warn(msg, FutureWarning)\n"
     ]
    },
    {
     "data": {
      "text/plain": [
       "<matplotlib.axes._subplots.AxesSubplot at 0x7fd8500cca30>"
      ]
     },
     "execution_count": 55,
     "metadata": {},
     "output_type": "execute_result"
    },
    {
     "data": {
      "image/png": "[encoded data removed]",
      "text/plain": [
       "<Figure size 432x288 with 1 Axes>"
      ]
     },
     "metadata": {
      "needs_background": "light"
     },
     "output_type": "display_data"
    }
   ],
   "source": [
    "# plt.hist(adjust[0])\n",
    "# plt.show()\n",
    "# plt.hist(avg[0])\n",
    "# plt.show()\n",
    "# sns.displot(adjust[0])\n",
    "# sns.displot(avg[0])\n",
    "from scipy.stats import norm\n",
    "sns.distplot(avg[0], fit=norm, kde=False)"
   ]
  },
  {
   "cell_type": "code",
   "execution_count": 79,
   "metadata": {},
   "outputs": [
    {
     "data": {
      "text/plain": [
       "[[804, 0.05230801212036928],\n",
       " [806, 0.04605059854948604],\n",
       " [662, 0.04322432418538339],\n",
       " [807, 0.040164131369087946],\n",
       " [660, 0.039941619581343846],\n",
       " [658, 0.03963139554326239],\n",
       " [664, 0.03931243475420074],\n",
       " [805, 0.03897537758500393],\n",
       " [808, 0.038173616013959986],\n",
       " [408, 0.038145492282789205],\n",
       " [1908, 0.036638182785688804],\n",
       " [665, 0.03542696591015031],\n",
       " [803, 0.03513725681835987],\n",
       " [659, 0.034309891789396856],\n",
       " [802, 0.03421213441927609],\n",
       " [932, 0.033325867369515205],\n",
       " [663, 0.03281488623392152],\n",
       " [1909, 0.030802915120865394],\n",
       " [1108, 0.030007527912089653],\n",
       " [661, 0.028365983402905547]]"
      ]
     },
     "execution_count": 79,
     "metadata": {},
     "output_type": "execute_result"
    }
   ],
   "source": [
    "temp = [] \n",
    "for i in range(len(x)):\n",
    "    temp.append([x[i],avg[0][i]])\n",
    "temp.sort(key=lambda x:x[1],reverse=True)\n",
    "temp[:20]"
   ]
  },
  {
   "cell_type": "code",
   "execution_count": 255,
   "metadata": {},
   "outputs": [
    {
     "data": {
      "text/plain": [
       "['leave_one_order_33_stress_h100.json',\n",
       " 'leave_one_order_33_stress_h1000.json',\n",
       " 'leave_one_order_33_stress_l100.json',\n",
       " 'leave_one_order_33_stress_l1000.json',\n",
       " 'leave_one_order_33_stress_m100.json',\n",
       " 'leave_one_order_33_stress_m1000.json',\n",
       " 'leave_one_order_36_h100.json',\n",
       " 'leave_one_order_36_h1000.json',\n",
       " 'leave_one_order_36_l100.json',\n",
       " 'leave_one_order_36_l1000.json',\n",
       " 'leave_one_order_36_m100.json',\n",
       " 'leave_one_order_36_m1000.json',\n",
       " 'leave_one_order_42_h100.json',\n",
       " 'leave_one_order_42_h1000.json',\n",
       " 'leave_one_order_42_l100.json',\n",
       " 'leave_one_order_42_l1000.json',\n",
       " 'leave_one_order_42_m100.json',\n",
       " 'leave_one_order_42_m1000.json',\n",
       " 'leaveone_33_logistic100.json',\n",
       " 'leaveone_33_logistic1000.json',\n",
       " 'leaveone_39_logistic100.json',\n",
       " 'leaveone_39_logistic1000.json',\n",
       " 'leaveone_with_bad_logistic100.json',\n",
       " 'leaveone_with_bad_logistic1000.json',\n",
       " 'within_33logistic100.json',\n",
       " 'within_33logistic1000.json',\n",
       " 'within_39_logistic100.json',\n",
       " 'within_39_logistic1000.json',\n",
       " 'within_42_logistic100.json',\n",
       " 'within_42_logistic1000.json']"
      ]
     },
     "execution_count": 255,
     "metadata": {},
     "output_type": "execute_result"
    }
   ],
   "source": [
    "f = './results/'\n",
    "_, _, filenames = next(walk('./results'))\n",
    "filenames.sort() \n",
    "# print(filenames)\n",
    "fi = []\n",
    "for i in filenames:\n",
    "    if \"100\" in i:\n",
    "        fi.append(i)\n",
    "fi"
   ]
  },
  {
   "cell_type": "code",
   "execution_count": 144,
   "metadata": {},
   "outputs": [
    {
     "ename": "TypeError",
     "evalue": "can only concatenate list (not \"str\") to list",
     "output_type": "error",
     "traceback": [
      "\u001b[0;31m---------------------------------------------------------------------------\u001b[0m",
      "\u001b[0;31mTypeError\u001b[0m                                 Traceback (most recent call last)",
      "\u001b[0;32m<ipython-input-144-6695f8277f57>\u001b[0m in \u001b[0;36m<module>\u001b[0;34m\u001b[0m\n\u001b[0;32m----> 1\u001b[0;31m \u001b[0mleave39\u001b[0m \u001b[0;34m=\u001b[0m \u001b[0mread_json\u001b[0m\u001b[0;34m(\u001b[0m\u001b[0mf\u001b[0m\u001b[0;34m+\u001b[0m\u001b[0;34m'leaveone_39_logistic100.json'\u001b[0m\u001b[0;34m)\u001b[0m\u001b[0;34m[\u001b[0m\u001b[0;34m'avg_acc'\u001b[0m\u001b[0;34m]\u001b[0m\u001b[0;34m\u001b[0m\u001b[0;34m\u001b[0m\u001b[0m\n\u001b[0m\u001b[1;32m      2\u001b[0m \u001b[0;32mfor\u001b[0m \u001b[0mi\u001b[0m \u001b[0;32min\u001b[0m \u001b[0mrange\u001b[0m\u001b[0;34m(\u001b[0m\u001b[0;36m5\u001b[0m\u001b[0;34m)\u001b[0m\u001b[0;34m:\u001b[0m\u001b[0;34m\u001b[0m\u001b[0;34m\u001b[0m\u001b[0m\n\u001b[1;32m      3\u001b[0m     \u001b[0mleave39\u001b[0m\u001b[0;34m.\u001b[0m\u001b[0mappend\u001b[0m\u001b[0;34m(\u001b[0m\u001b[0;34m-\u001b[0m\u001b[0;36m1\u001b[0m\u001b[0;34m)\u001b[0m\u001b[0;34m\u001b[0m\u001b[0;34m\u001b[0m\u001b[0m\n\u001b[1;32m      4\u001b[0m \u001b[0mwithin\u001b[0m \u001b[0;34m=\u001b[0m \u001b[0mread_json\u001b[0m\u001b[0;34m(\u001b[0m\u001b[0mf\u001b[0m\u001b[0;34m+\u001b[0m\u001b[0;34m'within_42_logistic100.json'\u001b[0m\u001b[0;34m)\u001b[0m\u001b[0;34m[\u001b[0m\u001b[0;34m'avg_acc'\u001b[0m\u001b[0;34m]\u001b[0m\u001b[0;34m\u001b[0m\u001b[0;34m\u001b[0m\u001b[0m\n\u001b[1;32m      5\u001b[0m \u001b[0;32mfor\u001b[0m \u001b[0mi\u001b[0m \u001b[0;32min\u001b[0m \u001b[0mrange\u001b[0m\u001b[0;34m(\u001b[0m\u001b[0;36m2\u001b[0m\u001b[0;34m)\u001b[0m\u001b[0;34m:\u001b[0m\u001b[0;34m\u001b[0m\u001b[0;34m\u001b[0m\u001b[0m\n",
      "\u001b[0;31mTypeError\u001b[0m: can only concatenate list (not \"str\") to list"
     ]
    }
   ],
   "source": [
    "leave39 = read_json(f+'leaveone_39_logistic100.json')['avg_acc']\n",
    "for i in range(5):\n",
    "    leave39.append(-1)\n",
    "within = read_json(f+'within_42_logistic100.json')['avg_acc']\n",
    "for i in range(2):\n",
    "    within.append(-1)\n",
    "leave42 = read_json(f+'leaveone_with_bad_logistic100.json')['avg_acc']\n",
    "for i in range(2):\n",
    "    leave42.append(-1)"
   ]
  },
  {
   "cell_type": "code",
   "execution_count": 264,
   "metadata": {},
   "outputs": [],
   "source": [
    "n = \"0.1\"\n",
    "leave33 = read_json(f+'leaveone_33_logistic'+n+'.json')['avg_acc']\n",
    "csv_file = \"1\"+'.csv'\n",
    "df = pd.read_csv(csv_file)\n",
    "for _ in range(11):\n",
    "    leave33.append(None)\n",
    "df['between_classification.1'] = leave33[:42]\n",
    "df.to_csv(csv_file)"
   ]
  },
  {
   "cell_type": "code",
   "execution_count": 261,
   "metadata": {},
   "outputs": [
    {
     "name": "stdout",
     "output_type": "stream",
     "text": [
      "14 14\n",
      "14 14\n",
      "12 12\n",
      "[[0, 0.8888888888888888], [1, 0.6944444444444444], [2, 0.6666666666666666], [3, 0.4722222222222222], [4, 0.7777777777777778], [5, 0.75], [6, 0.6944444444444444], [7, 0.5833333333333334], [8, 0.7777777777777778], [9, 0.6388888888888888], [10, -1], [11, -1], [12, -1], [13, -1], [14, 0.6666666666666666], [15, 0.6388888888888888], [16, 0.5555555555555556], [17, 0.5277777777777778], [18, -1], [19, 0.7777777777777778], [20, 0.6111111111111112], [21, 0.7777777777777778], [22, 0.5833333333333334], [23, 0.6944444444444444], [24, 0.6666666666666666], [25, 0.6944444444444444], [26, 0.7777777777777778], [27, 0.7777777777777778], [28, 0.6666666666666666], [29, 0.6666666666666666], [30, 0.6111111111111112], [31, 0.8055555555555556], [32, 0.6666666666666666], [33, 0.6944444444444444], [34, -1], [35, 0.6666666666666666], [36, -1], [37, -1], [38, -1], [39, 0.7777777777777778]]\n",
      "[0.8888888888888888, 0.6944444444444444, 0.6666666666666666, 0.4722222222222222, 0.7777777777777778, 0.75, 0.6944444444444444, 0.5833333333333334, 0.7777777777777778, 0.6388888888888888, -1, -1, -1, -1, 0.6666666666666666, 0.6388888888888888, 0.5555555555555556, 0.5277777777777778, -1, 0.7777777777777778, 0.6111111111111112, 0.7777777777777778, 0.5833333333333334, 0.6944444444444444, 0.6666666666666666, 0.6944444444444444, 0.7777777777777778, 0.7777777777777778, 0.6666666666666666, 0.6666666666666666, 0.6111111111111112, 0.8055555555555556, 0.6666666666666666, 0.6944444444444444, -1, 0.6666666666666666, -1, -1, -1, 0.7777777777777778]\n"
     ]
    }
   ],
   "source": [
    "n = \"50\"\n",
    "l0 = read_json(f+'leave_one_order_33_stress_l'+n+'.json')['avg_acc']\n",
    "for i in range(2):\n",
    "    l0.append(-1)\n",
    "m0 = read_json(f+'leave_one_order_33_stress_m'+n+'.json')['avg_acc']\n",
    "for i in range(4):\n",
    "    m0.append(-1)\n",
    "h0 = read_json(f+'leave_one_order_33_stress_h'+n+'.json')['avg_acc']\n",
    "for i in range(3):\n",
    "    h0.append(-1)\n",
    "# l = [1, 6, 9, 10, 12, 16, 19, 23, 26, 29, 31, 32, 33, 39]\n",
    "# m = [3, 5, 7, 11, 15, 18, 20, 21, 22, 24, 28, 30, 34, 37] \n",
    "# h = [0, 2, 4, 8, 13, 14, 17, 25, 27, 35, 36, 38]\n",
    "l = [1, 6, 9, 16, 19, 23, 26, 29, 31, 32, 33, 39, 10, 12]\n",
    "m = [3, 5, 7, 15, 20, 21, 22, 24, 28, 30, 34, 37, 11, 18] \n",
    "h = [0, 2, 4, 8, 14, 17, 25, 27, 35, 38, 36, 13]\n",
    "def combines(arr,vals):\n",
    "    print(len(arr),len(vals))\n",
    "    for i in range(len(arr)):\n",
    "        arr[i] = [arr[i],vals[i]]\n",
    "    return arr \n",
    "temp = []\n",
    "temp = combines(l,l0) + combines(m,m0) + combines(h,h0)\n",
    "temp.sort(key=lambda x:x[0])\n",
    "final = []\n",
    "print(temp)\n",
    "for i in temp:\n",
    "    final.append(i[1])\n",
    "print(final)\n",
    "csv_file = n+'.csv'\n",
    "df = pd.read_csv(csv_file)"
   ]
  },
  {
   "cell_type": "code",
   "execution_count": 251,
   "metadata": {},
   "outputs": [],
   "source": [
    "for i in range(4):\n",
    "    final.append(-1)"
   ]
  },
  {
   "cell_type": "code",
   "execution_count": 252,
   "metadata": {},
   "outputs": [
    {
     "data": {
      "text/plain": [
       "Index(['Unnamed: 0', 'Unnamed: 0.1', 'Unnamed: 0.1.1', 'Unnamed: 0.1.1.1',\n",
       "       'Unnamed: 0.1.1.1.1', 'Unnamed: 0.1.1.1.1.1', 'Unnamed: 0.1.1.1.1.1.1',\n",
       "       'Exp_ID', 'exp_time', 'trais no.', 'note', 'signal_condition', 'gender',\n",
       "       'age', 'race', 'handiness', 'sleep condition', 'Q11', 'Q12', 'Q13',\n",
       "       'Q14', 'ID', 'ID_boy', 'ID_girl', 'within_classification', 'stress',\n",
       "       'stressGroup', '42set_ID', 'between_classification_all',\n",
       "       'between_stressGroup', '39set_ID', 'between_classification',\n",
       "       'between_stressGroup.1', '33set_ID', 'between_classification.1',\n",
       "       'between_stressGroup.2'],\n",
       "      dtype='object')"
      ]
     },
     "execution_count": 252,
     "metadata": {},
     "output_type": "execute_result"
    }
   ],
   "source": [
    "# csv_file = '1000.csv'\n",
    "# df = pd.read_csv(csv_file)\n",
    "df.columns"
   ]
  },
  {
   "cell_type": "code",
   "execution_count": 253,
   "metadata": {},
   "outputs": [],
   "source": [
    "df['between_stressGroup.2'] = final[:44]"
   ]
  },
  {
   "cell_type": "code",
   "execution_count": 139,
   "metadata": {},
   "outputs": [],
   "source": [
    "df['within_classification'] = within\n",
    "df['between_classification_all']=leave42\n",
    "df['between_classification']=leave39"
   ]
  },
  {
   "cell_type": "code",
   "execution_count": 254,
   "metadata": {},
   "outputs": [],
   "source": [
    "df.to_csv(csv_file)"
   ]
  },
  {
   "cell_type": "code",
   "execution_count": null,
   "metadata": {},
   "outputs": [],
   "source": []
  },
  {
   "cell_type": "code",
   "execution_count": 12,
   "metadata": {},
   "outputs": [],
   "source": [
    "import multiprocessing\n",
    "\n",
    "_MAX_ITERATIONS = 10\n",
    "\n",
    "def worker(numbers):\n",
    "    print(numbers)\n",
    "\n",
    "\n",
    "nums = [\"1\",\"2\",\"3\"]\n",
    "for i in nums:\n",
    "    p = multiprocessing.Process(target=worker, args=(i,))\n",
    "    p.start()"
   ]
  },
  {
   "cell_type": "code",
   "execution_count": 4,
   "metadata": {},
   "outputs": [
    {
     "data": {
      "text/plain": [
       "['leave_one_order_33_stress_l100.json',\n",
       " 'leave_one_order_33_stress_h0.1.json',\n",
       " 'leave_one_order_42_h1.json',\n",
       " 'within_33logistic1000.json',\n",
       " 'within_42_logistic100.json',\n",
       " 'leave_one_order_42_m50.json',\n",
       " 'leaveone_33_logistic50.json',\n",
       " 'within_33logistic100.json',\n",
       " 'leave_one_order_36_h1000.json',\n",
       " 'leave_one_order_33_stress_m1000.json',\n",
       " 'leave_one_order_33_stress_l1000.json',\n",
       " 'leaveone_33_logistic0.1.json',\n",
       " '.DS_Store',\n",
       " 'within_42_logistic50.json',\n",
       " 'leave_one_order_36_l50.json',\n",
       " 'leave_one_order_33_stress_m100.json',\n",
       " 'leave_one_order_33_stress_m50.json',\n",
       " 'leave_one_order_42_l1.json',\n",
       " 'leave_one_order_36_h50.json',\n",
       " 'leaveone_33_logistic1000.json',\n",
       " 'within_39_logistic50.json',\n",
       " 'within_39_logistic100.json',\n",
       " 'leave_one_order_42_l100.json',\n",
       " 'leave_one_order_42_h0.1.json',\n",
       " 'leave_one_order_36_l0.1.json',\n",
       " 'leave_one_order_36_h100.json',\n",
       " 'leave_one_order_36_m0.1.json',\n",
       " 'leave_one_order_42_m1.json',\n",
       " 'leave_one_order_42_m100.json',\n",
       " 'leave_one_order_42_h1000.json',\n",
       " 'leaveone_39_logistic0.1.json',\n",
       " 'leave_one_order_42_l0.1.json',\n",
       " 'leave_one_order_42_h100.json',\n",
       " 'within_39_logistic0.1.json',\n",
       " 'leaveone_with_bad_logistic1000.json',\n",
       " 'leave_one_order_36_l100.json',\n",
       " 'leave_one_order_42_l50.json',\n",
       " 'leave_one_order_36_h0.1.json',\n",
       " 'leave_one_order_36_m100.json',\n",
       " 'leave_one_order_42_l1000.json',\n",
       " 'leave_one_order_42_m1000.json',\n",
       " 'leave_one_order_33_stress_l50.json',\n",
       " 'leaveone_39_logistic100.json',\n",
       " 'leave_one_order_42_m0.1.json',\n",
       " 'leave_one_order_36_m50.json',\n",
       " 'leaveone_with_bad_logistic50.json',\n",
       " 'within_33logistic50.json',\n",
       " 'within_42_logistic0.1.json',\n",
       " 'leave_one_order_33_stress_h50.json',\n",
       " 'leave_one_order_33_stress_l0.1.json',\n",
       " 'leave_one_order_33_stress_h100.json',\n",
       " 'leave_one_order_36_l1000.json',\n",
       " 'leave_one_order_36_m1000.json',\n",
       " 'leaveone_39_logistic1000.json',\n",
       " 'within_42_logistic1000.json',\n",
       " 'leaveone_with_bad_logistic100.json',\n",
       " 'within_33logistic0.1.json',\n",
       " 'leaveone_with_bad_logistic01.json',\n",
       " 'leaveone_33_logistic100.json',\n",
       " 'within_39_logistic1000.json',\n",
       " 'leave_one_order_33_stress_h1000.json',\n",
       " 'leave_one_order_33_stress_m0.1.json',\n",
       " 'leaveone_39_logistic50.json',\n",
       " 'leave_one_order_42_h50.json']"
      ]
     },
     "execution_count": 4,
     "metadata": {},
     "output_type": "execute_result"
    }
   ],
   "source": [
    "filenames"
   ]
  },
  {
   "cell_type": "markdown",
   "metadata": {},
   "source": [
    "### Get feature importance \n",
    "- select faetures with highest frequences "
   ]
  },
  {
   "cell_type": "code",
   "execution_count": 15,
   "metadata": {},
   "outputs": [],
   "source": [
    "f = './results/feature_importance/'\n",
    "folders = [x[0] for x in os.walk(f)][1:]"
   ]
  },
  {
   "cell_type": "code",
   "execution_count": 21,
   "metadata": {},
   "outputs": [],
   "source": [
    "folders\n",
    "file = '/sorted_results.json'\n",
    "d = {} \n",
    "# go through each folder \n",
    "# increment by 1 or init \n",
    "for i in folders:\n",
    "    temp = read_json(i+file)\n",
    "    for index,val in temp['top_20']:\n",
    "        d[index] = d.get(index,0)+1"
   ]
  },
  {
   "cell_type": "code",
   "execution_count": 27,
   "metadata": {},
   "outputs": [],
   "source": [
    "import operator\n",
    "sorted_d = sorted(d.items(), key=operator.itemgetter(1),reverse=True)"
   ]
  },
  {
   "cell_type": "code",
   "execution_count": 37,
   "metadata": {},
   "outputs": [],
   "source": [
    "store = {\"results\":sorted_d}\n",
    "with open(\"feature_importance_restuls.josn\", 'w') as outfile:\n",
    "    json.dump(store, outfile)"
   ]
  },
  {
   "cell_type": "code",
   "execution_count": 34,
   "metadata": {},
   "outputs": [
    {
     "data": {
      "text/plain": [
       "dict_keys(['top_20', 'sorted'])"
      ]
     },
     "execution_count": 34,
     "metadata": {},
     "output_type": "execute_result"
    }
   ],
   "source": [
    "temp = read_json(folders[0]+file)\n",
    "temp.keys()"
   ]
  },
  {
   "cell_type": "code",
   "execution_count": 35,
   "metadata": {},
   "outputs": [
    {
     "data": {
      "text/plain": [
       "63"
      ]
     },
     "execution_count": 35,
     "metadata": {},
     "output_type": "execute_result"
    }
   ],
   "source": [
    "len(folders)"
   ]
  },
  {
   "cell_type": "code",
   "execution_count": 36,
   "metadata": {},
   "outputs": [
    {
     "data": {
      "text/plain": [
       "['./results/feature_importance/leave_one_order_36_l1000',\n",
       " './results/feature_importance/leave_one_order_36_m1000',\n",
       " './results/feature_importance/leaveone_39_logistic0.1',\n",
       " './results/feature_importance/within_39_logistic0.1',\n",
       " './results/feature_importance/leaveone_33_logistic100',\n",
       " './results/feature_importance/leave_one_order_42_m100',\n",
       " './results/feature_importance/within_39_logistic50',\n",
       " './results/feature_importance/within_42_logistic50',\n",
       " './results/feature_importance/leaveone_33_logistic50',\n",
       " './results/feature_importance/leave_one_order_36_l50',\n",
       " './results/feature_importance/leave_one_order_42_l100',\n",
       " './results/feature_importance/leaveone_39_logistic1000',\n",
       " './results/feature_importance/leave_one_order_42_h100',\n",
       " './results/feature_importance/leave_one_order_36_h50',\n",
       " './results/feature_importance/leave_one_order_36_h1000',\n",
       " './results/feature_importance/leaveone_33_logistic1000',\n",
       " './results/feature_importance/leaveone_with_bad_logistic100',\n",
       " './results/feature_importance/leave_one_order_42_h0.1',\n",
       " './results/feature_importance/leaveone_39_logistic50',\n",
       " './results/feature_importance/leave_one_order_42_l0.1',\n",
       " './results/feature_importance/leaveone_with_bad_logistic01',\n",
       " './results/feature_importance/within_33logistic1000',\n",
       " './results/feature_importance/within_39_logistic100',\n",
       " './results/feature_importance/leaveone_33_logistic0.1',\n",
       " './results/feature_importance/leave_one_order_42_m0.1',\n",
       " './results/feature_importance/leave_one_order_42_h50',\n",
       " './results/feature_importance/within_33logistic50',\n",
       " './results/feature_importance/leave_one_order_42_l50',\n",
       " './results/feature_importance/leave_one_order_33_stress_m50',\n",
       " './results/feature_importance/leaveone_39_logistic100',\n",
       " './results/feature_importance/leave_one_order_42_m1',\n",
       " './results/feature_importance/leave_one_order_33_stress_h100',\n",
       " './results/feature_importance/leave_one_order_36_m0.1',\n",
       " './results/feature_importance/leaveone_with_bad_logistic1000',\n",
       " './results/feature_importance/leave_one_order_42_l1',\n",
       " './results/feature_importance/leave_one_order_33_stress_l100',\n",
       " './results/feature_importance/within_42_logistic1000',\n",
       " './results/feature_importance/leave_one_order_33_stress_h50',\n",
       " './results/feature_importance/leave_one_order_33_stress_m100',\n",
       " './results/feature_importance/leave_one_order_36_h0.1',\n",
       " './results/feature_importance/leave_one_order_42_m50',\n",
       " './results/feature_importance/within_42_logistic100',\n",
       " './results/feature_importance/within_33logistic100',\n",
       " './results/feature_importance/leave_one_order_36_l0.1',\n",
       " './results/feature_importance/leave_one_order_33_stress_l50',\n",
       " './results/feature_importance/leave_one_order_42_h1000',\n",
       " './results/feature_importance/leave_one_order_33_stress_m1000',\n",
       " './results/feature_importance/within_42_logistic0.1',\n",
       " './results/feature_importance/within_33logistic0.1',\n",
       " './results/feature_importance/leave_one_order_36_l100',\n",
       " './results/feature_importance/leaveone_with_bad_logistic50',\n",
       " './results/feature_importance/leave_one_order_33_stress_l1000',\n",
       " './results/feature_importance/leave_one_order_33_stress_m0.1',\n",
       " './results/feature_importance/leave_one_order_36_h100',\n",
       " './results/feature_importance/leave_one_order_33_stress_l0.1',\n",
       " './results/feature_importance/leave_one_order_36_m50',\n",
       " './results/feature_importance/leave_one_order_42_m1000',\n",
       " './results/feature_importance/leave_one_order_33_stress_h1000',\n",
       " './results/feature_importance/leave_one_order_33_stress_h0.1',\n",
       " './results/feature_importance/leave_one_order_36_m100',\n",
       " './results/feature_importance/within_39_logistic1000',\n",
       " './results/feature_importance/leave_one_order_42_h1',\n",
       " './results/feature_importance/leave_one_order_42_l1000']"
      ]
     },
     "execution_count": 36,
     "metadata": {},
     "output_type": "execute_result"
    }
   ],
   "source": [
    "folders"
   ]
  },
  {
   "cell_type": "code",
   "execution_count": 38,
   "metadata": {},
   "outputs": [
    {
     "data": {
      "text/plain": [
       "2048"
      ]
     },
     "execution_count": 38,
     "metadata": {},
     "output_type": "execute_result"
    }
   ],
   "source": [
    "128*8*2"
   ]
  },
  {
   "cell_type": "code",
   "execution_count": null,
   "metadata": {},
   "outputs": [],
   "source": []
  }
 ],
 "metadata": {
  "kernelspec": {
   "display_name": "Python 3",
   "language": "python",
   "name": "python3"
  },
  "language_info": {
   "codemirror_mode": {
    "name": "ipython",
    "version": 3
   },
   "file_extension": ".py",
   "mimetype": "text/x-python",
   "name": "python",
   "nbconvert_exporter": "python",
   "pygments_lexer": "ipython3",
   "version": "3.8.3"
  }
 },
 "nbformat": 4,
 "nbformat_minor": 4
}
