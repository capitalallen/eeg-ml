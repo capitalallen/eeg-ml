{
  "nbformat": 4,
  "nbformat_minor": 0,
  "metadata": {
    "colab": {
      "name": "Copy of working-lstm-emotion-data_acc47.ipynb",
      "provenance": [],
      "collapsed_sections": []
    },
    "kernelspec": {
      "name": "python3",
      "display_name": "Python 3"
    }
  },
  "cells": [
    {
      "cell_type": "code",
      "metadata": {
        "id": "6NpVHDR_NSpv",
        "colab_type": "code",
        "outputId": "5c4442ee-2321-4ea3-c247-a9ed9cb56dbc",
        "colab": {
          "base_uri": "https://localhost:8080/",
          "height": 121
        }
      },
      "source": [
        "from google.colab import drive\n",
        "drive.mount('/content/gdrive')\n"
      ],
      "execution_count": 0,
      "outputs": [
        {
          "output_type": "stream",
          "text": [
            "Go to this URL in a browser: https://accounts.google.com/o/oauth2/auth?client_id=947318989803-6bn6qk8qdgf4n4g3pfee6491hc0brc4i.apps.googleusercontent.com&redirect_uri=urn%3aietf%3awg%3aoauth%3a2.0%3aoob&response_type=code&scope=email%20https%3a%2f%2fwww.googleapis.com%2fauth%2fdocs.test%20https%3a%2f%2fwww.googleapis.com%2fauth%2fdrive%20https%3a%2f%2fwww.googleapis.com%2fauth%2fdrive.photos.readonly%20https%3a%2f%2fwww.googleapis.com%2fauth%2fpeopleapi.readonly\n",
            "\n",
            "Enter your authorization code:\n",
            "··········\n",
            "Mounted at /content/gdrive\n"
          ],
          "name": "stdout"
        }
      ]
    },
    {
      "cell_type": "code",
      "metadata": {
        "id": "KFu9OVI5Nac6",
        "colab_type": "code",
        "colab": {}
      },
      "source": [
        "import pandas as pd\n",
        "import tensorflow as tf\n",
        "\n",
        "\n",
        "import numpy as np\n",
        "import random\n",
        "random.seed(72)"
      ],
      "execution_count": 0,
      "outputs": []
    },
    {
      "cell_type": "code",
      "metadata": {
        "id": "hVyRp4fENz-E",
        "colab_type": "code",
        "outputId": "8a45749d-020e-42b7-c8aa-cfd5ad37a8af",
        "colab": {
          "base_uri": "https://localhost:8080/",
          "height": 402
        }
      },
      "source": [
        "df=pd.read_csv(\"/content/gdrive/My Drive/data/emotion1channel.csv\")\n",
        "df"
      ],
      "execution_count": 0,
      "outputs": [
        {
          "output_type": "execute_result",
          "data": {
            "text/html": [
              "<div>\n",
              "<style scoped>\n",
              "    .dataframe tbody tr th:only-of-type {\n",
              "        vertical-align: middle;\n",
              "    }\n",
              "\n",
              "    .dataframe tbody tr th {\n",
              "        vertical-align: top;\n",
              "    }\n",
              "\n",
              "    .dataframe thead th {\n",
              "        text-align: right;\n",
              "    }\n",
              "</style>\n",
              "<table border=\"1\" class=\"dataframe\">\n",
              "  <thead>\n",
              "    <tr style=\"text-align: right;\">\n",
              "      <th></th>\n",
              "      <th>attention</th>\n",
              "      <th>meditation</th>\n",
              "      <th>delta</th>\n",
              "      <th>theta</th>\n",
              "      <th>lowAplha</th>\n",
              "      <th>highAlpha</th>\n",
              "      <th>lowBeta</th>\n",
              "      <th>highBeta</th>\n",
              "      <th>lowGamma</th>\n",
              "      <th>highGamma</th>\n",
              "      <th>class</th>\n",
              "    </tr>\n",
              "  </thead>\n",
              "  <tbody>\n",
              "    <tr>\n",
              "      <th>0</th>\n",
              "      <td>88</td>\n",
              "      <td>17</td>\n",
              "      <td>1290697</td>\n",
              "      <td>18187</td>\n",
              "      <td>6345</td>\n",
              "      <td>7462</td>\n",
              "      <td>7266</td>\n",
              "      <td>4278</td>\n",
              "      <td>2589</td>\n",
              "      <td>1228</td>\n",
              "      <td>7</td>\n",
              "    </tr>\n",
              "    <tr>\n",
              "      <th>1</th>\n",
              "      <td>88</td>\n",
              "      <td>17</td>\n",
              "      <td>105432</td>\n",
              "      <td>21344</td>\n",
              "      <td>8323</td>\n",
              "      <td>4496</td>\n",
              "      <td>4784</td>\n",
              "      <td>12071</td>\n",
              "      <td>2024</td>\n",
              "      <td>1123</td>\n",
              "      <td>7</td>\n",
              "    </tr>\n",
              "    <tr>\n",
              "      <th>2</th>\n",
              "      <td>83</td>\n",
              "      <td>29</td>\n",
              "      <td>732143</td>\n",
              "      <td>37527</td>\n",
              "      <td>48422</td>\n",
              "      <td>10286</td>\n",
              "      <td>9499</td>\n",
              "      <td>6050</td>\n",
              "      <td>2362</td>\n",
              "      <td>4157</td>\n",
              "      <td>7</td>\n",
              "    </tr>\n",
              "    <tr>\n",
              "      <th>3</th>\n",
              "      <td>80</td>\n",
              "      <td>26</td>\n",
              "      <td>21265</td>\n",
              "      <td>24517</td>\n",
              "      <td>7051</td>\n",
              "      <td>1790</td>\n",
              "      <td>9106</td>\n",
              "      <td>5771</td>\n",
              "      <td>1977</td>\n",
              "      <td>3265</td>\n",
              "      <td>7</td>\n",
              "    </tr>\n",
              "    <tr>\n",
              "      <th>4</th>\n",
              "      <td>69</td>\n",
              "      <td>20</td>\n",
              "      <td>349390</td>\n",
              "      <td>145647</td>\n",
              "      <td>10068</td>\n",
              "      <td>21707</td>\n",
              "      <td>11878</td>\n",
              "      <td>19883</td>\n",
              "      <td>9971</td>\n",
              "      <td>6592</td>\n",
              "      <td>7</td>\n",
              "    </tr>\n",
              "    <tr>\n",
              "      <th>...</th>\n",
              "      <td>...</td>\n",
              "      <td>...</td>\n",
              "      <td>...</td>\n",
              "      <td>...</td>\n",
              "      <td>...</td>\n",
              "      <td>...</td>\n",
              "      <td>...</td>\n",
              "      <td>...</td>\n",
              "      <td>...</td>\n",
              "      <td>...</td>\n",
              "      <td>...</td>\n",
              "    </tr>\n",
              "    <tr>\n",
              "      <th>13364</th>\n",
              "      <td>66</td>\n",
              "      <td>61</td>\n",
              "      <td>36288</td>\n",
              "      <td>10942</td>\n",
              "      <td>15819</td>\n",
              "      <td>4781</td>\n",
              "      <td>10488</td>\n",
              "      <td>11690</td>\n",
              "      <td>7245</td>\n",
              "      <td>2287</td>\n",
              "      <td>1</td>\n",
              "    </tr>\n",
              "    <tr>\n",
              "      <th>13365</th>\n",
              "      <td>63</td>\n",
              "      <td>81</td>\n",
              "      <td>434483</td>\n",
              "      <td>16548</td>\n",
              "      <td>25760</td>\n",
              "      <td>10239</td>\n",
              "      <td>7332</td>\n",
              "      <td>3822</td>\n",
              "      <td>9214</td>\n",
              "      <td>5527</td>\n",
              "      <td>1</td>\n",
              "    </tr>\n",
              "    <tr>\n",
              "      <th>13366</th>\n",
              "      <td>61</td>\n",
              "      <td>91</td>\n",
              "      <td>11198</td>\n",
              "      <td>21200</td>\n",
              "      <td>18905</td>\n",
              "      <td>20228</td>\n",
              "      <td>4850</td>\n",
              "      <td>12856</td>\n",
              "      <td>5412</td>\n",
              "      <td>7044</td>\n",
              "      <td>1</td>\n",
              "    </tr>\n",
              "    <tr>\n",
              "      <th>13367</th>\n",
              "      <td>56</td>\n",
              "      <td>88</td>\n",
              "      <td>537338</td>\n",
              "      <td>31723</td>\n",
              "      <td>1915</td>\n",
              "      <td>13033</td>\n",
              "      <td>10876</td>\n",
              "      <td>8500</td>\n",
              "      <td>7453</td>\n",
              "      <td>3461</td>\n",
              "      <td>1</td>\n",
              "    </tr>\n",
              "    <tr>\n",
              "      <th>13368</th>\n",
              "      <td>51</td>\n",
              "      <td>90</td>\n",
              "      <td>534966</td>\n",
              "      <td>54906</td>\n",
              "      <td>30588</td>\n",
              "      <td>22906</td>\n",
              "      <td>14624</td>\n",
              "      <td>17227</td>\n",
              "      <td>14293</td>\n",
              "      <td>3204</td>\n",
              "      <td>1</td>\n",
              "    </tr>\n",
              "  </tbody>\n",
              "</table>\n",
              "<p>13369 rows × 11 columns</p>\n",
              "</div>"
            ],
            "text/plain": [
              "       attention  meditation    delta  ...  lowGamma  highGamma  class\n",
              "0             88          17  1290697  ...      2589       1228      7\n",
              "1             88          17   105432  ...      2024       1123      7\n",
              "2             83          29   732143  ...      2362       4157      7\n",
              "3             80          26    21265  ...      1977       3265      7\n",
              "4             69          20   349390  ...      9971       6592      7\n",
              "...          ...         ...      ...  ...       ...        ...    ...\n",
              "13364         66          61    36288  ...      7245       2287      1\n",
              "13365         63          81   434483  ...      9214       5527      1\n",
              "13366         61          91    11198  ...      5412       7044      1\n",
              "13367         56          88   537338  ...      7453       3461      1\n",
              "13368         51          90   534966  ...     14293       3204      1\n",
              "\n",
              "[13369 rows x 11 columns]"
            ]
          },
          "metadata": {
            "tags": []
          },
          "execution_count": 3
        }
      ]
    },
    {
      "cell_type": "code",
      "metadata": {
        "id": "fAuGGx6UN-CL",
        "colab_type": "code",
        "outputId": "7e8f4b6b-9059-4c23-9f3f-003d768219e8",
        "colab": {
          "base_uri": "https://localhost:8080/",
          "height": 218
        }
      },
      "source": [
        "df.isnull().sum()"
      ],
      "execution_count": 0,
      "outputs": [
        {
          "output_type": "execute_result",
          "data": {
            "text/plain": [
              "attention     0\n",
              "meditation    0\n",
              "delta         0\n",
              "theta         0\n",
              "lowAplha      0\n",
              "highAlpha     0\n",
              "lowBeta       0\n",
              "highBeta      0\n",
              "lowGamma      0\n",
              "highGamma     0\n",
              "class         0\n",
              "dtype: int64"
            ]
          },
          "metadata": {
            "tags": []
          },
          "execution_count": 4
        }
      ]
    },
    {
      "cell_type": "code",
      "metadata": {
        "id": "CeukCO_2iDJa",
        "colab_type": "code",
        "outputId": "f5d9cec8-138f-4193-dfc9-54be06e9285c",
        "colab": {
          "base_uri": "https://localhost:8080/",
          "height": 34
        }
      },
      "source": [
        "#df=x=df[df['class']<5 ]\n",
        "df[\"class\"].unique()\n",
        "\n"
      ],
      "execution_count": 0,
      "outputs": [
        {
          "output_type": "execute_result",
          "data": {
            "text/plain": [
              "array([7, 5, 3, 4, 0, 2, 1, 6])"
            ]
          },
          "metadata": {
            "tags": []
          },
          "execution_count": 5
        }
      ]
    },
    {
      "cell_type": "code",
      "metadata": {
        "id": "YGjboqH2ulcT",
        "colab_type": "code",
        "outputId": "225c7459-d5e9-46f0-f492-2cf4e607afe1",
        "colab": {
          "base_uri": "https://localhost:8080/",
          "height": 195
        }
      },
      "source": [
        "df.loc[df[\"class\"] == 1, \"class\"] = 0\n",
        "df.loc[df[\"class\"] == 2, \"class\"] = 1\n",
        "df.loc[df[\"class\"] == 3, \"class\"] = 1\n",
        "df.loc[df[\"class\"] == 4, \"class\"] = 2\n",
        "df.loc[df[\"class\"] == 5, \"class\"] = 2\n",
        "df.loc[df[\"class\"] == 6, \"class\"] = 3\n",
        "df.loc[df[\"class\"] == 7, \"class\"] = 3\n",
        "df.head()"
      ],
      "execution_count": 0,
      "outputs": [
        {
          "output_type": "execute_result",
          "data": {
            "text/html": [
              "<div>\n",
              "<style scoped>\n",
              "    .dataframe tbody tr th:only-of-type {\n",
              "        vertical-align: middle;\n",
              "    }\n",
              "\n",
              "    .dataframe tbody tr th {\n",
              "        vertical-align: top;\n",
              "    }\n",
              "\n",
              "    .dataframe thead th {\n",
              "        text-align: right;\n",
              "    }\n",
              "</style>\n",
              "<table border=\"1\" class=\"dataframe\">\n",
              "  <thead>\n",
              "    <tr style=\"text-align: right;\">\n",
              "      <th></th>\n",
              "      <th>attention</th>\n",
              "      <th>meditation</th>\n",
              "      <th>delta</th>\n",
              "      <th>theta</th>\n",
              "      <th>lowAplha</th>\n",
              "      <th>highAlpha</th>\n",
              "      <th>lowBeta</th>\n",
              "      <th>highBeta</th>\n",
              "      <th>lowGamma</th>\n",
              "      <th>highGamma</th>\n",
              "      <th>class</th>\n",
              "    </tr>\n",
              "  </thead>\n",
              "  <tbody>\n",
              "    <tr>\n",
              "      <th>0</th>\n",
              "      <td>88</td>\n",
              "      <td>17</td>\n",
              "      <td>1290697</td>\n",
              "      <td>18187</td>\n",
              "      <td>6345</td>\n",
              "      <td>7462</td>\n",
              "      <td>7266</td>\n",
              "      <td>4278</td>\n",
              "      <td>2589</td>\n",
              "      <td>1228</td>\n",
              "      <td>3</td>\n",
              "    </tr>\n",
              "    <tr>\n",
              "      <th>1</th>\n",
              "      <td>88</td>\n",
              "      <td>17</td>\n",
              "      <td>105432</td>\n",
              "      <td>21344</td>\n",
              "      <td>8323</td>\n",
              "      <td>4496</td>\n",
              "      <td>4784</td>\n",
              "      <td>12071</td>\n",
              "      <td>2024</td>\n",
              "      <td>1123</td>\n",
              "      <td>3</td>\n",
              "    </tr>\n",
              "    <tr>\n",
              "      <th>2</th>\n",
              "      <td>83</td>\n",
              "      <td>29</td>\n",
              "      <td>732143</td>\n",
              "      <td>37527</td>\n",
              "      <td>48422</td>\n",
              "      <td>10286</td>\n",
              "      <td>9499</td>\n",
              "      <td>6050</td>\n",
              "      <td>2362</td>\n",
              "      <td>4157</td>\n",
              "      <td>3</td>\n",
              "    </tr>\n",
              "    <tr>\n",
              "      <th>3</th>\n",
              "      <td>80</td>\n",
              "      <td>26</td>\n",
              "      <td>21265</td>\n",
              "      <td>24517</td>\n",
              "      <td>7051</td>\n",
              "      <td>1790</td>\n",
              "      <td>9106</td>\n",
              "      <td>5771</td>\n",
              "      <td>1977</td>\n",
              "      <td>3265</td>\n",
              "      <td>3</td>\n",
              "    </tr>\n",
              "    <tr>\n",
              "      <th>4</th>\n",
              "      <td>69</td>\n",
              "      <td>20</td>\n",
              "      <td>349390</td>\n",
              "      <td>145647</td>\n",
              "      <td>10068</td>\n",
              "      <td>21707</td>\n",
              "      <td>11878</td>\n",
              "      <td>19883</td>\n",
              "      <td>9971</td>\n",
              "      <td>6592</td>\n",
              "      <td>3</td>\n",
              "    </tr>\n",
              "  </tbody>\n",
              "</table>\n",
              "</div>"
            ],
            "text/plain": [
              "   attention  meditation    delta   theta  ...  highBeta  lowGamma  highGamma  class\n",
              "0         88          17  1290697   18187  ...      4278      2589       1228      3\n",
              "1         88          17   105432   21344  ...     12071      2024       1123      3\n",
              "2         83          29   732143   37527  ...      6050      2362       4157      3\n",
              "3         80          26    21265   24517  ...      5771      1977       3265      3\n",
              "4         69          20   349390  145647  ...     19883      9971       6592      3\n",
              "\n",
              "[5 rows x 11 columns]"
            ]
          },
          "metadata": {
            "tags": []
          },
          "execution_count": 6
        }
      ]
    },
    {
      "cell_type": "code",
      "metadata": {
        "id": "U_XO16Wnigct",
        "colab_type": "code",
        "outputId": "880e42df-599f-4b0d-ab12-e566145a0cc6",
        "colab": {
          "base_uri": "https://localhost:8080/",
          "height": 402
        }
      },
      "source": [
        "#x=df.drop([\"class\"]  ,axis=1)\n",
        "x=df.drop([\"class\",\"attention\",\"meditation\"]  ,axis=1)\n",
        "#x=df\n",
        "x"
      ],
      "execution_count": 0,
      "outputs": [
        {
          "output_type": "execute_result",
          "data": {
            "text/html": [
              "<div>\n",
              "<style scoped>\n",
              "    .dataframe tbody tr th:only-of-type {\n",
              "        vertical-align: middle;\n",
              "    }\n",
              "\n",
              "    .dataframe tbody tr th {\n",
              "        vertical-align: top;\n",
              "    }\n",
              "\n",
              "    .dataframe thead th {\n",
              "        text-align: right;\n",
              "    }\n",
              "</style>\n",
              "<table border=\"1\" class=\"dataframe\">\n",
              "  <thead>\n",
              "    <tr style=\"text-align: right;\">\n",
              "      <th></th>\n",
              "      <th>delta</th>\n",
              "      <th>theta</th>\n",
              "      <th>lowAplha</th>\n",
              "      <th>highAlpha</th>\n",
              "      <th>lowBeta</th>\n",
              "      <th>highBeta</th>\n",
              "      <th>lowGamma</th>\n",
              "      <th>highGamma</th>\n",
              "    </tr>\n",
              "  </thead>\n",
              "  <tbody>\n",
              "    <tr>\n",
              "      <th>0</th>\n",
              "      <td>1290697</td>\n",
              "      <td>18187</td>\n",
              "      <td>6345</td>\n",
              "      <td>7462</td>\n",
              "      <td>7266</td>\n",
              "      <td>4278</td>\n",
              "      <td>2589</td>\n",
              "      <td>1228</td>\n",
              "    </tr>\n",
              "    <tr>\n",
              "      <th>1</th>\n",
              "      <td>105432</td>\n",
              "      <td>21344</td>\n",
              "      <td>8323</td>\n",
              "      <td>4496</td>\n",
              "      <td>4784</td>\n",
              "      <td>12071</td>\n",
              "      <td>2024</td>\n",
              "      <td>1123</td>\n",
              "    </tr>\n",
              "    <tr>\n",
              "      <th>2</th>\n",
              "      <td>732143</td>\n",
              "      <td>37527</td>\n",
              "      <td>48422</td>\n",
              "      <td>10286</td>\n",
              "      <td>9499</td>\n",
              "      <td>6050</td>\n",
              "      <td>2362</td>\n",
              "      <td>4157</td>\n",
              "    </tr>\n",
              "    <tr>\n",
              "      <th>3</th>\n",
              "      <td>21265</td>\n",
              "      <td>24517</td>\n",
              "      <td>7051</td>\n",
              "      <td>1790</td>\n",
              "      <td>9106</td>\n",
              "      <td>5771</td>\n",
              "      <td>1977</td>\n",
              "      <td>3265</td>\n",
              "    </tr>\n",
              "    <tr>\n",
              "      <th>4</th>\n",
              "      <td>349390</td>\n",
              "      <td>145647</td>\n",
              "      <td>10068</td>\n",
              "      <td>21707</td>\n",
              "      <td>11878</td>\n",
              "      <td>19883</td>\n",
              "      <td>9971</td>\n",
              "      <td>6592</td>\n",
              "    </tr>\n",
              "    <tr>\n",
              "      <th>...</th>\n",
              "      <td>...</td>\n",
              "      <td>...</td>\n",
              "      <td>...</td>\n",
              "      <td>...</td>\n",
              "      <td>...</td>\n",
              "      <td>...</td>\n",
              "      <td>...</td>\n",
              "      <td>...</td>\n",
              "    </tr>\n",
              "    <tr>\n",
              "      <th>13364</th>\n",
              "      <td>36288</td>\n",
              "      <td>10942</td>\n",
              "      <td>15819</td>\n",
              "      <td>4781</td>\n",
              "      <td>10488</td>\n",
              "      <td>11690</td>\n",
              "      <td>7245</td>\n",
              "      <td>2287</td>\n",
              "    </tr>\n",
              "    <tr>\n",
              "      <th>13365</th>\n",
              "      <td>434483</td>\n",
              "      <td>16548</td>\n",
              "      <td>25760</td>\n",
              "      <td>10239</td>\n",
              "      <td>7332</td>\n",
              "      <td>3822</td>\n",
              "      <td>9214</td>\n",
              "      <td>5527</td>\n",
              "    </tr>\n",
              "    <tr>\n",
              "      <th>13366</th>\n",
              "      <td>11198</td>\n",
              "      <td>21200</td>\n",
              "      <td>18905</td>\n",
              "      <td>20228</td>\n",
              "      <td>4850</td>\n",
              "      <td>12856</td>\n",
              "      <td>5412</td>\n",
              "      <td>7044</td>\n",
              "    </tr>\n",
              "    <tr>\n",
              "      <th>13367</th>\n",
              "      <td>537338</td>\n",
              "      <td>31723</td>\n",
              "      <td>1915</td>\n",
              "      <td>13033</td>\n",
              "      <td>10876</td>\n",
              "      <td>8500</td>\n",
              "      <td>7453</td>\n",
              "      <td>3461</td>\n",
              "    </tr>\n",
              "    <tr>\n",
              "      <th>13368</th>\n",
              "      <td>534966</td>\n",
              "      <td>54906</td>\n",
              "      <td>30588</td>\n",
              "      <td>22906</td>\n",
              "      <td>14624</td>\n",
              "      <td>17227</td>\n",
              "      <td>14293</td>\n",
              "      <td>3204</td>\n",
              "    </tr>\n",
              "  </tbody>\n",
              "</table>\n",
              "<p>12610 rows × 8 columns</p>\n",
              "</div>"
            ],
            "text/plain": [
              "         delta   theta  lowAplha  ...  highBeta  lowGamma  highGamma\n",
              "0      1290697   18187      6345  ...      4278      2589       1228\n",
              "1       105432   21344      8323  ...     12071      2024       1123\n",
              "2       732143   37527     48422  ...      6050      2362       4157\n",
              "3        21265   24517      7051  ...      5771      1977       3265\n",
              "4       349390  145647     10068  ...     19883      9971       6592\n",
              "...        ...     ...       ...  ...       ...       ...        ...\n",
              "13364    36288   10942     15819  ...     11690      7245       2287\n",
              "13365   434483   16548     25760  ...      3822      9214       5527\n",
              "13366    11198   21200     18905  ...     12856      5412       7044\n",
              "13367   537338   31723      1915  ...      8500      7453       3461\n",
              "13368   534966   54906     30588  ...     17227     14293       3204\n",
              "\n",
              "[12610 rows x 8 columns]"
            ]
          },
          "metadata": {
            "tags": []
          },
          "execution_count": 8
        }
      ]
    },
    {
      "cell_type": "code",
      "metadata": {
        "id": "gh-pmcOAjqvK",
        "colab_type": "code",
        "outputId": "35fd7846-7770-4a8e-d044-9a02fe861a1c",
        "colab": {
          "base_uri": "https://localhost:8080/",
          "height": 151
        }
      },
      "source": [
        "y = df.loc[:,'class'].values\n",
        "print(y)\n",
        "print(x.values)\n",
        "x=x.values\n"
      ],
      "execution_count": 0,
      "outputs": [
        {
          "output_type": "stream",
          "text": [
            "[3 3 3 ... 0 0 0]\n",
            "[[1290697   18187    6345 ...    4278    2589    1228]\n",
            " [ 105432   21344    8323 ...   12071    2024    1123]\n",
            " [ 732143   37527   48422 ...    6050    2362    4157]\n",
            " ...\n",
            " [  11198   21200   18905 ...   12856    5412    7044]\n",
            " [ 537338   31723    1915 ...    8500    7453    3461]\n",
            " [ 534966   54906   30588 ...   17227   14293    3204]]\n"
          ],
          "name": "stdout"
        }
      ]
    },
    {
      "cell_type": "code",
      "metadata": {
        "id": "jE5RURdCs_e-",
        "colab_type": "code",
        "outputId": "5be67bae-905b-4278-8da0-9ce4689461bb",
        "colab": {
          "base_uri": "https://localhost:8080/",
          "height": 151
        }
      },
      "source": [
        "from sklearn.preprocessing import StandardScaler\n",
        "scaler = StandardScaler()\n",
        "scaler.fit(x)\n",
        "x = scaler.transform(x)\n",
        "from keras.utils import to_categorical\n",
        "y = to_categorical(y)\n",
        "y"
      ],
      "execution_count": 0,
      "outputs": [
        {
          "output_type": "stream",
          "text": [
            "Using TensorFlow backend.\n"
          ],
          "name": "stderr"
        },
        {
          "output_type": "execute_result",
          "data": {
            "text/plain": [
              "array([[0., 0., 0., 1.],\n",
              "       [0., 0., 0., 1.],\n",
              "       [0., 0., 0., 1.],\n",
              "       ...,\n",
              "       [1., 0., 0., 0.],\n",
              "       [1., 0., 0., 0.],\n",
              "       [1., 0., 0., 0.]], dtype=float32)"
            ]
          },
          "metadata": {
            "tags": []
          },
          "execution_count": 10
        }
      ]
    },
    {
      "cell_type": "code",
      "metadata": {
        "id": "sICGfmO7kDVN",
        "colab_type": "code",
        "colab": {}
      },
      "source": [
        "from sklearn.model_selection import train_test_split\n",
        "x_train, x_test, y_train, y_test = train_test_split(x, y, test_size = 0.2, random_state = 4)"
      ],
      "execution_count": 0,
      "outputs": []
    },
    {
      "cell_type": "code",
      "metadata": {
        "id": "B9ycOxB3o1FJ",
        "colab_type": "code",
        "colab": {}
      },
      "source": [
        "x_train = np.reshape(x_train, (x_train.shape[0],1,x.shape[1]))\n",
        "x_test = np.reshape(x_test, (x_test.shape[0],1,x.shape[1]))\n"
      ],
      "execution_count": 0,
      "outputs": []
    },
    {
      "cell_type": "code",
      "metadata": {
        "id": "ddNd6dwtsGPP",
        "colab_type": "code",
        "outputId": "76980845-46d3-4944-df46-2d6e0b19b3db",
        "colab": {
          "base_uri": "https://localhost:8080/",
          "height": 319
        }
      },
      "source": [
        "from tensorflow.keras import Sequential\n",
        "\n",
        "from tensorflow.keras.layers import Dense, Dropout\n",
        "from tensorflow.keras.layers import Embedding\n",
        "from tensorflow.keras.layers import LSTM\n",
        "tf.keras.backend.clear_session()\n",
        "\n",
        "model = Sequential()\n",
        "model.add(LSTM(64, input_shape=(1,8),activation=\"relu\",return_sequences=True))\n",
        "model.add(Dropout(0.2))\n",
        "model.add(LSTM(32,activation=\"sigmoid\"))\n",
        "model.add(Dropout(0.5))\n",
        "#model.add(LSTM(100,return_sequences=True))\n",
        "#model.add(Dropout(0.2))\n",
        "#model.add(LSTM(50))\n",
        "#model.add(Dropout(0.2))\n",
        "model.add(Dense(4, activation='sigmoid'))\n",
        "from keras.optimizers import SGD\n",
        "model.compile(loss = 'categorical_crossentropy', optimizer = \"adam\", metrics = ['accuracy'])\n",
        "model.summary()"
      ],
      "execution_count": 0,
      "outputs": [
        {
          "output_type": "stream",
          "text": [
            "Model: \"sequential\"\n",
            "_________________________________________________________________\n",
            "Layer (type)                 Output Shape              Param #   \n",
            "=================================================================\n",
            "lstm (LSTM)                  (None, 1, 64)             18688     \n",
            "_________________________________________________________________\n",
            "dropout (Dropout)            (None, 1, 64)             0         \n",
            "_________________________________________________________________\n",
            "lstm_1 (LSTM)                (None, 32)                12416     \n",
            "_________________________________________________________________\n",
            "dropout_1 (Dropout)          (None, 32)                0         \n",
            "_________________________________________________________________\n",
            "dense (Dense)                (None, 4)                 132       \n",
            "=================================================================\n",
            "Total params: 31,236\n",
            "Trainable params: 31,236\n",
            "Non-trainable params: 0\n",
            "_________________________________________________________________\n"
          ],
          "name": "stdout"
        }
      ]
    },
    {
      "cell_type": "code",
      "metadata": {
        "id": "dCWqeiQFnr6R",
        "colab_type": "code",
        "outputId": "fb12bc12-49a0-48c1-f333-affd847cf625",
        "colab": {
          "base_uri": "https://localhost:8080/",
          "height": 370
        }
      },
      "source": [
        "#history = model.fit(x_train, y_train, validation_split=0.33, epochs=50, batch_size=10, verbose=0)\n",
        "\n",
        "history = model.fit(x_train, y_train, epochs = 10, validation_data= (x_test, y_test))\n",
        "score, acc = model.evaluate(x_test, y_test)\n"
      ],
      "execution_count": 0,
      "outputs": [
        {
          "output_type": "stream",
          "text": [
            "Epoch 1/10\n",
            "316/316 [==============================] - 1s 4ms/step - loss: 1.3410 - accuracy: 0.3936 - val_loss: 1.2226 - val_accuracy: 0.5063\n",
            "Epoch 2/10\n",
            "316/316 [==============================] - 1s 3ms/step - loss: 1.2449 - accuracy: 0.5006 - val_loss: 1.2185 - val_accuracy: 0.5063\n",
            "Epoch 3/10\n",
            "316/316 [==============================] - 1s 3ms/step - loss: 1.2356 - accuracy: 0.5020 - val_loss: 1.2171 - val_accuracy: 0.5063\n",
            "Epoch 4/10\n",
            "316/316 [==============================] - 1s 3ms/step - loss: 1.2314 - accuracy: 0.5018 - val_loss: 1.2158 - val_accuracy: 0.5063\n",
            "Epoch 5/10\n",
            "316/316 [==============================] - 1s 3ms/step - loss: 1.2304 - accuracy: 0.5018 - val_loss: 1.2157 - val_accuracy: 0.5063\n",
            "Epoch 6/10\n",
            "316/316 [==============================] - 1s 3ms/step - loss: 1.2292 - accuracy: 0.5020 - val_loss: 1.2150 - val_accuracy: 0.5063\n",
            "Epoch 7/10\n",
            "316/316 [==============================] - 1s 3ms/step - loss: 1.2269 - accuracy: 0.5017 - val_loss: 1.2148 - val_accuracy: 0.5063\n",
            "Epoch 8/10\n",
            "316/316 [==============================] - 1s 3ms/step - loss: 1.2233 - accuracy: 0.5015 - val_loss: 1.2150 - val_accuracy: 0.5063\n",
            "Epoch 9/10\n",
            "316/316 [==============================] - 1s 3ms/step - loss: 1.2247 - accuracy: 0.5018 - val_loss: 1.2145 - val_accuracy: 0.5063\n",
            "Epoch 10/10\n",
            "316/316 [==============================] - 1s 3ms/step - loss: 1.2228 - accuracy: 0.5018 - val_loss: 1.2140 - val_accuracy: 0.5063\n",
            "79/79 [==============================] - 0s 1ms/step - loss: 1.2140 - accuracy: 0.5063\n"
          ],
          "name": "stdout"
        }
      ]
    },
    {
      "cell_type": "code",
      "metadata": {
        "id": "AUaeKFadBMTh",
        "colab_type": "code",
        "outputId": "fad02389-cf0f-4549-d900-1425f7cecb9e",
        "colab": {
          "base_uri": "https://localhost:8080/",
          "height": 50
        }
      },
      "source": [
        "print('Test score:', score)\n",
        "print('Test accuracy:', acc)\n"
      ],
      "execution_count": 0,
      "outputs": [
        {
          "output_type": "stream",
          "text": [
            "Test score: 1.2140363454818726\n",
            "Test accuracy: 0.506344199180603\n"
          ],
          "name": "stdout"
        }
      ]
    },
    {
      "cell_type": "code",
      "metadata": {
        "id": "daXPd6uMrkhy",
        "colab_type": "code",
        "outputId": "0500dd72-8095-4277-c10b-62ccb0a21ba5",
        "colab": {
          "base_uri": "https://localhost:8080/",
          "height": 67
        }
      },
      "source": [
        "\n",
        "from sklearn.metrics import accuracy_score\n",
        "pred = model.predict(x_test)\n",
        "predict_classes = np.argmax(pred,axis=1)\n",
        "expected_classes = np.argmax(y_test,axis=1)\n",
        "print(expected_classes.shape)\n",
        "print(predict_classes.shape)\n",
        "correct = accuracy_score(expected_classes,predict_classes)\n",
        "print(f\"Training Accuracy: {correct}\")"
      ],
      "execution_count": 0,
      "outputs": [
        {
          "output_type": "stream",
          "text": [
            "(2522,)\n",
            "(2522,)\n",
            "Training Accuracy: 0.5063441712926249\n"
          ],
          "name": "stdout"
        }
      ]
    },
    {
      "cell_type": "code",
      "metadata": {
        "id": "7075Dhqj64hc",
        "colab_type": "code",
        "outputId": "f80b3333-112c-4c17-936e-4ea826d93011",
        "colab": {
          "base_uri": "https://localhost:8080/",
          "height": 50
        }
      },
      "source": [
        "print(predict_classes.shape)\n",
        "print(expected_classes.shape)\n"
      ],
      "execution_count": 0,
      "outputs": [
        {
          "output_type": "stream",
          "text": [
            "(2522,)\n",
            "(2522,)\n"
          ],
          "name": "stdout"
        }
      ]
    }
  ]
}