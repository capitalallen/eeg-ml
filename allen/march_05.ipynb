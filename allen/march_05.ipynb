{
 "cells": [
  {
   "cell_type": "code",
   "execution_count": 80,
   "metadata": {},
   "outputs": [],
   "source": [
    "import mat73\n",
    "import numpy as np\n",
    "import matplotlib.pyplot as plt\n",
    "from sklearn.linear_model import LogisticRegression\n",
    "from sklearn.metrics import r2_score\n",
    "from sklearn.metrics import mean_squared_error\n",
    "from IPython.display import display\n",
    "from sklearn.metrics import accuracy_score\n",
    "from sklearn.utils import shuffle\n",
    "from sklearn.ensemble import RandomForestClassifier\n",
    "from sklearn.model_selection import GridSearchCV\n",
    "import pandas as pd \n",
    "import json\n",
    "from os import walk\n",
    "import seaborn as sns\n",
    "from pathlib import Path"
   ]
  },
  {
   "cell_type": "code",
   "execution_count": 2,
   "metadata": {},
   "outputs": [],
   "source": [
    "def read_json(file_name):\n",
    "    with open(file_name) as f:\n",
    "      data = json.load(f)\n",
    "    return data"
   ]
  },
  {
   "cell_type": "code",
   "execution_count": 3,
   "metadata": {},
   "outputs": [
    {
     "data": {
      "text/plain": [
       "['within_42_logistic100.json',\n",
       " '.DS_Store',\n",
       " 'within_42_logistic50.json',\n",
       " 'leaveone_with_bad_logistic1000.json',\n",
       " 'leaveone_with_bad_logistic50.json',\n",
       " 'within_42_logistic0.1.json',\n",
       " 'within_42_logistic1000.json',\n",
       " 'leaveone_with_bad_logistic100.json',\n",
       " 'leaveone_with_bad_logistic01.json']"
      ]
     },
     "execution_count": 3,
     "metadata": {},
     "output_type": "execute_result"
    }
   ],
   "source": [
    "f = './results'\n",
    "_, _, filenames = next(walk('./results'))\n",
    "filenames"
   ]
  },
  {
   "cell_type": "code",
   "execution_count": 26,
   "metadata": {},
   "outputs": [],
   "source": [
    "df = read_json(\"./results/\"+filenames[3])"
   ]
  },
  {
   "cell_type": "code",
   "execution_count": 27,
   "metadata": {},
   "outputs": [
    {
     "data": {
      "text/plain": [
       "dict_keys(['name', 'avg_acc', 'coefs'])"
      ]
     },
     "execution_count": 27,
     "metadata": {},
     "output_type": "execute_result"
    }
   ],
   "source": [
    "df.keys()"
   ]
  },
  {
   "cell_type": "code",
   "execution_count": 28,
   "metadata": {},
   "outputs": [],
   "source": [
    "arr = np.array(df['coefs'])"
   ]
  },
  {
   "cell_type": "code",
   "execution_count": 81,
   "metadata": {},
   "outputs": [],
   "source": [
    "\"\"\"\n",
    "input: folder, coefs_np_arr\n",
    "change to abs value \n",
    "store only 0 and 1 to adjust \n",
    "store avg of all people to avg \n",
    "plot \n",
    "store sorted and top 20 to json file \n",
    "\"\"\"\n",
    "def write_to_json(file_name,avg_acc,coefs):\n",
    "    data = {} \n",
    "    data['top_20'] = avg_acc\n",
    "    data['sorted'] = coefs\n",
    "    with open(file_name, 'w') as outfile:\n",
    "        json.dump(data, outfile)\n",
    "def store_graph_sorted_results(folder,arr,threhold=0.0001):\n",
    "    Path(folder).mkdir(parents=True, exist_ok=True)\n",
    "    folder += \"/\"\n",
    "    arr = np.absolute(arr)\n",
    "    adjust = arr >= threhold\n",
    "    adjust = adjust.astype(int)\n",
    "    adjust = np.sum(adjust,axis=0)\n",
    "    x = [i for i in range(adjust.shape[1])]\n",
    "    \n",
    "    avg = np.average(arr,axis=0)\n",
    "\n",
    "    plt.bar(x, adjust[0])\n",
    "    plt.xlabel('2048 features')\n",
    "    plt.ylabel('count of 0s or 1s of all people')\n",
    "    plt.savefig(folder+\"count.png\")\n",
    "    plt.close()\n",
    "\n",
    "    plt.bar(x, avg[0])\n",
    "    plt.xlabel('2048 features')\n",
    "    plt.ylabel('coef of average of all people')\n",
    "    plt.savefig(folder+\"results.png\")\n",
    "    plt.close()\n",
    "    \n",
    "    temp = [] \n",
    "    for i in range(len(x)):\n",
    "        temp.append([x[i],avg[0][i]])\n",
    "    temp.sort(key=lambda x:x[1],reverse=True)\n",
    "    write_to_json(folder+\"sorted_results.json\",temp[:20],temp)"
   ]
  },
  {
   "cell_type": "code",
   "execution_count": 39,
   "metadata": {},
   "outputs": [],
   "source": [
    "# arr = np.reshape(arr,(arr.shape[0],arr.shape[2]))\n",
    "arr.shape\n",
    "arr = np.absolute(arr)"
   ]
  },
  {
   "cell_type": "code",
   "execution_count": 40,
   "metadata": {},
   "outputs": [],
   "source": [
    "# x = [i for i in range(arr.shape[1])]\n",
    "# plt.bar(x,arr[0])"
   ]
  },
  {
   "cell_type": "code",
   "execution_count": 66,
   "metadata": {},
   "outputs": [
    {
     "name": "stdout",
     "output_type": "stream",
     "text": [
      "[0 1]\n",
      "(42, 1, 2048)\n",
      "(1, 2048)\n"
     ]
    }
   ],
   "source": [
    "adjust = arr >= 0.0001\n",
    "adjust = adjust.astype(int)\n",
    "print(np.unique(adjust))\n",
    "print(adjust.shape)\n",
    "adjust = np.sum(adjust,axis=0)\n",
    "print(adjust.shape)\n",
    "x = [i for i in range(adjust.shape[1])]\n",
    "\n",
    "\n",
    "\n",
    "# for i in range(arr.shape[0]):\n",
    "#     temp = np.count_nonzero(arr[i] < 0.00001)\n",
    "#     print(temp)\n"
   ]
  },
  {
   "cell_type": "code",
   "execution_count": 67,
   "metadata": {},
   "outputs": [],
   "source": [
    "\n",
    "# print(adjust.tolist())\n",
    "# plt.bar(x,adjust[0])"
   ]
  },
  {
   "cell_type": "code",
   "execution_count": 68,
   "metadata": {},
   "outputs": [
    {
     "data": {
      "text/plain": [
       "(1, 2048)"
      ]
     },
     "execution_count": 68,
     "metadata": {},
     "output_type": "execute_result"
    }
   ],
   "source": [
    "avg = np.average(arr,axis=0)\n",
    "avg.shape"
   ]
  },
  {
   "cell_type": "code",
   "execution_count": 74,
   "metadata": {},
   "outputs": [],
   "source": [
    "plt.bar(x, adjust[0])\n",
    "plt.xlabel('2048 features')\n",
    "plt.ylabel('count of 0s or 1s of all people')\n",
    "plt.savefig(\"out.png\")\n",
    "plt.close()\n",
    "\n",
    "plt.bar(x, avg[0])\n",
    "plt.xlabel('2048 features')\n",
    "plt.ylabel('coef of average of all people')\n",
    "plt.savefig(\"out1.png\")\n",
    "plt.close()"
   ]
  },
  {
   "cell_type": "code",
   "execution_count": 55,
   "metadata": {},
   "outputs": [
    {
     "name": "stderr",
     "output_type": "stream",
     "text": [
      "/opt/anaconda3/lib/python3.8/site-packages/seaborn/distributions.py:2557: FutureWarning: `distplot` is a deprecated function and will be removed in a future version. Please adapt your code to use either `displot` (a figure-level function with similar flexibility) or `histplot` (an axes-level function for histograms).\n",
      "  warnings.warn(msg, FutureWarning)\n"
     ]
    },
    {
     "data": {
      "text/plain": [
       "<matplotlib.axes._subplots.AxesSubplot at 0x7fc35430ce80>"
      ]
     },
     "execution_count": 55,
     "metadata": {},
     "output_type": "execute_result"
    },
    {
     "data": {
      "image/png": "[encoded data removed]",
      "text/plain": [
       "<Figure size 432x288 with 1 Axes>"
      ]
     },
     "metadata": {
      "needs_background": "light"
     },
     "output_type": "display_data"
    }
   ],
   "source": [
    "sns.distplot(avg[0], hist=True, kde=False, \n",
    "             bins=int(180/5), color = 'blue',\n",
    "             hist_kws={'edgecolor':'black'})"
   ]
  },
  {
   "cell_type": "code",
   "execution_count": 79,
   "metadata": {},
   "outputs": [
    {
     "data": {
      "text/plain": [
       "[[804, 0.05230801212036928],\n",
       " [806, 0.04605059854948604],\n",
       " [662, 0.04322432418538339],\n",
       " [807, 0.040164131369087946],\n",
       " [660, 0.039941619581343846],\n",
       " [658, 0.03963139554326239],\n",
       " [664, 0.03931243475420074],\n",
       " [805, 0.03897537758500393],\n",
       " [808, 0.038173616013959986],\n",
       " [408, 0.038145492282789205],\n",
       " [1908, 0.036638182785688804],\n",
       " [665, 0.03542696591015031],\n",
       " [803, 0.03513725681835987],\n",
       " [659, 0.034309891789396856],\n",
       " [802, 0.03421213441927609],\n",
       " [932, 0.033325867369515205],\n",
       " [663, 0.03281488623392152],\n",
       " [1909, 0.030802915120865394],\n",
       " [1108, 0.030007527912089653],\n",
       " [661, 0.028365983402905547]]"
      ]
     },
     "execution_count": 79,
     "metadata": {},
     "output_type": "execute_result"
    }
   ],
   "source": [
    "temp = [] \n",
    "for i in range(len(x)):\n",
    "    temp.append([x[i],avg[0][i]])\n",
    "temp.sort(key=lambda x:x[1],reverse=True)\n",
    "temp[:20]"
   ]
  },
  {
   "cell_type": "code",
   "execution_count": null,
   "metadata": {},
   "outputs": [],
   "source": []
  }
 ],
 "metadata": {
  "kernelspec": {
   "display_name": "Python 3",
   "language": "python",
   "name": "python3"
  },
  "language_info": {
   "codemirror_mode": {
    "name": "ipython",
    "version": 3
   },
   "file_extension": ".py",
   "mimetype": "text/x-python",
   "name": "python",
   "nbconvert_exporter": "python",
   "pygments_lexer": "ipython3",
   "version": "3.8.3"
  }
 },
 "nbformat": 4,
 "nbformat_minor": 4
}
