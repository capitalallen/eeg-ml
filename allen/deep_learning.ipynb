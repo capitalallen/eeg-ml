{
 "cells": [
  {
   "cell_type": "code",
   "execution_count": 47,
   "metadata": {},
   "outputs": [],
   "source": [
    "from prep_data import Data_prepare\n",
    "import numpy as np \n",
    "import os \n",
    "# import prep_data"
   ]
  },
  {
   "cell_type": "markdown",
   "metadata": {},
   "source": [
    "###  Data preprocessing \n",
    "1. covert mat data to numpy array \n",
    "2. combine male and female data to one array \n",
    "3. if needed, remove certain rows \n",
    "4. get postive and negative of Xs \n",
    "    - order difference or net vs neg \n",
    "5. reshape each X: 128*8*2 = 2048 \n",
    "    - input: data \n",
    "6. generate labels for x \n",
    "    - input: data and label_type (0:zeros, 1: ones )\n",
    "7. combine net and neg \n",
    "    - input: netX,netY,negX,negY"
   ]
  },
  {
   "cell_type": "code",
   "execution_count": 48,
   "metadata": {},
   "outputs": [],
   "source": [
    "dp = Data_prepare() \n",
    "pos = [[0,3],[0,2],[0,1],[0,0]]\n",
    "neg = [[1,3],[1,2],[1,1],[1,0]]\n",
    "# netural vs postive \n",
    "# pos = [[0,0],[0,1],[1,2],[1,3],[2,0],[2,1],[2,2],[2,3]]\n",
    "# neg = [[0,2],[0,3],[1,0],[1,1],[3,0],[3,1],[3,2],[3,3]] \n",
    "m_file = \"./raw_data/Emotrans1_Boy_data_preprocessed_42.mat\" \n",
    "f_file = \"./raw_data/Emotrans1_girl_data_preprocessed_42.mat\"\n",
    "index=[40,41]\n",
    "df = dp.combine_male_female(m_file,f_file)\n",
    "df = dp.remove_person(df,index)\n",
    "pos_df = dp.get_pos_or_neg(df,pos)\n",
    "neg_df = dp.get_pos_or_neg(df,neg)\n",
    "pos_sequeezed = dp.squeeze_feature_size(pos_df)\n",
    "neg_sequeezed = dp.squeeze_feature_size(neg_df)\n",
    "pos_labels = dp.generate_labels(pos_sequeezed,1)\n",
    "neg_labels = dp.generate_labels(neg_sequeezed,0)\n",
    "x,y = dp.combine_net_neg(pos_sequeezed,pos_labels,neg_sequeezed,neg_labels)"
   ]
  },
  {
   "cell_type": "code",
   "execution_count": 49,
   "metadata": {},
   "outputs": [],
   "source": [
    "## (40,) -> 40*36*2048\n",
    "def flatten(data):\n",
    "    res = data[0]\n",
    "    for i in range(1,data.shape[0]):\n",
    "        res = np.append(res,data[i],axis=0)\n",
    "    return res \n",
    "new_x = flatten(x)\n",
    "new_y = flatten(y)"
   ]
  },
  {
   "cell_type": "code",
   "execution_count": 50,
   "metadata": {},
   "outputs": [
    {
     "name": "stdout",
     "output_type": "stream",
     "text": [
      "(1404, 2048) (1404, 1)\n"
     ]
    }
   ],
   "source": [
    "print(new_x.shape,new_y.shape)\n"
   ]
  },
  {
   "cell_type": "markdown",
   "metadata": {},
   "source": [
    "#### Normalize x with standardScaler"
   ]
  },
  {
   "cell_type": "code",
   "execution_count": 51,
   "metadata": {},
   "outputs": [],
   "source": [
    "from sklearn.preprocessing import StandardScaler\n",
    "scaler = StandardScaler()\n",
    "scaler.fit(new_x)\n",
    "new_x = scaler.transform(new_x)"
   ]
  },
  {
   "cell_type": "code",
   "execution_count": 52,
   "metadata": {},
   "outputs": [
    {
     "name": "stdout",
     "output_type": "stream",
     "text": [
      "(1404, 2048) (1404, 1)\n"
     ]
    }
   ],
   "source": [
    "print(new_x.shape,new_y.shape)"
   ]
  },
  {
   "cell_type": "code",
   "execution_count": 53,
   "metadata": {},
   "outputs": [],
   "source": [
    "from sklearn.model_selection import train_test_split\n",
    "x_train, x_test, y_train, y_test = train_test_split(new_x, new_y, test_size = 0.1, random_state = 4)"
   ]
  },
  {
   "cell_type": "code",
   "execution_count": 54,
   "metadata": {},
   "outputs": [
    {
     "name": "stdout",
     "output_type": "stream",
     "text": [
      "(1263, 2048) (1263, 1)\n"
     ]
    }
   ],
   "source": [
    "print(x_train.shape,y_train.shape)"
   ]
  },
  {
   "cell_type": "code",
   "execution_count": 55,
   "metadata": {},
   "outputs": [],
   "source": [
    "## reshape x_train and x_test to 3D for LSTM \n",
    "x_train = np.reshape(x_train, (x_train.shape[0],1,new_x.shape[1]))\n",
    "x_test = np.reshape(x_test, (x_test.shape[0],1,new_x.shape[1]))"
   ]
  },
  {
   "cell_type": "code",
   "execution_count": 56,
   "metadata": {},
   "outputs": [],
   "source": [
    "# y_train = np.asarray(y_train).astype('float32').reshape((-1,1))\n",
    "# y_test = np.asarray(y_test).astype('float32').reshape((-1,1))"
   ]
  },
  {
   "cell_type": "code",
   "execution_count": 57,
   "metadata": {},
   "outputs": [
    {
     "name": "stdout",
     "output_type": "stream",
     "text": [
      "(1263, 1, 2048) (141, 1, 2048)\n",
      "(1263, 1) (141, 1)\n"
     ]
    }
   ],
   "source": [
    "print(x_train.shape,x_test.shape)\n",
    "print(y_train.shape,y_test.shape)"
   ]
  },
  {
   "cell_type": "markdown",
   "metadata": {},
   "source": [
    "#### LSTM model "
   ]
  },
  {
   "cell_type": "code",
   "execution_count": 58,
   "metadata": {},
   "outputs": [
    {
     "name": "stdout",
     "output_type": "stream",
     "text": [
      "Model: \"sequential\"\n",
      "_________________________________________________________________\n",
      "Layer (type)                 Output Shape              Param #   \n",
      "=================================================================\n",
      "lstm (LSTM)                  (None, 1, 128)            1114624   \n",
      "_________________________________________________________________\n",
      "dropout (Dropout)            (None, 1, 128)            0         \n",
      "_________________________________________________________________\n",
      "lstm_1 (LSTM)                (None, 1, 32)             20608     \n",
      "_________________________________________________________________\n",
      "dropout_1 (Dropout)          (None, 1, 32)             0         \n",
      "_________________________________________________________________\n",
      "lstm_2 (LSTM)                (None, 16)                3136      \n",
      "_________________________________________________________________\n",
      "dropout_2 (Dropout)          (None, 16)                0         \n",
      "_________________________________________________________________\n",
      "dense (Dense)                (None, 2)                 34        \n",
      "=================================================================\n",
      "Total params: 1,138,402\n",
      "Trainable params: 1,138,402\n",
      "Non-trainable params: 0\n",
      "_________________________________________________________________\n"
     ]
    }
   ],
   "source": [
    "import tensorflow as tf\n",
    "from tensorflow.keras import Sequential\n",
    "\n",
    "from tensorflow.keras.layers import Dense, Dropout\n",
    "from tensorflow.keras.layers import Embedding\n",
    "from tensorflow.keras.layers import LSTM\n",
    "tf.keras.backend.clear_session()\n",
    "\n",
    "model = Sequential()\n",
    "model.add(LSTM(128, input_shape=(1,2048),activation=\"relu\",return_sequences=True))\n",
    "model.add(Dropout(0.2))\n",
    "model.add(LSTM(32,activation=\"sigmoid\",return_sequences=True))\n",
    "model.add(Dropout(0.2))\n",
    "model.add(LSTM(16,activation=\"sigmoid\"))\n",
    "model.add(Dropout(0.2))\n",
    "# model.add(LSTM(50))\n",
    "# model.add(Dropout(0.2))\n",
    "model.add(Dense(2, activation='softmax'))\n",
    "from keras.optimizers import SGD\n",
    "model.compile(loss = 'sparse_categorical_crossentropy', optimizer = \"adam\", metrics = ['accuracy'])\n",
    "model.summary()"
   ]
  },
  {
   "cell_type": "code",
   "execution_count": 59,
   "metadata": {},
   "outputs": [
    {
     "name": "stdout",
     "output_type": "stream",
     "text": [
      "Epoch 1/13\n",
      " 1/40 [..............................] - ETA: 0s - loss: 0.7311 - accuracy: 0.4375WARNING:tensorflow:From /opt/conda/lib/python3.7/site-packages/tensorflow/python/ops/summary_ops_v2.py:1277: stop (from tensorflow.python.eager.profiler) is deprecated and will be removed after 2020-07-01.\n",
      "Instructions for updating:\n",
      "use `tf.profiler.experimental.stop` instead.\n",
      " 2/40 [>.............................] - ETA: 4s - loss: 0.6957 - accuracy: 0.5156WARNING:tensorflow:Callbacks method `on_train_batch_end` is slow compared to the batch time (batch time: 0.0219s vs `on_train_batch_end` time: 0.2123s). Check your callbacks.\n",
      "40/40 [==============================] - 1s 24ms/step - loss: 0.6954 - accuracy: 0.5083 - val_loss: 0.6760 - val_accuracy: 0.5816\n",
      "Epoch 2/13\n",
      "40/40 [==============================] - 0s 9ms/step - loss: 0.6541 - accuracy: 0.6041 - val_loss: 0.6358 - val_accuracy: 0.6738\n",
      "Epoch 3/13\n",
      "40/40 [==============================] - 0s 9ms/step - loss: 0.6212 - accuracy: 0.6683 - val_loss: 0.6134 - val_accuracy: 0.6950\n",
      "Epoch 4/13\n",
      "40/40 [==============================] - 0s 9ms/step - loss: 0.5867 - accuracy: 0.7086 - val_loss: 0.6062 - val_accuracy: 0.6809\n",
      "Epoch 5/13\n",
      "40/40 [==============================] - 0s 9ms/step - loss: 0.5762 - accuracy: 0.7189 - val_loss: 0.5900 - val_accuracy: 0.7092\n",
      "Epoch 6/13\n",
      "40/40 [==============================] - 0s 9ms/step - loss: 0.5645 - accuracy: 0.7268 - val_loss: 0.5818 - val_accuracy: 0.7021\n",
      "Epoch 7/13\n",
      "40/40 [==============================] - 0s 8ms/step - loss: 0.5586 - accuracy: 0.7284 - val_loss: 0.5858 - val_accuracy: 0.7092\n",
      "Epoch 8/13\n",
      "40/40 [==============================] - 0s 8ms/step - loss: 0.5518 - accuracy: 0.7427 - val_loss: 0.5842 - val_accuracy: 0.7021\n",
      "Epoch 9/13\n",
      "40/40 [==============================] - 0s 9ms/step - loss: 0.5393 - accuracy: 0.7458 - val_loss: 0.5824 - val_accuracy: 0.6950\n",
      "Epoch 10/13\n",
      "40/40 [==============================] - 0s 9ms/step - loss: 0.5327 - accuracy: 0.7443 - val_loss: 0.5668 - val_accuracy: 0.7305\n",
      "Epoch 11/13\n",
      "40/40 [==============================] - 0s 8ms/step - loss: 0.5272 - accuracy: 0.7498 - val_loss: 0.5677 - val_accuracy: 0.7234\n",
      "Epoch 12/13\n",
      "40/40 [==============================] - 0s 9ms/step - loss: 0.5151 - accuracy: 0.7728 - val_loss: 0.5576 - val_accuracy: 0.7447\n",
      "Epoch 13/13\n",
      "40/40 [==============================] - 0s 9ms/step - loss: 0.5094 - accuracy: 0.7838 - val_loss: 0.5866 - val_accuracy: 0.7021\n",
      "5/5 [==============================] - 0s 2ms/step - loss: 0.5866 - accuracy: 0.7021\n"
     ]
    }
   ],
   "source": [
    "import datetime\n",
    "logdir = os.path.join(\"logs\", datetime.datetime.now().strftime(\"%Y%m%d-%H%M%S\"))\n",
    "tensorboard_callback = tf.keras.callbacks.TensorBoard(logdir, histogram_freq=1)\n",
    "history = model.fit(x_train, y_train, epochs = 13, validation_data= (x_test, y_test),callbacks=[tensorboard_callback])\n",
    "score, acc = model.evaluate(x_test, y_test)"
   ]
  },
  {
   "cell_type": "code",
   "execution_count": 60,
   "metadata": {},
   "outputs": [
    {
     "name": "stdout",
     "output_type": "stream",
     "text": [
      "The tensorboard extension is already loaded. To reload it, use:\n",
      "  %reload_ext tensorboard\n"
     ]
    }
   ],
   "source": [
    "%load_ext tensorboard"
   ]
  },
  {
   "cell_type": "code",
   "execution_count": 62,
   "metadata": {},
   "outputs": [],
   "source": [
    "# %tensorboard --logdir logs"
   ]
  },
  {
   "cell_type": "markdown",
   "metadata": {},
   "source": [
    "#### CRNN "
   ]
  },
  {
   "cell_type": "code",
   "execution_count": null,
   "metadata": {},
   "outputs": [],
   "source": [
    "input_shape = (1,2048)\n",
    "model = Sequential()\n",
    "model.add(Conv2D(40, (30, 1), activation=\"relu\", kernel_regularizer=regularizers.l1(l1), padding=\"same\", input_shape=input_shape))\n",
    "model.add(Conv2D(40, (1, nchan), activation=\"relu\", kernel_regularizer=regularizers.l1(l1), padding=\"valid\"))\n",
    "model.add(AveragePooling2D((30, 1), strides=(15, 1)))\n",
    "model.add(Flatten())\n",
    "model.add(Dense(80, activation=\"relu\"))\n",
    "model.add(Dense(nclasses, activation=\"softmax\"))\n",
    "model.compile(loss=\"categorical_crossentropy\", optimizer=\"adam\", metrics=[\"acc\"])\n",
    "return model"
   ]
  }
 ],
 "metadata": {
  "kernelspec": {
   "display_name": "Python 3",
   "language": "python",
   "name": "python3"
  },
  "language_info": {
   "codemirror_mode": {
    "name": "ipython",
    "version": 3
   },
   "file_extension": ".py",
   "mimetype": "text/x-python",
   "name": "python",
   "nbconvert_exporter": "python",
   "pygments_lexer": "ipython3",
   "version": "3.7.9"
  }
 },
 "nbformat": 4,
 "nbformat_minor": 4
}
