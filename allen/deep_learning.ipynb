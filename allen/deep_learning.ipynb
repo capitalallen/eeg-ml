{
 "cells": [
  {
   "cell_type": "code",
   "execution_count": 17,
   "metadata": {},
   "outputs": [],
   "source": [
    "from prep_data import Data_prepare\n",
    "import numpy as np \n",
    "import os \n",
    "# import prep_data"
   ]
  },
  {
   "cell_type": "markdown",
   "metadata": {},
   "source": [
    "###  Data preprocessing \n",
    "1. covert mat data to numpy array \n",
    "2. combine male and female data to one array \n",
    "3. if needed, remove certain rows \n",
    "4. get postive and negative of Xs \n",
    "    - order difference or net vs neg \n",
    "5. reshape each X: 128*8*2 = 2048 \n",
    "    - input: data \n",
    "6. generate labels for x \n",
    "    - input: data and label_type (0:zeros, 1: ones )\n",
    "7. combine net and neg \n",
    "    - input: netX,netY,negX,negY"
   ]
  },
  {
   "cell_type": "code",
   "execution_count": 2,
   "metadata": {},
   "outputs": [
    {
     "name": "stderr",
     "output_type": "stream",
     "text": [
      "/Users/allen/Documents/course/4490/Jan.29/allen/prep_data.py:20: VisibleDeprecationWarning: Creating an ndarray from ragged nested sequences (which is a list-or-tuple of lists-or-tuples-or ndarrays with different lengths or shapes) is deprecated. If you meant to do this, you must specify 'dtype=object' when creating the ndarray\n",
      "  return np.array(data_dict_female[\"All_Feature\"])\n",
      "/Users/allen/Documents/course/4490/Jan.29/allen/prep_data.py:17: VisibleDeprecationWarning: Creating an ndarray from ragged nested sequences (which is a list-or-tuple of lists-or-tuples-or ndarrays with different lengths or shapes) is deprecated. If you meant to do this, you must specify 'dtype=object' when creating the ndarray\n",
      "  return np.array(data_dict_female[\"All_Feature\"])\n",
      "/Users/allen/Documents/course/4490/Jan.29/allen/prep_data.py:51: VisibleDeprecationWarning: Creating an ndarray from ragged nested sequences (which is a list-or-tuple of lists-or-tuples-or ndarrays with different lengths or shapes) is deprecated. If you meant to do this, you must specify 'dtype=object' when creating the ndarray\n",
      "  return np.array(arr)\n",
      "/Users/allen/Documents/course/4490/Jan.29/allen/prep_data.py:95: VisibleDeprecationWarning: Creating an ndarray from ragged nested sequences (which is a list-or-tuple of lists-or-tuples-or ndarrays with different lengths or shapes) is deprecated. If you meant to do this, you must specify 'dtype=object' when creating the ndarray\n",
      "  return np.array(new_data)\n",
      "/Users/allen/Documents/course/4490/Jan.29/allen/prep_data.py:126: VisibleDeprecationWarning: Creating an ndarray from ragged nested sequences (which is a list-or-tuple of lists-or-tuples-or ndarrays with different lengths or shapes) is deprecated. If you meant to do this, you must specify 'dtype=object' when creating the ndarray\n",
      "  return np.array(label)\n",
      "/Users/allen/Documents/course/4490/Jan.29/allen/prep_data.py:134: VisibleDeprecationWarning: Creating an ndarray from ragged nested sequences (which is a list-or-tuple of lists-or-tuples-or ndarrays with different lengths or shapes) is deprecated. If you meant to do this, you must specify 'dtype=object' when creating the ndarray\n",
      "  return np.array(new_x),np.array(new_y)\n"
     ]
    }
   ],
   "source": [
    "dp = Data_prepare() \n",
    "pos = [[0,3],[0,2],[0,1],[0,0]]\n",
    "neg = [[1,3],[1,2],[1,1],[1,0]]\n",
    "# netural vs postive \n",
    "# pos = [[0,0],[0,1],[1,2],[1,3],[2,0],[2,1],[2,2],[2,3]]\n",
    "# neg = [[0,2],[0,3],[1,0],[1,1],[3,0],[3,1],[3,2],[3,3]] \n",
    "m_file = \"./raw_data/Emotrans1_Boy_data_preprocessed_42.mat\" \n",
    "f_file = \"./raw_data/Emotrans1_girl_data_preprocessed_42.mat\"\n",
    "index=[40,41]\n",
    "df = dp.combine_male_female(m_file,f_file)\n",
    "df = dp.remove_person(df,index)\n",
    "pos_df = dp.get_pos_or_neg(df,pos)\n",
    "neg_df = dp.get_pos_or_neg(df,neg)\n",
    "pos_sequeezed = dp.squeeze_feature_size(pos_df)\n",
    "neg_sequeezed = dp.squeeze_feature_size(neg_df)\n",
    "pos_labels = dp.generate_labels(pos_sequeezed,1)\n",
    "neg_labels = dp.generate_labels(neg_sequeezed,0)\n",
    "x,y = dp.combine_net_neg(pos_sequeezed,pos_labels,neg_sequeezed,neg_labels)"
   ]
  },
  {
   "cell_type": "code",
   "execution_count": 3,
   "metadata": {},
   "outputs": [],
   "source": [
    "## (40,) -> 40*36*2048\n",
    "def flatten(data):\n",
    "    res = data[0]\n",
    "    for i in range(1,data.shape[0]):\n",
    "        res = np.append(res,data[i],axis=0)\n",
    "    return res \n",
    "new_x = flatten(x)\n",
    "new_y = flatten(y)"
   ]
  },
  {
   "cell_type": "code",
   "execution_count": 4,
   "metadata": {},
   "outputs": [
    {
     "name": "stdout",
     "output_type": "stream",
     "text": [
      "(1404, 2048) (1404, 1)\n"
     ]
    }
   ],
   "source": [
    "print(new_x.shape,new_y.shape)\n"
   ]
  },
  {
   "cell_type": "markdown",
   "metadata": {},
   "source": [
    "#### Normalize x with standardScaler"
   ]
  },
  {
   "cell_type": "code",
   "execution_count": 5,
   "metadata": {},
   "outputs": [],
   "source": [
    "from sklearn.preprocessing import StandardScaler\n",
    "scaler = StandardScaler()\n",
    "scaler.fit(new_x)\n",
    "new_x = scaler.transform(new_x)"
   ]
  },
  {
   "cell_type": "code",
   "execution_count": 6,
   "metadata": {},
   "outputs": [
    {
     "name": "stdout",
     "output_type": "stream",
     "text": [
      "(1404, 2048) (1404, 1)\n"
     ]
    }
   ],
   "source": [
    "print(new_x.shape,new_y.shape)"
   ]
  },
  {
   "cell_type": "code",
   "execution_count": 7,
   "metadata": {},
   "outputs": [],
   "source": [
    "from sklearn.model_selection import train_test_split\n",
    "x_train, x_test, y_train, y_test = train_test_split(new_x, new_y, test_size = 0.1, random_state = 4)"
   ]
  },
  {
   "cell_type": "code",
   "execution_count": 8,
   "metadata": {},
   "outputs": [
    {
     "name": "stdout",
     "output_type": "stream",
     "text": [
      "(1263, 2048) (1263, 1)\n"
     ]
    }
   ],
   "source": [
    "print(x_train.shape,y_train.shape)"
   ]
  },
  {
   "cell_type": "code",
   "execution_count": 9,
   "metadata": {},
   "outputs": [],
   "source": [
    "## reshape x_train and x_test to 3D for LSTM \n",
    "x_train = np.reshape(x_train, (x_train.shape[0],1,new_x.shape[1]))\n",
    "x_test = np.reshape(x_test, (x_test.shape[0],1,new_x.shape[1]))"
   ]
  },
  {
   "cell_type": "code",
   "execution_count": 10,
   "metadata": {},
   "outputs": [],
   "source": [
    "# y_train = np.asarray(y_train).astype('float32').reshape((-1,1))\n",
    "# y_test = np.asarray(y_test).astype('float32').reshape((-1,1))"
   ]
  },
  {
   "cell_type": "code",
   "execution_count": 11,
   "metadata": {},
   "outputs": [
    {
     "name": "stdout",
     "output_type": "stream",
     "text": [
      "(1263, 1, 2048) (141, 1, 2048)\n",
      "(1263, 1) (141, 1)\n"
     ]
    }
   ],
   "source": [
    "print(x_train.shape,x_test.shape)\n",
    "print(y_train.shape,y_test.shape)"
   ]
  },
  {
   "cell_type": "markdown",
   "metadata": {},
   "source": [
    "#### LSTM model "
   ]
  },
  {
   "cell_type": "code",
   "execution_count": 18,
   "metadata": {},
   "outputs": [
    {
     "name": "stdout",
     "output_type": "stream",
     "text": [
      "Model: \"sequential\"\n",
      "_________________________________________________________________\n",
      "Layer (type)                 Output Shape              Param #   \n",
      "=================================================================\n",
      "lstm (LSTM)                  (None, 1, 128)            1114624   \n",
      "_________________________________________________________________\n",
      "dropout (Dropout)            (None, 1, 128)            0         \n",
      "_________________________________________________________________\n",
      "lstm_1 (LSTM)                (None, 1, 32)             20608     \n",
      "_________________________________________________________________\n",
      "dropout_1 (Dropout)          (None, 1, 32)             0         \n",
      "_________________________________________________________________\n",
      "lstm_2 (LSTM)                (None, 16)                3136      \n",
      "_________________________________________________________________\n",
      "dropout_2 (Dropout)          (None, 16)                0         \n",
      "_________________________________________________________________\n",
      "dense (Dense)                (None, 2)                 34        \n",
      "=================================================================\n",
      "Total params: 1,138,402\n",
      "Trainable params: 1,138,402\n",
      "Non-trainable params: 0\n",
      "_________________________________________________________________\n"
     ]
    }
   ],
   "source": [
    "import tensorflow as tf\n",
    "from tensorflow.keras import Sequential\n",
    "\n",
    "from tensorflow.keras.layers import Dense, Dropout\n",
    "from tensorflow.keras.layers import Embedding\n",
    "from tensorflow.keras.layers import LSTM\n",
    "tf.keras.backend.clear_session()\n",
    "\n",
    "model = Sequential()\n",
    "model.add(LSTM(128, input_shape=(1,2048),activation=\"relu\",return_sequences=True))\n",
    "model.add(Dropout(0.2))\n",
    "model.add(LSTM(32,activation=\"sigmoid\",return_sequences=True))\n",
    "model.add(Dropout(0.2))\n",
    "model.add(LSTM(16,activation=\"sigmoid\"))\n",
    "model.add(Dropout(0.2))\n",
    "# model.add(LSTM(50))\n",
    "# model.add(Dropout(0.2))\n",
    "model.add(Dense(2, activation='softmax'))\n",
    "from keras.optimizers import SGD\n",
    "model.compile(loss = 'sparse_categorical_crossentropy', optimizer = \"adam\", metrics = ['accuracy'])\n",
    "model.summary()"
   ]
  },
  {
   "cell_type": "code",
   "execution_count": 21,
   "metadata": {},
   "outputs": [
    {
     "name": "stdout",
     "output_type": "stream",
     "text": [
      "Epoch 1/100\n",
      "40/40 [==============================] - 3s 23ms/step - loss: 0.6879 - accuracy: 0.5440 - val_loss: 0.6758 - val_accuracy: 0.6312\n",
      "Epoch 2/100\n",
      "40/40 [==============================] - 0s 9ms/step - loss: 0.6723 - accuracy: 0.5925 - val_loss: 0.6443 - val_accuracy: 0.6809\n",
      "Epoch 3/100\n",
      "40/40 [==============================] - 0s 9ms/step - loss: 0.6362 - accuracy: 0.6892 - val_loss: 0.6219 - val_accuracy: 0.6879\n",
      "Epoch 4/100\n",
      "40/40 [==============================] - 0s 9ms/step - loss: 0.5987 - accuracy: 0.7096 - val_loss: 0.6017 - val_accuracy: 0.6950\n",
      "Epoch 5/100\n",
      "40/40 [==============================] - 0s 10ms/step - loss: 0.5798 - accuracy: 0.7289 - val_loss: 0.6148 - val_accuracy: 0.6809\n",
      "Epoch 6/100\n",
      "40/40 [==============================] - 0s 9ms/step - loss: 0.5786 - accuracy: 0.7296 - val_loss: 0.5833 - val_accuracy: 0.6950\n",
      "Epoch 7/100\n",
      "40/40 [==============================] - 0s 9ms/step - loss: 0.5647 - accuracy: 0.7275 - val_loss: 0.5906 - val_accuracy: 0.7092\n",
      "Epoch 8/100\n",
      "40/40 [==============================] - 0s 9ms/step - loss: 0.5488 - accuracy: 0.7429 - val_loss: 0.5786 - val_accuracy: 0.7021\n",
      "Epoch 9/100\n",
      "40/40 [==============================] - 0s 9ms/step - loss: 0.5434 - accuracy: 0.7447 - val_loss: 0.5743 - val_accuracy: 0.7163\n",
      "Epoch 10/100\n",
      "40/40 [==============================] - 0s 9ms/step - loss: 0.5207 - accuracy: 0.7702 - val_loss: 0.5697 - val_accuracy: 0.7376\n",
      "Epoch 11/100\n",
      "40/40 [==============================] - 0s 9ms/step - loss: 0.5321 - accuracy: 0.7584 - val_loss: 0.5721 - val_accuracy: 0.7163\n",
      "Epoch 12/100\n",
      "40/40 [==============================] - 0s 9ms/step - loss: 0.5133 - accuracy: 0.7697 - val_loss: 0.5594 - val_accuracy: 0.7376\n",
      "Epoch 13/100\n",
      "40/40 [==============================] - 0s 9ms/step - loss: 0.4899 - accuracy: 0.7889 - val_loss: 0.5931 - val_accuracy: 0.6950\n",
      "Epoch 14/100\n",
      "40/40 [==============================] - 0s 9ms/step - loss: 0.5032 - accuracy: 0.7795 - val_loss: 0.5576 - val_accuracy: 0.7376\n",
      "Epoch 15/100\n",
      "40/40 [==============================] - 0s 9ms/step - loss: 0.4908 - accuracy: 0.7821 - val_loss: 0.5615 - val_accuracy: 0.7376\n",
      "Epoch 16/100\n",
      "40/40 [==============================] - 0s 9ms/step - loss: 0.4992 - accuracy: 0.7826 - val_loss: 0.5586 - val_accuracy: 0.7589\n",
      "Epoch 17/100\n",
      "40/40 [==============================] - 0s 9ms/step - loss: 0.5051 - accuracy: 0.7761 - val_loss: 0.5760 - val_accuracy: 0.7092\n",
      "Epoch 18/100\n",
      "40/40 [==============================] - 0s 9ms/step - loss: 0.4883 - accuracy: 0.7932 - val_loss: 0.5654 - val_accuracy: 0.7376\n",
      "Epoch 19/100\n",
      "40/40 [==============================] - 0s 9ms/step - loss: 0.4641 - accuracy: 0.8079 - val_loss: 0.5889 - val_accuracy: 0.7305\n",
      "Epoch 20/100\n",
      "40/40 [==============================] - 0s 9ms/step - loss: 0.4995 - accuracy: 0.7662 - val_loss: 0.5551 - val_accuracy: 0.7305\n",
      "Epoch 21/100\n",
      "40/40 [==============================] - 0s 9ms/step - loss: 0.4765 - accuracy: 0.8067 - val_loss: 0.5609 - val_accuracy: 0.7447\n",
      "Epoch 22/100\n",
      "40/40 [==============================] - 0s 9ms/step - loss: 0.4402 - accuracy: 0.8272 - val_loss: 0.5578 - val_accuracy: 0.7660\n",
      "Epoch 23/100\n",
      "40/40 [==============================] - 0s 9ms/step - loss: 0.4762 - accuracy: 0.8151 - val_loss: 0.5737 - val_accuracy: 0.7376\n",
      "Epoch 24/100\n",
      "40/40 [==============================] - 0s 9ms/step - loss: 0.4400 - accuracy: 0.8232 - val_loss: 0.5633 - val_accuracy: 0.7305\n",
      "Epoch 25/100\n",
      "40/40 [==============================] - 0s 9ms/step - loss: 0.4517 - accuracy: 0.8148 - val_loss: 0.6106 - val_accuracy: 0.7092\n",
      "Epoch 26/100\n",
      "40/40 [==============================] - 0s 9ms/step - loss: 0.4562 - accuracy: 0.8168 - val_loss: 0.5759 - val_accuracy: 0.7234\n",
      "Epoch 27/100\n",
      "40/40 [==============================] - 0s 9ms/step - loss: 0.4487 - accuracy: 0.8174 - val_loss: 0.5665 - val_accuracy: 0.7305\n",
      "Epoch 28/100\n",
      "40/40 [==============================] - 0s 9ms/step - loss: 0.4298 - accuracy: 0.8233 - val_loss: 0.5894 - val_accuracy: 0.7163\n",
      "Epoch 29/100\n",
      "40/40 [==============================] - 0s 9ms/step - loss: 0.4277 - accuracy: 0.8261 - val_loss: 0.6077 - val_accuracy: 0.7163\n",
      "Epoch 30/100\n",
      "40/40 [==============================] - 0s 9ms/step - loss: 0.4197 - accuracy: 0.8450 - val_loss: 0.5755 - val_accuracy: 0.7589\n",
      "Epoch 31/100\n",
      "40/40 [==============================] - 0s 9ms/step - loss: 0.4170 - accuracy: 0.8308 - val_loss: 0.5702 - val_accuracy: 0.7376\n",
      "Epoch 32/100\n",
      "40/40 [==============================] - 0s 9ms/step - loss: 0.4096 - accuracy: 0.8482 - val_loss: 0.5850 - val_accuracy: 0.7447\n",
      "Epoch 33/100\n",
      "40/40 [==============================] - 0s 9ms/step - loss: 0.4520 - accuracy: 0.8243 - val_loss: 0.5710 - val_accuracy: 0.7305\n",
      "Epoch 34/100\n",
      "40/40 [==============================] - 0s 9ms/step - loss: 0.4213 - accuracy: 0.8372 - val_loss: 0.5666 - val_accuracy: 0.7447\n",
      "Epoch 35/100\n",
      "40/40 [==============================] - 0s 9ms/step - loss: 0.4177 - accuracy: 0.8297 - val_loss: 0.6129 - val_accuracy: 0.7234\n",
      "Epoch 36/100\n",
      "40/40 [==============================] - 0s 9ms/step - loss: 0.4000 - accuracy: 0.8447 - val_loss: 0.5486 - val_accuracy: 0.7589\n",
      "Epoch 37/100\n",
      "40/40 [==============================] - 0s 9ms/step - loss: 0.4165 - accuracy: 0.8459 - val_loss: 0.5865 - val_accuracy: 0.7447\n",
      "Epoch 38/100\n",
      "40/40 [==============================] - 0s 9ms/step - loss: 0.3926 - accuracy: 0.8601 - val_loss: 0.5787 - val_accuracy: 0.7447\n",
      "Epoch 39/100\n",
      "40/40 [==============================] - 0s 9ms/step - loss: 0.3687 - accuracy: 0.8736 - val_loss: 0.6080 - val_accuracy: 0.7447\n",
      "Epoch 40/100\n",
      "40/40 [==============================] - 0s 9ms/step - loss: 0.3831 - accuracy: 0.8556 - val_loss: 0.6053 - val_accuracy: 0.7447\n",
      "Epoch 41/100\n",
      "40/40 [==============================] - 0s 9ms/step - loss: 0.3692 - accuracy: 0.8660 - val_loss: 0.6055 - val_accuracy: 0.7376\n",
      "Epoch 42/100\n",
      "40/40 [==============================] - 0s 9ms/step - loss: 0.3735 - accuracy: 0.8489 - val_loss: 0.6129 - val_accuracy: 0.7305\n",
      "Epoch 43/100\n",
      "40/40 [==============================] - 0s 9ms/step - loss: 0.3570 - accuracy: 0.8690 - val_loss: 0.5932 - val_accuracy: 0.7376\n",
      "Epoch 44/100\n",
      "40/40 [==============================] - 0s 9ms/step - loss: 0.3265 - accuracy: 0.8799 - val_loss: 0.6312 - val_accuracy: 0.7305\n",
      "Epoch 45/100\n",
      "40/40 [==============================] - 0s 9ms/step - loss: 0.3218 - accuracy: 0.8864 - val_loss: 0.6356 - val_accuracy: 0.7376\n",
      "Epoch 46/100\n",
      "40/40 [==============================] - 0s 9ms/step - loss: 0.3561 - accuracy: 0.8720 - val_loss: 0.5942 - val_accuracy: 0.7234\n",
      "Epoch 47/100\n",
      "40/40 [==============================] - 0s 9ms/step - loss: 0.3438 - accuracy: 0.8863 - val_loss: 0.6197 - val_accuracy: 0.7518\n",
      "Epoch 48/100\n",
      "40/40 [==============================] - 0s 9ms/step - loss: 0.3269 - accuracy: 0.8837 - val_loss: 0.6103 - val_accuracy: 0.7589\n",
      "Epoch 49/100\n",
      "40/40 [==============================] - 0s 9ms/step - loss: 0.3340 - accuracy: 0.8835 - val_loss: 0.5956 - val_accuracy: 0.7589\n",
      "Epoch 50/100\n",
      "40/40 [==============================] - 0s 9ms/step - loss: 0.3408 - accuracy: 0.8806 - val_loss: 0.6182 - val_accuracy: 0.7376\n",
      "Epoch 51/100\n",
      "40/40 [==============================] - 0s 9ms/step - loss: 0.3333 - accuracy: 0.8762 - val_loss: 0.6192 - val_accuracy: 0.7376\n",
      "Epoch 52/100\n",
      "40/40 [==============================] - 0s 9ms/step - loss: 0.3331 - accuracy: 0.8895 - val_loss: 0.6439 - val_accuracy: 0.7376\n",
      "Epoch 53/100\n",
      "40/40 [==============================] - 0s 9ms/step - loss: 0.3362 - accuracy: 0.8851 - val_loss: 0.6485 - val_accuracy: 0.7376\n",
      "Epoch 54/100\n",
      "40/40 [==============================] - 0s 9ms/step - loss: 0.3121 - accuracy: 0.8811 - val_loss: 0.6361 - val_accuracy: 0.7376\n",
      "Epoch 55/100\n",
      "40/40 [==============================] - 0s 9ms/step - loss: 0.3284 - accuracy: 0.8809 - val_loss: 0.6551 - val_accuracy: 0.7376\n",
      "Epoch 56/100\n",
      "40/40 [==============================] - 0s 9ms/step - loss: 0.3015 - accuracy: 0.9134 - val_loss: 0.6631 - val_accuracy: 0.7234\n",
      "Epoch 57/100\n",
      "40/40 [==============================] - 0s 9ms/step - loss: 0.3230 - accuracy: 0.8918 - val_loss: 0.6811 - val_accuracy: 0.7376\n",
      "Epoch 58/100\n",
      "40/40 [==============================] - 0s 9ms/step - loss: 0.2928 - accuracy: 0.8999 - val_loss: 0.6928 - val_accuracy: 0.7234\n"
     ]
    },
    {
     "name": "stdout",
     "output_type": "stream",
     "text": [
      "Epoch 59/100\n",
      "40/40 [==============================] - 0s 9ms/step - loss: 0.3191 - accuracy: 0.8944 - val_loss: 0.6894 - val_accuracy: 0.7305\n",
      "Epoch 60/100\n",
      "40/40 [==============================] - 0s 9ms/step - loss: 0.3126 - accuracy: 0.9098 - val_loss: 0.6930 - val_accuracy: 0.7376\n",
      "Epoch 61/100\n",
      "40/40 [==============================] - 0s 9ms/step - loss: 0.2881 - accuracy: 0.9098 - val_loss: 0.7092 - val_accuracy: 0.7163\n",
      "Epoch 62/100\n",
      "40/40 [==============================] - 0s 9ms/step - loss: 0.2922 - accuracy: 0.9021 - val_loss: 0.6583 - val_accuracy: 0.7447\n",
      "Epoch 63/100\n",
      "40/40 [==============================] - 0s 9ms/step - loss: 0.2889 - accuracy: 0.9102 - val_loss: 0.6714 - val_accuracy: 0.7234\n",
      "Epoch 64/100\n",
      "40/40 [==============================] - 0s 9ms/step - loss: 0.2757 - accuracy: 0.9134 - val_loss: 0.7006 - val_accuracy: 0.7234\n",
      "Epoch 65/100\n",
      "40/40 [==============================] - 0s 9ms/step - loss: 0.2751 - accuracy: 0.9104 - val_loss: 0.7050 - val_accuracy: 0.7376\n",
      "Epoch 66/100\n",
      "40/40 [==============================] - 0s 9ms/step - loss: 0.2915 - accuracy: 0.9029 - val_loss: 0.7142 - val_accuracy: 0.7589\n",
      "Epoch 67/100\n",
      "40/40 [==============================] - 0s 9ms/step - loss: 0.2513 - accuracy: 0.9160 - val_loss: 0.7248 - val_accuracy: 0.7163\n",
      "Epoch 68/100\n",
      "40/40 [==============================] - 0s 9ms/step - loss: 0.2715 - accuracy: 0.9030 - val_loss: 0.6793 - val_accuracy: 0.7447\n",
      "Epoch 69/100\n",
      "40/40 [==============================] - 0s 9ms/step - loss: 0.2516 - accuracy: 0.9069 - val_loss: 0.6759 - val_accuracy: 0.7589\n",
      "Epoch 70/100\n",
      "40/40 [==============================] - 0s 9ms/step - loss: 0.2348 - accuracy: 0.9276 - val_loss: 0.7098 - val_accuracy: 0.7518\n",
      "Epoch 71/100\n",
      "40/40 [==============================] - 0s 9ms/step - loss: 0.2795 - accuracy: 0.9072 - val_loss: 0.7004 - val_accuracy: 0.7376\n",
      "Epoch 72/100\n",
      "40/40 [==============================] - 0s 9ms/step - loss: 0.2518 - accuracy: 0.9130 - val_loss: 0.7201 - val_accuracy: 0.7447\n",
      "Epoch 73/100\n",
      "40/40 [==============================] - 0s 9ms/step - loss: 0.2179 - accuracy: 0.9222 - val_loss: 0.7121 - val_accuracy: 0.7447\n",
      "Epoch 74/100\n",
      "40/40 [==============================] - 0s 9ms/step - loss: 0.2303 - accuracy: 0.9213 - val_loss: 0.7161 - val_accuracy: 0.7589\n",
      "Epoch 75/100\n",
      "40/40 [==============================] - 0s 9ms/step - loss: 0.2282 - accuracy: 0.9327 - val_loss: 0.7431 - val_accuracy: 0.7376\n",
      "Epoch 76/100\n",
      "40/40 [==============================] - 0s 9ms/step - loss: 0.2408 - accuracy: 0.9293 - val_loss: 0.7370 - val_accuracy: 0.7092\n",
      "Epoch 77/100\n",
      "40/40 [==============================] - 0s 9ms/step - loss: 0.1978 - accuracy: 0.9394 - val_loss: 0.7529 - val_accuracy: 0.7163\n",
      "Epoch 78/100\n",
      "40/40 [==============================] - 0s 9ms/step - loss: 0.2230 - accuracy: 0.9346 - val_loss: 0.7576 - val_accuracy: 0.7447\n",
      "Epoch 79/100\n",
      "40/40 [==============================] - 0s 9ms/step - loss: 0.2617 - accuracy: 0.9135 - val_loss: 0.7611 - val_accuracy: 0.7234\n",
      "Epoch 80/100\n",
      "40/40 [==============================] - 0s 9ms/step - loss: 0.2198 - accuracy: 0.9264 - val_loss: 0.7575 - val_accuracy: 0.7305\n",
      "Epoch 81/100\n",
      "40/40 [==============================] - 0s 9ms/step - loss: 0.2156 - accuracy: 0.9315 - val_loss: 0.7436 - val_accuracy: 0.7518\n",
      "Epoch 82/100\n",
      "40/40 [==============================] - 0s 9ms/step - loss: 0.1918 - accuracy: 0.9423 - val_loss: 0.7577 - val_accuracy: 0.7234\n",
      "Epoch 83/100\n",
      "40/40 [==============================] - 0s 10ms/step - loss: 0.1826 - accuracy: 0.9460 - val_loss: 0.7753 - val_accuracy: 0.7518\n",
      "Epoch 84/100\n",
      "40/40 [==============================] - 0s 9ms/step - loss: 0.2381 - accuracy: 0.9217 - val_loss: 0.8052 - val_accuracy: 0.7305\n",
      "Epoch 85/100\n",
      "40/40 [==============================] - 0s 9ms/step - loss: 0.1736 - accuracy: 0.9551 - val_loss: 0.7986 - val_accuracy: 0.7518\n",
      "Epoch 86/100\n",
      "40/40 [==============================] - 0s 9ms/step - loss: 0.1843 - accuracy: 0.9435 - val_loss: 0.8026 - val_accuracy: 0.7376\n",
      "Epoch 87/100\n",
      "40/40 [==============================] - 0s 9ms/step - loss: 0.1879 - accuracy: 0.9400 - val_loss: 0.8059 - val_accuracy: 0.7305\n",
      "Epoch 88/100\n",
      "40/40 [==============================] - 0s 9ms/step - loss: 0.1982 - accuracy: 0.9372 - val_loss: 0.8007 - val_accuracy: 0.7447\n",
      "Epoch 89/100\n",
      "40/40 [==============================] - 0s 9ms/step - loss: 0.1977 - accuracy: 0.9419 - val_loss: 0.8360 - val_accuracy: 0.7234\n",
      "Epoch 90/100\n",
      "40/40 [==============================] - 0s 9ms/step - loss: 0.1957 - accuracy: 0.9375 - val_loss: 0.8616 - val_accuracy: 0.7021\n",
      "Epoch 91/100\n",
      "40/40 [==============================] - 0s 9ms/step - loss: 0.2528 - accuracy: 0.9132 - val_loss: 0.8081 - val_accuracy: 0.7234\n",
      "Epoch 92/100\n",
      "40/40 [==============================] - 0s 9ms/step - loss: 0.2291 - accuracy: 0.9411 - val_loss: 0.8288 - val_accuracy: 0.7092\n",
      "Epoch 93/100\n",
      "40/40 [==============================] - 0s 9ms/step - loss: 0.1927 - accuracy: 0.9521 - val_loss: 0.8341 - val_accuracy: 0.7163\n",
      "Epoch 94/100\n",
      "40/40 [==============================] - 0s 9ms/step - loss: 0.2020 - accuracy: 0.9368 - val_loss: 0.8462 - val_accuracy: 0.7234\n",
      "Epoch 95/100\n",
      "40/40 [==============================] - 0s 9ms/step - loss: 0.1891 - accuracy: 0.9507 - val_loss: 0.8525 - val_accuracy: 0.7234\n",
      "Epoch 96/100\n",
      "40/40 [==============================] - 0s 9ms/step - loss: 0.1995 - accuracy: 0.9428 - val_loss: 0.8644 - val_accuracy: 0.6950\n",
      "Epoch 97/100\n",
      "40/40 [==============================] - 0s 9ms/step - loss: 0.1772 - accuracy: 0.9488 - val_loss: 0.8525 - val_accuracy: 0.7163\n",
      "Epoch 98/100\n",
      "40/40 [==============================] - 0s 9ms/step - loss: 0.1518 - accuracy: 0.9575 - val_loss: 0.8733 - val_accuracy: 0.7234\n",
      "Epoch 99/100\n",
      "40/40 [==============================] - 0s 9ms/step - loss: 0.1747 - accuracy: 0.9456 - val_loss: 0.9040 - val_accuracy: 0.7092\n",
      "Epoch 100/100\n",
      "40/40 [==============================] - 0s 9ms/step - loss: 0.1782 - accuracy: 0.9505 - val_loss: 0.9039 - val_accuracy: 0.7092\n",
      "5/5 [==============================] - 0s 2ms/step - loss: 0.9039 - accuracy: 0.7092\n"
     ]
    }
   ],
   "source": [
    "import datetime\n",
    "logdir = os.path.join(\"logs\", datetime.datetime.now().strftime(\"%Y%m%d-%H%M%S\"))\n",
    "tensorboard_callback = tf.keras.callbacks.TensorBoard(logdir, histogram_freq=1)\n",
    "history = model.fit(x_train, y_train, epochs = 100, validation_data= (x_test, y_test),callbacks=[tensorboard_callback])\n",
    "score, acc = model.evaluate(x_test, y_test)"
   ]
  },
  {
   "cell_type": "code",
   "execution_count": 22,
   "metadata": {},
   "outputs": [
    {
     "name": "stdout",
     "output_type": "stream",
     "text": [
      "The tensorboard extension is already loaded. To reload it, use:\n",
      "  %reload_ext tensorboard\n"
     ]
    }
   ],
   "source": [
    "%load_ext tensorboard"
   ]
  },
  {
   "cell_type": "code",
   "execution_count": 23,
   "metadata": {},
   "outputs": [
    {
     "data": {
      "text/plain": [
       "Reusing TensorBoard on port 6006 (pid 14017), started 0:03:03 ago. (Use '!kill 14017' to kill it.)"
      ]
     },
     "metadata": {},
     "output_type": "display_data"
    },
    {
     "data": {
      "text/html": [
       "\n",
       "      <iframe id=\"tensorboard-frame-a41ce8309f9c0faa\" width=\"100%\" height=\"800\" frameborder=\"0\">\n",
       "      </iframe>\n",
       "      <script>\n",
       "        (function() {\n",
       "          const frame = document.getElementById(\"tensorboard-frame-a41ce8309f9c0faa\");\n",
       "          const url = new URL(\"/\", window.location);\n",
       "          const port = 6006;\n",
       "          if (port) {\n",
       "            url.port = port;\n",
       "          }\n",
       "          frame.src = url;\n",
       "        })();\n",
       "      </script>\n",
       "    "
      ],
      "text/plain": [
       "<IPython.core.display.HTML object>"
      ]
     },
     "metadata": {},
     "output_type": "display_data"
    }
   ],
   "source": [
    "%tensorboard --logdir logs"
   ]
  },
  {
   "cell_type": "code",
   "execution_count": null,
   "metadata": {},
   "outputs": [],
   "source": []
  }
 ],
 "metadata": {
  "kernelspec": {
   "display_name": "Python 3",
   "language": "python",
   "name": "python3"
  },
  "language_info": {
   "codemirror_mode": {
    "name": "ipython",
    "version": 3
   },
   "file_extension": ".py",
   "mimetype": "text/x-python",
   "name": "python",
   "nbconvert_exporter": "python",
   "pygments_lexer": "ipython3",
   "version": "3.8.3"
  }
 },
 "nbformat": 4,
 "nbformat_minor": 4
}
