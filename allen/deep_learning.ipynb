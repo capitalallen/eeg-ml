{
 "cells": [
  {
   "cell_type": "code",
   "execution_count": 16,
   "metadata": {},
   "outputs": [],
   "source": [
    "from prep_data import Data_prepare\n",
    "import numpy as np \n",
    "# import prep_data"
   ]
  },
  {
   "cell_type": "markdown",
   "metadata": {},
   "source": [
    "###  Data preprocessing \n",
    "1. covert mat data to numpy array \n",
    "2. combine male and female data to one array \n",
    "3. if needed, remove certain rows \n",
    "4. get postive and negative of Xs \n",
    "    - order difference or net vs neg \n",
    "5. reshape each X: 128*8*2 = 2048 \n",
    "    - input: data \n",
    "6. generate labels for x \n",
    "    - input: data and label_type (0:zeros, 1: ones )\n",
    "7. combine net and neg \n",
    "    - input: netX,netY,negX,negY"
   ]
  },
  {
   "cell_type": "code",
   "execution_count": 9,
   "metadata": {},
   "outputs": [
    {
     "name": "stdout",
     "output_type": "stream",
     "text": [
      "(40,)\n",
      "(18, 128, 8, 2)\n",
      "(18, 128, 8, 2)\n",
      "(18, 128, 8, 2)\n",
      "(18, 128, 8, 2)\n",
      "(18, 128, 8, 2)\n",
      "(18, 128, 8, 2)\n",
      "(18, 128, 8, 2)\n",
      "(18, 128, 8, 2)\n",
      "(18, 128, 8, 2)\n",
      "(18, 128, 8, 2)\n",
      "(15, 128, 8, 2)\n",
      "(15, 128, 8, 2)\n",
      "(18, 128, 8, 2)\n",
      "(15, 128, 8, 2)\n",
      "(18, 128, 8, 2)\n",
      "(18, 128, 8, 2)\n",
      "(18, 128, 8, 2)\n",
      "(18, 128, 8, 2)\n",
      "(12, 128, 8, 2)\n",
      "(18, 128, 8, 2)\n",
      "(18, 128, 8, 2)\n",
      "(18, 128, 8, 2)\n",
      "(18, 128, 8, 2)\n",
      "(18, 128, 8, 2)\n",
      "(18, 128, 8, 2)\n",
      "(18, 128, 8, 2)\n",
      "(18, 128, 8, 2)\n",
      "(18, 128, 8, 2)\n",
      "(18, 128, 8, 2)\n",
      "(18, 128, 8, 2)\n",
      "(18, 128, 8, 2)\n",
      "(18, 128, 8, 2)\n",
      "(18, 128, 8, 2)\n",
      "(18, 128, 8, 2)\n",
      "(18, 128, 8, 2)\n",
      "(18, 128, 8, 2)\n",
      "(18, 128, 8, 2)\n",
      "(18, 128, 8, 2)\n",
      "(18, 128, 8, 2)\n",
      "(15, 128, 8, 2)\n",
      "(40,)\n",
      "(18, 128, 8, 2)\n",
      "(18, 128, 8, 2)\n",
      "(18, 128, 8, 2)\n",
      "(18, 128, 8, 2)\n",
      "(18, 128, 8, 2)\n",
      "(18, 128, 8, 2)\n",
      "(18, 128, 8, 2)\n",
      "(18, 128, 8, 2)\n",
      "(18, 128, 8, 2)\n",
      "(18, 128, 8, 2)\n",
      "(15, 128, 8, 2)\n",
      "(15, 128, 8, 2)\n",
      "(18, 128, 8, 2)\n",
      "(15, 128, 8, 2)\n",
      "(18, 128, 8, 2)\n",
      "(18, 128, 8, 2)\n",
      "(18, 128, 8, 2)\n",
      "(18, 128, 8, 2)\n",
      "(12, 128, 8, 2)\n",
      "(18, 128, 8, 2)\n",
      "(18, 128, 8, 2)\n",
      "(18, 128, 8, 2)\n",
      "(18, 128, 8, 2)\n",
      "(18, 128, 8, 2)\n",
      "(18, 128, 8, 2)\n",
      "(18, 128, 8, 2)\n",
      "(18, 128, 8, 2)\n",
      "(18, 128, 8, 2)\n",
      "(18, 128, 8, 2)\n",
      "(18, 128, 8, 2)\n",
      "(18, 128, 8, 2)\n",
      "(18, 128, 8, 2)\n",
      "(18, 128, 8, 2)\n",
      "(18, 128, 8, 2)\n",
      "(18, 128, 8, 2)\n",
      "(18, 128, 8, 2)\n",
      "(18, 128, 8, 2)\n",
      "(18, 128, 8, 2)\n",
      "(18, 128, 8, 2)\n",
      "(15, 128, 8, 2)\n"
     ]
    }
   ],
   "source": [
    "dp = Data_prepare() \n",
    "pos = [[0,3],[0,2],[0,1],[0,0]]\n",
    "neg = [[1,3],[1,2],[1,1],[1,0]]\n",
    "# netural vs postive \n",
    "# pos = [[0,0],[0,1],[1,2],[1,3],[2,0],[2,1],[2,2],[2,3]]\n",
    "# neg = [[0,2],[0,3],[1,0],[1,1],[3,0],[3,1],[3,2],[3,3]] \n",
    "m_file = \"./raw_data/Emotrans1_Boy_data_preprocessed_42.mat\" \n",
    "f_file = \"./raw_data/Emotrans1_girl_data_preprocessed_42.mat\"\n",
    "index=[40,41]\n",
    "df = dp.combine_male_female(m_file,f_file)\n",
    "df = dp.remove_person(df,index)\n",
    "pos_df = dp.get_pos_or_neg(df,pos)\n",
    "neg_df = dp.get_pos_or_neg(df,neg)\n",
    "pos_sequeezed = dp.squeeze_feature_size(pos_df)\n",
    "neg_sequeezed = dp.squeeze_feature_size(neg_df)\n",
    "pos_labels = dp.generate_labels(pos_sequeezed,1)\n",
    "neg_labels = dp.generate_labels(neg_sequeezed,0)\n",
    "x,y = dp.combine_net_neg(pos_sequeezed,pos_labels,neg_sequeezed,neg_labels)"
   ]
  },
  {
   "cell_type": "code",
   "execution_count": 21,
   "metadata": {},
   "outputs": [],
   "source": [
    "## (40,) -> 40*36*2048\n",
    "def flatten(data):\n",
    "    res = data[0]\n",
    "    for i in range(1,data.shape[0]):\n",
    "        res = np.append(res,data[i],axis=0)\n",
    "    return res \n",
    "new_x = flatten(x)\n",
    "new_y = flatten(y)"
   ]
  },
  {
   "cell_type": "code",
   "execution_count": 22,
   "metadata": {},
   "outputs": [
    {
     "name": "stdout",
     "output_type": "stream",
     "text": [
      "(1404, 2048) (1404, 1)\n"
     ]
    }
   ],
   "source": [
    "print(new_x.shape,new_y.shape)\n"
   ]
  },
  {
   "cell_type": "code",
   "execution_count": null,
   "metadata": {},
   "outputs": [],
   "source": []
  }
 ],
 "metadata": {
  "kernelspec": {
   "display_name": "Python 3",
   "language": "python",
   "name": "python3"
  },
  "language_info": {
   "codemirror_mode": {
    "name": "ipython",
    "version": 3
   },
   "file_extension": ".py",
   "mimetype": "text/x-python",
   "name": "python",
   "nbconvert_exporter": "python",
   "pygments_lexer": "ipython3",
   "version": "3.8.3"
  }
 },
 "nbformat": 4,
 "nbformat_minor": 4
}
