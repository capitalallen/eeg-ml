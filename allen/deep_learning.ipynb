{
 "cells": [
  {
   "cell_type": "code",
   "execution_count": 1,
   "metadata": {},
   "outputs": [],
   "source": [
    "from prep_data import Data_prepare\n",
    "import numpy as np \n",
    "# import prep_data"
   ]
  },
  {
   "cell_type": "markdown",
   "metadata": {},
   "source": [
    "###  Data preprocessing \n",
    "1. covert mat data to numpy array \n",
    "2. combine male and female data to one array \n",
    "3. if needed, remove certain rows \n",
    "4. get postive and negative of Xs \n",
    "    - order difference or net vs neg \n",
    "5. reshape each X: 128*8*2 = 2048 \n",
    "    - input: data \n",
    "6. generate labels for x \n",
    "    - input: data and label_type (0:zeros, 1: ones )\n",
    "7. combine net and neg \n",
    "    - input: netX,netY,negX,negY"
   ]
  },
  {
   "cell_type": "code",
   "execution_count": 2,
   "metadata": {},
   "outputs": [],
   "source": [
    "dp = Data_prepare() \n",
    "pos = [[0,3],[0,2],[0,1],[0,0]]\n",
    "neg = [[1,3],[1,2],[1,1],[1,0]]\n",
    "# netural vs postive \n",
    "# pos = [[0,0],[0,1],[1,2],[1,3],[2,0],[2,1],[2,2],[2,3]]\n",
    "# neg = [[0,2],[0,3],[1,0],[1,1],[3,0],[3,1],[3,2],[3,3]] \n",
    "m_file = \"./raw_data/Emotrans1_Boy_data_preprocessed_42.mat\" \n",
    "f_file = \"./raw_data/Emotrans1_girl_data_preprocessed_42.mat\"\n",
    "index=[40,41]\n",
    "df = dp.combine_male_female(m_file,f_file)\n",
    "df = dp.remove_person(df,index)\n",
    "pos_df = dp.get_pos_or_neg(df,pos)\n",
    "neg_df = dp.get_pos_or_neg(df,neg)\n",
    "pos_sequeezed = dp.squeeze_feature_size(pos_df)\n",
    "neg_sequeezed = dp.squeeze_feature_size(neg_df)\n",
    "pos_labels = dp.generate_labels(pos_sequeezed,1)\n",
    "neg_labels = dp.generate_labels(neg_sequeezed,0)\n",
    "x,y = dp.combine_net_neg(pos_sequeezed,pos_labels,neg_sequeezed,neg_labels)"
   ]
  },
  {
   "cell_type": "code",
   "execution_count": 3,
   "metadata": {},
   "outputs": [],
   "source": [
    "## (40,) -> 40*36*2048\n",
    "def flatten(data):\n",
    "    res = data[0]\n",
    "    for i in range(1,data.shape[0]):\n",
    "        res = np.append(res,data[i],axis=0)\n",
    "    return res \n",
    "new_x = flatten(x)\n",
    "new_y = flatten(y)"
   ]
  },
  {
   "cell_type": "code",
   "execution_count": 4,
   "metadata": {},
   "outputs": [
    {
     "name": "stdout",
     "output_type": "stream",
     "text": [
      "(1404, 2048) (1404, 1)\n"
     ]
    }
   ],
   "source": [
    "print(new_x.shape,new_y.shape)\n"
   ]
  },
  {
   "cell_type": "markdown",
   "metadata": {},
   "source": [
    "#### Normalize x with standardScaler"
   ]
  },
  {
   "cell_type": "code",
   "execution_count": 6,
   "metadata": {},
   "outputs": [],
   "source": [
    "from sklearn.preprocessing import StandardScaler\n",
    "scaler = StandardScaler()\n",
    "scaler.fit(new_x)\n",
    "new_x = scaler.transform(new_x)"
   ]
  },
  {
   "cell_type": "code",
   "execution_count": 7,
   "metadata": {},
   "outputs": [
    {
     "name": "stdout",
     "output_type": "stream",
     "text": [
      "(1404, 2048) (1404, 1)\n"
     ]
    }
   ],
   "source": [
    "print(new_x.shape,new_y.shape)"
   ]
  },
  {
   "cell_type": "code",
   "execution_count": 22,
   "metadata": {},
   "outputs": [],
   "source": [
    "from sklearn.model_selection import train_test_split\n",
    "x_train, x_test, y_train, y_test = train_test_split(new_x, new_y, test_size = 0.1, random_state = 4)"
   ]
  },
  {
   "cell_type": "code",
   "execution_count": 23,
   "metadata": {},
   "outputs": [
    {
     "name": "stdout",
     "output_type": "stream",
     "text": [
      "(1263, 2048) (1263, 1)\n"
     ]
    }
   ],
   "source": [
    "print(x_train.shape,y_train.shape)"
   ]
  },
  {
   "cell_type": "code",
   "execution_count": 24,
   "metadata": {},
   "outputs": [],
   "source": [
    "## reshape x_train and x_test to 3D for LSTM \n",
    "x_train = np.reshape(x_train, (x_train.shape[0],1,new_x.shape[1]))\n",
    "x_test = np.reshape(x_test, (x_test.shape[0],1,new_x.shape[1]))"
   ]
  },
  {
   "cell_type": "code",
   "execution_count": 25,
   "metadata": {},
   "outputs": [],
   "source": [
    "# y_train = np.asarray(y_train).astype('float32').reshape((-1,1))\n",
    "# y_test = np.asarray(y_test).astype('float32').reshape((-1,1))"
   ]
  },
  {
   "cell_type": "code",
   "execution_count": 26,
   "metadata": {},
   "outputs": [
    {
     "name": "stdout",
     "output_type": "stream",
     "text": [
      "(1263, 1, 2048) (141, 1, 2048)\n",
      "(1263, 1) (141, 1)\n"
     ]
    }
   ],
   "source": [
    "print(x_train.shape,x_test.shape)\n",
    "print(y_train.shape,y_test.shape)"
   ]
  },
  {
   "cell_type": "markdown",
   "metadata": {},
   "source": [
    "#### LSTM model "
   ]
  },
  {
   "cell_type": "code",
   "execution_count": 36,
   "metadata": {},
   "outputs": [
    {
     "name": "stdout",
     "output_type": "stream",
     "text": [
      "Model: \"sequential\"\n",
      "_________________________________________________________________\n",
      "Layer (type)                 Output Shape              Param #   \n",
      "=================================================================\n",
      "lstm (LSTM)                  (None, 1, 64)             540928    \n",
      "_________________________________________________________________\n",
      "dropout (Dropout)            (None, 1, 64)             0         \n",
      "_________________________________________________________________\n",
      "lstm_1 (LSTM)                (None, 1, 32)             12416     \n",
      "_________________________________________________________________\n",
      "dropout_1 (Dropout)          (None, 1, 32)             0         \n",
      "_________________________________________________________________\n",
      "lstm_2 (LSTM)                (None, 16)                3136      \n",
      "_________________________________________________________________\n",
      "dropout_2 (Dropout)          (None, 16)                0         \n",
      "_________________________________________________________________\n",
      "dense (Dense)                (None, 2)                 34        \n",
      "=================================================================\n",
      "Total params: 556,514\n",
      "Trainable params: 556,514\n",
      "Non-trainable params: 0\n",
      "_________________________________________________________________\n"
     ]
    }
   ],
   "source": [
    "import tensorflow as tf\n",
    "from tensorflow.keras import Sequential\n",
    "\n",
    "from tensorflow.keras.layers import Dense, Dropout\n",
    "from tensorflow.keras.layers import Embedding\n",
    "from tensorflow.keras.layers import LSTM\n",
    "tf.keras.backend.clear_session()\n",
    "\n",
    "model = Sequential()\n",
    "model.add(LSTM(128, input_shape=(1,2048),activation=\"relu\",return_sequences=True))\n",
    "model.add(Dropout(0.2))\n",
    "model.add(LSTM(32,activation=\"sigmoid\",return_sequences=True))\n",
    "model.add(Dropout(0.2))\n",
    "model.add(LSTM(16,activation=\"sigmoid\"))\n",
    "model.add(Dropout(0.2))\n",
    "# model.add(LSTM(50))\n",
    "# model.add(Dropout(0.2))\n",
    "model.add(Dense(2, activation='softmax'))\n",
    "from keras.optimizers import SGD\n",
    "model.compile(loss = 'sparse_categorical_crossentropy', optimizer = \"adam\", metrics = ['accuracy'])\n",
    "model.summary()"
   ]
  },
  {
   "cell_type": "code",
   "execution_count": 37,
   "metadata": {},
   "outputs": [
    {
     "name": "stdout",
     "output_type": "stream",
     "text": [
      "Epoch 1/100\n",
      "40/40 [==============================] - 1s 15ms/step - loss: 0.7046 - accuracy: 0.5234 - val_loss: 0.6792 - val_accuracy: 0.5674\n",
      "Epoch 2/100\n",
      "40/40 [==============================] - 0s 6ms/step - loss: 0.6611 - accuracy: 0.6176 - val_loss: 0.6444 - val_accuracy: 0.6738\n",
      "Epoch 3/100\n",
      "40/40 [==============================] - 0s 6ms/step - loss: 0.6289 - accuracy: 0.6675 - val_loss: 0.6228 - val_accuracy: 0.6738\n",
      "Epoch 4/100\n",
      "40/40 [==============================] - 0s 5ms/step - loss: 0.6063 - accuracy: 0.7086 - val_loss: 0.6100 - val_accuracy: 0.7021\n",
      "Epoch 5/100\n",
      "40/40 [==============================] - 0s 5ms/step - loss: 0.5837 - accuracy: 0.7197 - val_loss: 0.6054 - val_accuracy: 0.6879\n",
      "Epoch 6/100\n",
      "40/40 [==============================] - 0s 5ms/step - loss: 0.5740 - accuracy: 0.7237 - val_loss: 0.5966 - val_accuracy: 0.7163\n",
      "Epoch 7/100\n",
      "40/40 [==============================] - 0s 5ms/step - loss: 0.5649 - accuracy: 0.7237 - val_loss: 0.5890 - val_accuracy: 0.7163\n",
      "Epoch 8/100\n",
      "40/40 [==============================] - 0s 5ms/step - loss: 0.5602 - accuracy: 0.7363 - val_loss: 0.5879 - val_accuracy: 0.7092\n",
      "Epoch 9/100\n",
      "40/40 [==============================] - 0s 5ms/step - loss: 0.5481 - accuracy: 0.7458 - val_loss: 0.5730 - val_accuracy: 0.7163\n",
      "Epoch 10/100\n",
      "40/40 [==============================] - 0s 5ms/step - loss: 0.5449 - accuracy: 0.7451 - val_loss: 0.6112 - val_accuracy: 0.6879\n",
      "Epoch 11/100\n",
      "40/40 [==============================] - 0s 5ms/step - loss: 0.5390 - accuracy: 0.7506 - val_loss: 0.5680 - val_accuracy: 0.7376\n",
      "Epoch 12/100\n",
      "40/40 [==============================] - 0s 5ms/step - loss: 0.5349 - accuracy: 0.7561 - val_loss: 0.5785 - val_accuracy: 0.7163\n",
      "Epoch 13/100\n",
      "40/40 [==============================] - 0s 5ms/step - loss: 0.5119 - accuracy: 0.7775 - val_loss: 0.5623 - val_accuracy: 0.7447\n",
      "Epoch 14/100\n",
      "40/40 [==============================] - 0s 5ms/step - loss: 0.5196 - accuracy: 0.7609 - val_loss: 0.5559 - val_accuracy: 0.7589\n",
      "Epoch 15/100\n",
      "40/40 [==============================] - 0s 5ms/step - loss: 0.5080 - accuracy: 0.7656 - val_loss: 0.5990 - val_accuracy: 0.7163\n",
      "Epoch 16/100\n",
      "40/40 [==============================] - 0s 5ms/step - loss: 0.5080 - accuracy: 0.7751 - val_loss: 0.5758 - val_accuracy: 0.7234\n",
      "Epoch 17/100\n",
      "40/40 [==============================] - 0s 5ms/step - loss: 0.4993 - accuracy: 0.7854 - val_loss: 0.5599 - val_accuracy: 0.7447\n",
      "Epoch 18/100\n",
      "40/40 [==============================] - 0s 5ms/step - loss: 0.4960 - accuracy: 0.7902 - val_loss: 0.5894 - val_accuracy: 0.7234\n",
      "Epoch 19/100\n",
      "40/40 [==============================] - 0s 5ms/step - loss: 0.5004 - accuracy: 0.7854 - val_loss: 0.5601 - val_accuracy: 0.7376\n",
      "Epoch 20/100\n",
      "40/40 [==============================] - 0s 5ms/step - loss: 0.4870 - accuracy: 0.7997 - val_loss: 0.5615 - val_accuracy: 0.7518\n",
      "Epoch 21/100\n",
      "40/40 [==============================] - 0s 5ms/step - loss: 0.4836 - accuracy: 0.7918 - val_loss: 0.5635 - val_accuracy: 0.7376\n",
      "Epoch 22/100\n",
      "40/40 [==============================] - 0s 5ms/step - loss: 0.4903 - accuracy: 0.7965 - val_loss: 0.5714 - val_accuracy: 0.7447\n",
      "Epoch 23/100\n",
      "40/40 [==============================] - 0s 5ms/step - loss: 0.4669 - accuracy: 0.8029 - val_loss: 0.5611 - val_accuracy: 0.7518\n",
      "Epoch 24/100\n",
      "40/40 [==============================] - 0s 5ms/step - loss: 0.4757 - accuracy: 0.8036 - val_loss: 0.5889 - val_accuracy: 0.7234\n",
      "Epoch 25/100\n",
      "40/40 [==============================] - 0s 5ms/step - loss: 0.4589 - accuracy: 0.8036 - val_loss: 0.5744 - val_accuracy: 0.7518\n",
      "Epoch 26/100\n",
      "40/40 [==============================] - 0s 5ms/step - loss: 0.4694 - accuracy: 0.8124 - val_loss: 0.5732 - val_accuracy: 0.7447\n",
      "Epoch 27/100\n",
      "40/40 [==============================] - 0s 5ms/step - loss: 0.4700 - accuracy: 0.8005 - val_loss: 0.5673 - val_accuracy: 0.7376\n",
      "Epoch 28/100\n",
      "40/40 [==============================] - 0s 5ms/step - loss: 0.4497 - accuracy: 0.8187 - val_loss: 0.5842 - val_accuracy: 0.7305\n",
      "Epoch 29/100\n",
      "40/40 [==============================] - 0s 5ms/step - loss: 0.4499 - accuracy: 0.8092 - val_loss: 0.5679 - val_accuracy: 0.7305\n",
      "Epoch 30/100\n",
      "40/40 [==============================] - 0s 5ms/step - loss: 0.4533 - accuracy: 0.8171 - val_loss: 0.5922 - val_accuracy: 0.7305\n",
      "Epoch 31/100\n",
      "40/40 [==============================] - 0s 5ms/step - loss: 0.4525 - accuracy: 0.8155 - val_loss: 0.5707 - val_accuracy: 0.7163\n",
      "Epoch 32/100\n",
      "40/40 [==============================] - 0s 5ms/step - loss: 0.4347 - accuracy: 0.8321 - val_loss: 0.5924 - val_accuracy: 0.7092\n",
      "Epoch 33/100\n",
      "40/40 [==============================] - 0s 5ms/step - loss: 0.4290 - accuracy: 0.8266 - val_loss: 0.5854 - val_accuracy: 0.7163\n",
      "Epoch 34/100\n",
      "40/40 [==============================] - 0s 5ms/step - loss: 0.4409 - accuracy: 0.8219 - val_loss: 0.5968 - val_accuracy: 0.7021\n",
      "Epoch 35/100\n",
      "40/40 [==============================] - 0s 5ms/step - loss: 0.4369 - accuracy: 0.8242 - val_loss: 0.5883 - val_accuracy: 0.7163\n",
      "Epoch 36/100\n",
      "40/40 [==============================] - 0s 5ms/step - loss: 0.4283 - accuracy: 0.8290 - val_loss: 0.5939 - val_accuracy: 0.7163\n",
      "Epoch 37/100\n",
      "40/40 [==============================] - 0s 5ms/step - loss: 0.4139 - accuracy: 0.8393 - val_loss: 0.5899 - val_accuracy: 0.7163\n",
      "Epoch 38/100\n",
      "40/40 [==============================] - 0s 6ms/step - loss: 0.4133 - accuracy: 0.8409 - val_loss: 0.5869 - val_accuracy: 0.7305\n",
      "Epoch 39/100\n",
      "40/40 [==============================] - 0s 6ms/step - loss: 0.4124 - accuracy: 0.8369 - val_loss: 0.5859 - val_accuracy: 0.7518\n",
      "Epoch 40/100\n",
      "40/40 [==============================] - 0s 5ms/step - loss: 0.4118 - accuracy: 0.8472 - val_loss: 0.5903 - val_accuracy: 0.7234\n",
      "Epoch 41/100\n",
      "40/40 [==============================] - 0s 5ms/step - loss: 0.4099 - accuracy: 0.8337 - val_loss: 0.6009 - val_accuracy: 0.7305\n",
      "Epoch 42/100\n",
      "40/40 [==============================] - 0s 5ms/step - loss: 0.4078 - accuracy: 0.8472 - val_loss: 0.5965 - val_accuracy: 0.7021\n",
      "Epoch 43/100\n",
      "40/40 [==============================] - 0s 5ms/step - loss: 0.3872 - accuracy: 0.8464 - val_loss: 0.5942 - val_accuracy: 0.7376\n",
      "Epoch 44/100\n",
      "40/40 [==============================] - 0s 5ms/step - loss: 0.3916 - accuracy: 0.8519 - val_loss: 0.6132 - val_accuracy: 0.7163\n",
      "Epoch 45/100\n",
      "40/40 [==============================] - 0s 5ms/step - loss: 0.3844 - accuracy: 0.8543 - val_loss: 0.6388 - val_accuracy: 0.7234\n",
      "Epoch 46/100\n",
      "40/40 [==============================] - 0s 5ms/step - loss: 0.3921 - accuracy: 0.8472 - val_loss: 0.6376 - val_accuracy: 0.7234\n",
      "Epoch 47/100\n",
      "40/40 [==============================] - 0s 5ms/step - loss: 0.3779 - accuracy: 0.8551 - val_loss: 0.6556 - val_accuracy: 0.7092\n",
      "Epoch 48/100\n",
      "40/40 [==============================] - 0s 5ms/step - loss: 0.3915 - accuracy: 0.8440 - val_loss: 0.6226 - val_accuracy: 0.7092\n",
      "Epoch 49/100\n",
      "40/40 [==============================] - 0s 5ms/step - loss: 0.3767 - accuracy: 0.8638 - val_loss: 0.6036 - val_accuracy: 0.7234\n",
      "Epoch 50/100\n",
      "40/40 [==============================] - 0s 5ms/step - loss: 0.3676 - accuracy: 0.8583 - val_loss: 0.6264 - val_accuracy: 0.7305\n",
      "Epoch 51/100\n",
      "40/40 [==============================] - 0s 5ms/step - loss: 0.3649 - accuracy: 0.8614 - val_loss: 0.6504 - val_accuracy: 0.7447\n",
      "Epoch 52/100\n",
      "40/40 [==============================] - 0s 5ms/step - loss: 0.3650 - accuracy: 0.8646 - val_loss: 0.6329 - val_accuracy: 0.7376\n",
      "Epoch 53/100\n",
      "40/40 [==============================] - 0s 5ms/step - loss: 0.3621 - accuracy: 0.8614 - val_loss: 0.6208 - val_accuracy: 0.7305\n",
      "Epoch 54/100\n",
      "40/40 [==============================] - 0s 5ms/step - loss: 0.3477 - accuracy: 0.8749 - val_loss: 0.6337 - val_accuracy: 0.7376\n",
      "Epoch 55/100\n",
      "40/40 [==============================] - 0s 5ms/step - loss: 0.3516 - accuracy: 0.8702 - val_loss: 0.6352 - val_accuracy: 0.7447\n",
      "Epoch 56/100\n",
      "40/40 [==============================] - 0s 5ms/step - loss: 0.3502 - accuracy: 0.8804 - val_loss: 0.6640 - val_accuracy: 0.7376\n",
      "Epoch 57/100\n",
      "40/40 [==============================] - 0s 5ms/step - loss: 0.3339 - accuracy: 0.8773 - val_loss: 0.6333 - val_accuracy: 0.7447\n",
      "Epoch 58/100\n",
      "40/40 [==============================] - 0s 5ms/step - loss: 0.3426 - accuracy: 0.8678 - val_loss: 0.6551 - val_accuracy: 0.7305\n"
     ]
    },
    {
     "name": "stdout",
     "output_type": "stream",
     "text": [
      "Epoch 59/100\n",
      "40/40 [==============================] - 0s 5ms/step - loss: 0.3383 - accuracy: 0.8765 - val_loss: 0.6288 - val_accuracy: 0.7376\n",
      "Epoch 60/100\n",
      "40/40 [==============================] - 0s 5ms/step - loss: 0.3408 - accuracy: 0.8860 - val_loss: 0.6430 - val_accuracy: 0.7447\n",
      "Epoch 61/100\n",
      "40/40 [==============================] - 0s 5ms/step - loss: 0.3431 - accuracy: 0.8773 - val_loss: 0.6484 - val_accuracy: 0.7305\n",
      "Epoch 62/100\n",
      "40/40 [==============================] - 0s 5ms/step - loss: 0.3234 - accuracy: 0.8812 - val_loss: 0.6565 - val_accuracy: 0.7518\n",
      "Epoch 63/100\n",
      "40/40 [==============================] - 0s 5ms/step - loss: 0.3193 - accuracy: 0.8844 - val_loss: 0.6811 - val_accuracy: 0.7305\n",
      "Epoch 64/100\n",
      "40/40 [==============================] - 0s 5ms/step - loss: 0.3174 - accuracy: 0.8781 - val_loss: 0.6772 - val_accuracy: 0.7376\n",
      "Epoch 65/100\n",
      "40/40 [==============================] - 0s 5ms/step - loss: 0.3169 - accuracy: 0.8884 - val_loss: 0.6767 - val_accuracy: 0.7305\n",
      "Epoch 66/100\n",
      "40/40 [==============================] - 0s 5ms/step - loss: 0.3202 - accuracy: 0.8789 - val_loss: 0.6519 - val_accuracy: 0.7163\n",
      "Epoch 67/100\n",
      "40/40 [==============================] - 0s 5ms/step - loss: 0.3119 - accuracy: 0.8923 - val_loss: 0.6525 - val_accuracy: 0.7376\n",
      "Epoch 68/100\n",
      "40/40 [==============================] - 0s 5ms/step - loss: 0.2987 - accuracy: 0.9026 - val_loss: 0.6620 - val_accuracy: 0.7447\n",
      "Epoch 69/100\n",
      "40/40 [==============================] - 0s 5ms/step - loss: 0.3023 - accuracy: 0.8955 - val_loss: 0.6929 - val_accuracy: 0.7447\n",
      "Epoch 70/100\n",
      "40/40 [==============================] - 0s 5ms/step - loss: 0.2933 - accuracy: 0.9010 - val_loss: 0.7156 - val_accuracy: 0.7305\n",
      "Epoch 71/100\n",
      "40/40 [==============================] - 0s 5ms/step - loss: 0.3091 - accuracy: 0.8939 - val_loss: 0.7092 - val_accuracy: 0.7163\n",
      "Epoch 72/100\n",
      "40/40 [==============================] - 0s 5ms/step - loss: 0.2969 - accuracy: 0.8915 - val_loss: 0.7028 - val_accuracy: 0.6879\n",
      "Epoch 73/100\n",
      "40/40 [==============================] - 0s 5ms/step - loss: 0.3160 - accuracy: 0.8844 - val_loss: 0.7203 - val_accuracy: 0.7234\n",
      "Epoch 74/100\n",
      "40/40 [==============================] - 0s 5ms/step - loss: 0.2925 - accuracy: 0.8955 - val_loss: 0.7520 - val_accuracy: 0.6950\n",
      "Epoch 75/100\n",
      "40/40 [==============================] - 0s 5ms/step - loss: 0.3147 - accuracy: 0.8868 - val_loss: 0.7178 - val_accuracy: 0.7305\n",
      "Epoch 76/100\n",
      "40/40 [==============================] - 0s 5ms/step - loss: 0.2862 - accuracy: 0.9074 - val_loss: 0.7286 - val_accuracy: 0.7234\n",
      "Epoch 77/100\n",
      "40/40 [==============================] - 0s 5ms/step - loss: 0.2826 - accuracy: 0.9026 - val_loss: 0.7279 - val_accuracy: 0.7163\n",
      "Epoch 78/100\n",
      "40/40 [==============================] - 0s 5ms/step - loss: 0.2784 - accuracy: 0.9050 - val_loss: 0.7305 - val_accuracy: 0.7376\n",
      "Epoch 79/100\n",
      "40/40 [==============================] - 0s 5ms/step - loss: 0.2861 - accuracy: 0.9018 - val_loss: 0.7356 - val_accuracy: 0.7234\n",
      "Epoch 80/100\n",
      "40/40 [==============================] - 0s 5ms/step - loss: 0.2757 - accuracy: 0.9129 - val_loss: 0.7726 - val_accuracy: 0.7305\n",
      "Epoch 81/100\n",
      "40/40 [==============================] - 0s 5ms/step - loss: 0.2636 - accuracy: 0.9089 - val_loss: 0.7394 - val_accuracy: 0.7234\n",
      "Epoch 82/100\n",
      "40/40 [==============================] - 0s 5ms/step - loss: 0.2696 - accuracy: 0.9058 - val_loss: 0.7290 - val_accuracy: 0.7234\n",
      "Epoch 83/100\n",
      "40/40 [==============================] - 0s 5ms/step - loss: 0.2813 - accuracy: 0.8971 - val_loss: 0.7076 - val_accuracy: 0.7447\n",
      "Epoch 84/100\n",
      "40/40 [==============================] - 0s 5ms/step - loss: 0.2580 - accuracy: 0.9089 - val_loss: 0.7328 - val_accuracy: 0.7376\n",
      "Epoch 85/100\n",
      "40/40 [==============================] - 0s 5ms/step - loss: 0.2408 - accuracy: 0.9216 - val_loss: 0.7567 - val_accuracy: 0.7163\n",
      "Epoch 86/100\n",
      "40/40 [==============================] - 0s 5ms/step - loss: 0.2444 - accuracy: 0.9137 - val_loss: 0.7933 - val_accuracy: 0.7234\n",
      "Epoch 87/100\n",
      "40/40 [==============================] - 0s 5ms/step - loss: 0.2474 - accuracy: 0.9177 - val_loss: 0.7725 - val_accuracy: 0.7376\n",
      "Epoch 88/100\n",
      "40/40 [==============================] - 0s 5ms/step - loss: 0.2606 - accuracy: 0.9089 - val_loss: 0.7798 - val_accuracy: 0.7234\n",
      "Epoch 89/100\n",
      "40/40 [==============================] - 0s 5ms/step - loss: 0.2349 - accuracy: 0.9248 - val_loss: 0.7467 - val_accuracy: 0.7518\n",
      "Epoch 90/100\n",
      "40/40 [==============================] - 0s 5ms/step - loss: 0.2417 - accuracy: 0.9224 - val_loss: 0.7879 - val_accuracy: 0.7305\n",
      "Epoch 91/100\n",
      "40/40 [==============================] - 0s 5ms/step - loss: 0.2628 - accuracy: 0.9153 - val_loss: 0.7730 - val_accuracy: 0.7447\n",
      "Epoch 92/100\n",
      "40/40 [==============================] - 0s 5ms/step - loss: 0.2467 - accuracy: 0.9216 - val_loss: 0.7493 - val_accuracy: 0.7447\n",
      "Epoch 93/100\n",
      "40/40 [==============================] - 0s 5ms/step - loss: 0.2286 - accuracy: 0.9279 - val_loss: 0.7630 - val_accuracy: 0.7589\n",
      "Epoch 94/100\n",
      "40/40 [==============================] - 0s 5ms/step - loss: 0.2231 - accuracy: 0.9382 - val_loss: 0.7733 - val_accuracy: 0.7589\n",
      "Epoch 95/100\n",
      "40/40 [==============================] - 0s 5ms/step - loss: 0.2282 - accuracy: 0.9240 - val_loss: 0.7887 - val_accuracy: 0.7447\n",
      "Epoch 96/100\n",
      "40/40 [==============================] - 0s 5ms/step - loss: 0.2327 - accuracy: 0.9287 - val_loss: 0.8333 - val_accuracy: 0.7163\n",
      "Epoch 97/100\n",
      "40/40 [==============================] - 0s 5ms/step - loss: 0.2322 - accuracy: 0.9232 - val_loss: 0.8353 - val_accuracy: 0.7305\n",
      "Epoch 98/100\n",
      "40/40 [==============================] - 0s 5ms/step - loss: 0.2147 - accuracy: 0.9398 - val_loss: 0.8088 - val_accuracy: 0.7305\n",
      "Epoch 99/100\n",
      "40/40 [==============================] - 0s 5ms/step - loss: 0.2309 - accuracy: 0.9264 - val_loss: 0.8308 - val_accuracy: 0.7234\n",
      "Epoch 100/100\n",
      "40/40 [==============================] - 0s 5ms/step - loss: 0.2206 - accuracy: 0.9319 - val_loss: 0.8228 - val_accuracy: 0.7234\n",
      "5/5 [==============================] - 0s 2ms/step - loss: 0.8228 - accuracy: 0.7234\n"
     ]
    }
   ],
   "source": [
    "history = model.fit(x_train, y_train, epochs = 100, validation_data= (x_test, y_test))\n",
    "score, acc = model.evaluate(x_test, y_test)"
   ]
  },
  {
   "cell_type": "code",
   "execution_count": 39,
   "metadata": {},
   "outputs": [],
   "source": [
    "%load_ext tensorboard"
   ]
  },
  {
   "cell_type": "code",
   "execution_count": 44,
   "metadata": {},
   "outputs": [
    {
     "data": {
      "text/plain": [
       "ERROR: Failed to launch TensorBoard (exited with 255).\n",
       "Contents of stderr:\n",
       "2021-03-20 18:47:41.748436: W tensorflow/stream_executor/platform/default/dso_loader.cc:59] Could not load dynamic library 'libcudart.so.10.1'; dlerror: libcudart.so.10.1: cannot open shared object file: No such file or directory\n",
       "2021-03-20 18:47:41.748497: I tensorflow/stream_executor/cuda/cudart_stub.cc:29] Ignore above cudart dlerror if you do not have a GPU set up on your machine.\n",
       "E0320 18:47:44.021711 140058372048704 program.py:312] TensorBoard could not bind to port 6007, it was already in use\n",
       "ERROR: TensorBoard could not bind to port 6007, it was already in use"
      ]
     },
     "metadata": {},
     "output_type": "display_data"
    }
   ],
   "source": [
    "tensorboard --port=6007 --logdir runs"
   ]
  },
  {
   "cell_type": "code",
   "execution_count": null,
   "metadata": {},
   "outputs": [],
   "source": []
  }
 ],
 "metadata": {
  "kernelspec": {
   "display_name": "Python 3",
   "language": "python",
   "name": "python3"
  },
  "language_info": {
   "codemirror_mode": {
    "name": "ipython",
    "version": 3
   },
   "file_extension": ".py",
   "mimetype": "text/x-python",
   "name": "python",
   "nbconvert_exporter": "python",
   "pygments_lexer": "ipython3",
   "version": "3.7.9"
  }
 },
 "nbformat": 4,
 "nbformat_minor": 4
}
