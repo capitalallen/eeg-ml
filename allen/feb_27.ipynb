{
 "cells": [
  {
   "cell_type": "code",
   "execution_count": 85,
   "metadata": {},
   "outputs": [],
   "source": [
    "import mat73\n",
    "import numpy as np\n",
    "import matplotlib.pyplot as plt\n",
    "from sklearn.linear_model import LogisticRegression\n",
    "from sklearn.metrics import r2_score\n",
    "from sklearn.metrics import mean_squared_error\n",
    "from IPython.display import display\n",
    "from sklearn.metrics import accuracy_score\n",
    "from sklearn.utils import shuffle\n",
    "from sklearn.ensemble import RandomForestClassifier\n",
    "from sklearn.model_selection import GridSearchCV\n",
    "import pandas as pd "
   ]
  },
  {
   "cell_type": "code",
   "execution_count": 86,
   "metadata": {},
   "outputs": [],
   "source": [
    "def convert_mat_np(gender=None):\n",
    "    f_file = \"./raw_data/Emotrans1_girl_data_preprocessed_42.mat\"\n",
    "    m_file = \"./raw_data/Emotrans1_Boy_data_preprocessed_42.mat\"\n",
    "    # m_file = \"../raw_data/Emotrans1_Boy_data_preprocessed_33.mat\"\n",
    "    # f_file = \"../raw_data/Emotrans1_girl_data_preprocessed_33.mat\"\n",
    "    if gender == \"f\":\n",
    "        data_dict_female = mat73.loadmat(f_file, use_attrdict=True)\n",
    "        return np.array(data_dict_female[\"All_Feature\"])\n",
    "    elif gender == 'm':\n",
    "        data_dict_female = mat73.loadmat(m_file, use_attrdict=True)\n",
    "        return np.array(data_dict_female[\"All_Feature\"])  \n",
    "    else: \n",
    "        raise Exception(\"gender not defined\")"
   ]
  },
  {
   "cell_type": "code",
   "execution_count": 87,
   "metadata": {},
   "outputs": [],
   "source": [
    "m = convert_mat_np(\"m\")\n",
    "f = convert_mat_np(\"f\")"
   ]
  },
  {
   "cell_type": "code",
   "execution_count": 9,
   "metadata": {},
   "outputs": [
    {
     "name": "stdout",
     "output_type": "stream",
     "text": [
      "(22, 4, 4)\n",
      "(20, 4, 4)\n"
     ]
    }
   ],
   "source": [
    "# # boy 18, 19, 21\n",
    "# # delete and put to the end of firl \n",
    "# new_f = [] \n",
    "# for i in range(f.shape[0]):\n",
    "#     new_f.append(f[i])\n",
    "# for i in [17,18,20]:\n",
    "#     new_f.append(m[i])\n",
    "# f = np.array(new_f)\n",
    "# # new_arr = []\n",
    "# m = np.delete(m,[17,18,20],axis=0)\n",
    "# print(f.shape)\n",
    "# print(m.shape)\n",
    "# # deleted.shape"
   ]
  },
  {
   "cell_type": "code",
   "execution_count": 88,
   "metadata": {},
   "outputs": [],
   "source": [
    "# type: 0 --> average 3+4 and 1+2; 1--> use only 3 and 2  \n",
    "def get_pos_or_neg(data,position,type=0):\n",
    "    arr = []\n",
    "    index = 0\n",
    "    for i in range(data.shape[0]):\n",
    "#         print(data[i].shape)\n",
    "        if type == 0:\n",
    "            diff = (data[i][position[0][0]][position[0][1]]+data[i][position[1][0]][position[1][1]])/2 - (data[i][position[3][0]][position[3][1]]+data[i][position[2][0]][position[2][1]])/2\n",
    "        elif type == 1:\n",
    "             diff = (data[i][position[1][0]][position[1][1]] - data[i][position[2][0]][position[2][1]])/2\n",
    "        arr.append(diff)\n",
    "    return np.array(arr)"
   ]
  },
  {
   "cell_type": "code",
   "execution_count": 89,
   "metadata": {},
   "outputs": [],
   "source": [
    "# select frequenceis and (0-4s -> 0 or 0.5-4.5s -> 1)\n",
    "# output: x \n",
    "def choose_freq(data=None,freq = None, sec=None):\n",
    "    if freq:\n",
    "        data = np.delete(data,freq,axis=3)\n",
    "    if sec == 0:\n",
    "        for i in range(data.shape[0]):\n",
    "            data[i] = np.delete(data[i], 1, axis=3)\n",
    "        return data\n",
    "    elif sec == 1:\n",
    "        for i in range(data.shape[0]):\n",
    "            data[i] = np.delete(data[i], 0, axis=3) \n",
    "        return data\n",
    "    else:\n",
    "        print('sec not specified')\n",
    "        return data "
   ]
  },
  {
   "cell_type": "code",
   "execution_count": 90,
   "metadata": {},
   "outputs": [],
   "source": [
    "# reshape to 128*8*2 = 2048\n",
    "# return x \n",
    "def squeeze_feature_size(data):\n",
    "    new_data = []\n",
    "    for d in range(data.shape[0]):\n",
    "#         for i in range(df[d].shape[0]):\n",
    "        size = data[d].shape\n",
    "        new_data.append(data[d].reshape(size[0], size[1]*size[2]*size[3]))  \n",
    "    return np.array(new_data)"
   ]
  },
  {
   "cell_type": "code",
   "execution_count": 91,
   "metadata": {},
   "outputs": [],
   "source": [
    "# generate labels for x \n",
    "# input: data and label_type (0:zeros, 1: ones )\n",
    "def generate_labels(df,type=None):\n",
    "    arr = []\n",
    "    label = []\n",
    "    label_type = -1\n",
    "    if type == 0:\n",
    "        label_type = 0\n",
    "    elif type == 1:\n",
    "        label_type = 1\n",
    "    else:\n",
    "        print(\"Wrong type - get_pos_or_neg()\")\n",
    "        return \n",
    "    for d in range(df.shape[0]):\n",
    "#         for i in range(df[d].shape[0]):\n",
    "        size = df[d].shape\n",
    "#         print(size)\n",
    "        if label_type == 1:\n",
    "            label.append(np.ones((size[0],1)))\n",
    "        else:\n",
    "            label.append(np.zeros((size[0],1)))\n",
    "    return np.array(label)"
   ]
  },
  {
   "cell_type": "code",
   "execution_count": 92,
   "metadata": {},
   "outputs": [],
   "source": [
    "# combine neg and postive for boys and girls separately\n",
    "def combine_net_neg(netX,netY,negX,negY):\n",
    "    new_x, new_y = [],[]\n",
    "    for i in range(netX.shape[0]):\n",
    "        new_x.append(np.concatenate((netX[i],negX[i]),axis=0))\n",
    "        new_y.append(np.concatenate((netY[i],negY[i]),axis=0))\n",
    "    return np.array(new_x),np.array(new_y)"
   ]
  },
  {
   "cell_type": "code",
   "execution_count": 93,
   "metadata": {},
   "outputs": [],
   "source": [
    "# get x and y training set for leave one out \n",
    "def get_x_y_train(x,y):\n",
    "    new_x = x[0]\n",
    "    new_y = y[0]\n",
    "    for i in range(1,len(x)):\n",
    "        new_x=np.append(new_x,x[i],axis=0)\n",
    "        new_y=np.append(new_y,y[i],axis=0)\n",
    "    return new_x,new_y"
   ]
  },
  {
   "cell_type": "code",
   "execution_count": 94,
   "metadata": {},
   "outputs": [],
   "source": [
    "def calculate(s):\n",
    "    num, op, stack = 0, '+', [0]\n",
    "    ops = {'+':lambda x, y: y, '-':lambda x, y: -y, '*':lambda x, y: x*y, '/':lambda x, y: (int)(float(x)/float(y))}\n",
    "    for i, c in enumerate(s):\n",
    "        if c.isdigit():\n",
    "            num = num * 10 + int(c)\n",
    "        if not c.isdigit() and c != ' ' or i == len(s)-1:\n",
    "            prev = 0 if op in '+-' else stack.pop()\n",
    "            stack.append(ops[op](prev, num))\n",
    "            num, op = 0, c\n",
    "    return sum(stack)\n",
    "def split_feature(str):\n",
    "    arr = str.split(',')\n",
    "    new_arr=[]\n",
    "    for i in arr:\n",
    "        if \"-\" in i:\n",
    "            i = i.split('-')\n",
    "            if \"*\" in i[0] or \"+\" in i[0]:\n",
    "                i[0] = calculate(i[0])\n",
    "            if \"*\" in i[1] or \"+\" in i[1]:\n",
    "                i[1] = calculate(i[1])\n",
    "            new_arr.append([int(i[0])-1,int(i[1])-1])\n",
    "    return new_arr"
   ]
  },
  {
   "cell_type": "code",
   "execution_count": 95,
   "metadata": {},
   "outputs": [
    {
     "name": "stdout",
     "output_type": "stream",
     "text": [
      "[[31, 4], [30, 17], [29, 16], [28, 15], [27, 14], [26, 13], [25, 12], [34, 5], [35, 6], [36, 7], [37, 8], [38, 9], [39, 10], [40, 11], [44, 124], [43, 125], [42, 126], [41, 127], [49, 123], [48, 122], [47, 121], [46, 120], [45, 119]]\n",
      "[[79, 92], [78, 91], [77, 90], [76, 89], [75, 88], [74, 87], [71, 93], [72, 94], [73, 95], [67, 99], [66, 98], [70, 102], [69, 101], [68, 100], [70, 102], [58, 103], [59, 104], [60, 105], [61, 106], [62, 107], [64, 108]]\n",
      "[[57, 118], [56, 117], [55, 116], [54, 115], [53, 114], [52, 113]]\n"
     ]
    }
   ],
   "source": [
    "parietal = \"32-5,31-18,30-17,29-16,28-15,27-14,26-13,32+3-6,32+4-7,32+5-8,32+6-9,32+7-10,32+8-11,32+9-12,32+13-32*3+29,32+12-32*3+30,32+11-32*3+31,32+10-32*3+32,32+18-32*3+28, 32+17 - 32*3+27, 32+16 - 32*3 + 26, 32+15 - 32*3+25,32+14-32*3+24\"\n",
    "frontal = \"32*2 + 16 - 32*2 + 29, 32*2 + 15 - 32*2 + 28, 32*2 + 14 - 32*2 + 27, 32*2 + 13 - 32*2 + 26, 32*2 + 12 - 32*2 + 25, 32*2 + 11 - 32*2 + 24,32*2  + 8 - 32*2 +30,32*2  + 9 - 32*2 +31,32*2  + 10 - 32*2 +32,32*2  + 4 - 32*3 +4,32*2  + 3 - 32*3 +3,32*2  + 7 - 32*3 +7,32*2  + 6 - 32*3 +6,32*2  + 5 - 32*3 +5,32*2  + 7 - 32*3 +7,32  +27 - 32*3 +8,32  +28 - 32*3 +9,32  +29 - 32*3 +10,32  + 30 - 32*3 +11,32  + 31 - 32*3 +12,32  + 33 - 32*3 +13\"\n",
    "middle = \"32  +26 - 32*3 +23,32  +25 - 32*3 +22,32  +24 - 32*3 +21,32  + 23 - 32*3 +20,32  + 22 - 32*3 +19,32  + 21 - 32*3 +18\"\n",
    "parietal = split_feature(parietal)\n",
    "frontal = split_feature(frontal)\n",
    "middle = split_feature(middle)\n",
    "print(parietal)\n",
    "print(frontal)\n",
    "print(middle)\n",
    "chosen_feature = parietal+frontal+middle"
   ]
  },
  {
   "cell_type": "code",
   "execution_count": 96,
   "metadata": {},
   "outputs": [],
   "source": [
    "# define model \n",
    "model = RandomForestClassifier(n_estimators=150) "
   ]
  },
  {
   "cell_type": "code",
   "execution_count": 97,
   "metadata": {},
   "outputs": [],
   "source": [
    "pos = [[0,3],[0,2],[0,1],[0,0]]\n",
    "neg = [[1,3],[1,2],[1,1],[1,0]]\n",
    "pos_df_m = get_pos_or_neg(m,pos,1)\n",
    "neg_df_m = get_pos_or_neg(m,neg,1)\n",
    "pos_df_f = get_pos_or_neg(f,pos,1)\n",
    "neg_df_f = get_pos_or_neg(f,neg,1)\n"
   ]
  },
  {
   "cell_type": "code",
   "execution_count": 98,
   "metadata": {},
   "outputs": [
    {
     "data": {
      "text/plain": [
       "(18, 128, 8, 2)"
      ]
     },
     "execution_count": 98,
     "metadata": {},
     "output_type": "execute_result"
    }
   ],
   "source": [
    "pos_df_m[0].shape"
   ]
  },
  {
   "cell_type": "code",
   "execution_count": 99,
   "metadata": {},
   "outputs": [
    {
     "data": {
      "text/plain": [
       "(23,)"
      ]
     },
     "execution_count": 99,
     "metadata": {},
     "output_type": "execute_result"
    }
   ],
   "source": [
    "temp = pos_df_m[0][0][31]-pos_df_m[0][0][4]\n",
    "temp.shape\n",
    "\"\"\"\n",
    "new_arr=[]\n",
    "itearte through chosen_feature\n",
    "    append to new_arr\n",
    "return new_arr \n",
    "\"\"\"\n",
    "def cal_diff(features,arr):\n",
    "    new_arr = [] \n",
    "    for i in features:\n",
    "        new_arr.append(arr[i[0]]-arr[i[1]])\n",
    "    return np.array(new_arr)\n",
    "\n",
    "def get_new_features(df,features):\n",
    "    new_df=[]\n",
    "    for i in range(df.shape[0]):\n",
    "        temp_df = []\n",
    "        for j in range(df[i].shape[0]):\n",
    "            temp_df.append(cal_diff(features,df[i][j]))\n",
    "        new_df.append(np.array(temp_df))\n",
    "    return np.array(new_df)\n",
    "temp = get_new_features(pos_df_m,chosen_feature)\n",
    "temp.shape"
   ]
  },
  {
   "cell_type": "code",
   "execution_count": 100,
   "metadata": {},
   "outputs": [],
   "source": [
    "def model_train(x_train,x_test,y_train,y_test,model):\n",
    "    model.fit(x_train,y_train.ravel())\n",
    "    y_pred = model.predict(x_test)\n",
    "    return y_test, y_pred"
   ]
  },
  {
   "cell_type": "code",
   "execution_count": 101,
   "metadata": {},
   "outputs": [],
   "source": [
    "# get x train and test set for witin CV \n",
    "def get_x_train_test(data,index):\n",
    "    x_test = data[index]\n",
    "    x_train = np.delete(data,index,axis=0)\n",
    "    return x_train,x_test.reshape(1,-1)\n",
    "\n",
    "# get y train and test set for witin CV \n",
    "def get_y_train_test(data,index):\n",
    "    y_test = data[index]\n",
    "    y_train = np.delete(data,index,axis=0)\n",
    "    return y_train.astype(int).ravel(),y_test.astype(int)"
   ]
  },
  {
   "cell_type": "code",
   "execution_count": 102,
   "metadata": {},
   "outputs": [],
   "source": [
    "pos_df_m = get_new_features(pos_df_m,chosen_feature)\n",
    "neg_df_m = get_new_features(neg_df_m,chosen_feature)\n",
    "pos_df_f = get_new_features(pos_df_f,chosen_feature)\n",
    "neg_df_f = get_new_features(neg_df_f,chosen_feature)"
   ]
  },
  {
   "cell_type": "code",
   "execution_count": 103,
   "metadata": {},
   "outputs": [],
   "source": [
    "pos_sequeezed_m = squeeze_feature_size(pos_df_m)\n",
    "neg_sequeezed_m = squeeze_feature_size(neg_df_m)\n",
    "pos_sequeezed_f = squeeze_feature_size(pos_df_f)\n",
    "neg_sequeezed_f = squeeze_feature_size(neg_df_f)"
   ]
  },
  {
   "cell_type": "code",
   "execution_count": 104,
   "metadata": {},
   "outputs": [],
   "source": [
    "pos_labels_m = generate_labels(pos_sequeezed_m,1)\n",
    "neg_labels_m = generate_labels(neg_sequeezed_m,0)\n",
    "pos_labels_f = generate_labels(pos_sequeezed_f,1)\n",
    "neg_labels_f = generate_labels(neg_sequeezed_f,0)"
   ]
  },
  {
   "cell_type": "code",
   "execution_count": 105,
   "metadata": {},
   "outputs": [],
   "source": [
    "boy_x,boy_y = combine_net_neg(pos_sequeezed_m,pos_labels_m,neg_sequeezed_m,neg_labels_m)\n",
    "girl_x,girl_y = combine_net_neg(pos_sequeezed_f,pos_labels_f,neg_sequeezed_f,neg_labels_f)"
   ]
  },
  {
   "cell_type": "code",
   "execution_count": 106,
   "metadata": {},
   "outputs": [],
   "source": [
    "# combine boys and girls \n",
    "x = np.concatenate((boy_x,girl_x),axis=0)\n",
    "y = np.concatenate((boy_y,girl_y),axis=0)"
   ]
  },
  {
   "cell_type": "code",
   "execution_count": null,
   "metadata": {},
   "outputs": [],
   "source": []
  },
  {
   "cell_type": "code",
   "execution_count": 107,
   "metadata": {},
   "outputs": [
    {
     "name": "stdout",
     "output_type": "stream",
     "text": [
      "leave one out # person: 0\n",
      "leave one out # person: 1\n",
      "leave one out # person: 2\n",
      "leave one out # person: 3\n",
      "leave one out # person: 4\n",
      "leave one out # person: 5\n",
      "leave one out # person: 6\n",
      "leave one out # person: 7\n",
      "leave one out # person: 8\n",
      "leave one out # person: 9\n",
      "leave one out # person: 10\n",
      "leave one out # person: 11\n",
      "leave one out # person: 12\n",
      "leave one out # person: 13\n",
      "leave one out # person: 14\n",
      "leave one out # person: 15\n",
      "leave one out # person: 16\n",
      "leave one out # person: 17\n",
      "leave one out # person: 18\n",
      "leave one out # person: 19\n",
      "leave one out # person: 20\n",
      "leave one out # person: 21\n",
      "leave one out # person: 22\n",
      "leave one out # person: 23\n",
      "leave one out # person: 24\n",
      "leave one out # person: 25\n",
      "leave one out # person: 26\n",
      "leave one out # person: 27\n",
      "leave one out # person: 28\n",
      "leave one out # person: 29\n",
      "leave one out # person: 30\n",
      "leave one out # person: 31\n",
      "leave one out # person: 32\n",
      "leave one out # person: 33\n",
      "leave one out # person: 34\n",
      "leave one out # person: 35\n",
      "leave one out # person: 36\n",
      "leave one out # person: 37\n",
      "leave one out # person: 38\n",
      "leave one out # person: 39\n",
      "leave one out # person: 40\n",
      "leave one out # person: 41\n",
      "[0.6111111111111112, 0.3888888888888889, 0.6111111111111112, 0.5277777777777778, 0.4722222222222222, 0.5555555555555556, 0.5833333333333334, 0.3055555555555556, 0.4444444444444444, 0.5555555555555556, 0.4666666666666667, 0.36666666666666664, 0.5555555555555556, 0.5333333333333333, 0.4444444444444444, 0.5, 0.5, 0.4444444444444444, 0.625, 0.4722222222222222, 0.4722222222222222, 0.5277777777777778, 0.5833333333333334, 0.5277777777777778, 0.75, 0.4722222222222222, 0.5833333333333334, 0.5555555555555556, 0.5277777777777778, 0.4722222222222222, 0.4444444444444444, 0.4444444444444444, 0.3888888888888889, 0.5277777777777778, 0.3611111111111111, 0.6111111111111112, 0.6111111111111112, 0.5555555555555556, 0.4722222222222222, 0.6, 0.5, 0.36666666666666664]\n"
     ]
    }
   ],
   "source": [
    "all_accuracy=[]\n",
    "for d in range(x.shape[0]):\n",
    "    print(\"leave one out # person:\",d)\n",
    "    if d == 0:\n",
    "        x_train,y_train = get_x_y_train(x[d+1:],y[d+1:])\n",
    "        x_test,y_test =x[d],y[d]\n",
    "    elif d == x.shape[0]-1:\n",
    "        x_train,y_train = get_x_y_train(x[:d],y[:d])\n",
    "        x_test,y_test = x[d],y[d]\n",
    "    else:\n",
    "        x_train,y_train = get_x_y_train(np.append(x[:d],x[d+1:],axis=0),np.append(y[:d],y[d+1:],axis=0))\n",
    "        x_test,y_test = x[d],y[d]\n",
    "    # print(x_train.shape,x_test.shape)\n",
    "    # print(y_train.shape,y_test.shape)\n",
    "    # return\n",
    "    y_test,y_pred=model_train(x_train,x_test,y_train,y_test,model)\n",
    "    accuracy = accuracy_score(y_test,y_pred)\n",
    "    all_accuracy.append(accuracy)\n",
    "print(all_accuracy)"
   ]
  },
  {
   "cell_type": "code",
   "execution_count": 118,
   "metadata": {},
   "outputs": [
    {
     "name": "stdout",
     "output_type": "stream",
     "text": [
      "within # person: 0\n",
      "within # person: 1\n",
      "within # person: 2\n",
      "within # person: 3\n",
      "within # person: 4\n",
      "within # person: 5\n",
      "within # person: 6\n",
      "within # person: 7\n",
      "within # person: 8\n",
      "within # person: 9\n",
      "within # person: 10\n",
      "within # person: 11\n",
      "within # person: 12\n",
      "within # person: 13\n",
      "within # person: 14\n",
      "within # person: 15\n",
      "within # person: 16\n",
      "within # person: 17\n",
      "within # person: 18\n",
      "within # person: 19\n",
      "within # person: 20\n",
      "within # person: 21\n",
      "within # person: 22\n",
      "within # person: 23\n",
      "within # person: 24\n",
      "within # person: 25\n",
      "within # person: 26\n",
      "within # person: 27\n",
      "within # person: 28\n",
      "within # person: 29\n",
      "within # person: 30\n",
      "within # person: 31\n",
      "within # person: 32\n",
      "within # person: 33\n",
      "within # person: 34\n",
      "within # person: 35\n",
      "within # person: 36\n",
      "within # person: 37\n",
      "within # person: 38\n",
      "within # person: 39\n",
      "within # person: 40\n",
      "within # person: 41\n"
     ]
    }
   ],
   "source": [
    "\"\"\"\n",
    "Within \n",
    "\"\"\"\n",
    "all_accuracy = []\n",
    "# train a model \n",
    "# return y_test, y_pred \n",
    "avg_accuracy = []\n",
    "for d in range(x.shape[0]):\n",
    "    # training set and test set\n",
    "    accuracy =[]\n",
    "    print(\"within # person:\",d)\n",
    "    for i in range(x[d].shape[0]):\n",
    "        x_train,x_test = get_x_train_test(x[d],i)\n",
    "        y_train,y_test = get_y_train_test(y[d],i)\n",
    "        y_test,y_pred = model_train(x_train,x_test,y_train,y_test,model)\n",
    "        accuracy.append(accuracy_score(y_test,y_pred))\n",
    "    avg_accuracy.append(sum(accuracy)/len(accuracy))\n",
    "    all_accuracy.append(accuracy)"
   ]
  },
  {
   "cell_type": "code",
   "execution_count": 119,
   "metadata": {},
   "outputs": [],
   "source": [
    "for i in range(len(avg_accuracy)):\n",
    "    avg_accuracy[i] = round(avg_accuracy[i],3)"
   ]
  },
  {
   "cell_type": "code",
   "execution_count": 120,
   "metadata": {},
   "outputs": [],
   "source": [
    "df = pd.read_csv('feb_27.csv')"
   ]
  },
  {
   "cell_type": "code",
   "execution_count": 121,
   "metadata": {},
   "outputs": [
    {
     "name": "stdout",
     "output_type": "stream",
     "text": [
      "[0.611, 0.583, 0.5, 0.25, 0.611, 0.667, 0.583, 0.556, 0.583, 0.5, 0.533, 0.667, 0.611, 0.433, 0.639, 0.417, 0.639, 0.444, 0.292, 0.778, 0.556, 0.528, 0.417, 0.667, 0.611, 0.611, 0.528, 0.333, 0.861, 0.556, 0.528, 0.667, 0.5, 0.361, 0.639, 0.611, 0.333, 0.417, 0.583, 0.6, 0.633, 0.467]\n"
     ]
    },
    {
     "data": {
      "text/plain": [
       "Index(['Unnamed: 0', 'Unnamed: 0.1', 'Unnamed: 0.1.1', 'Exp_ID', 'exp_time',\n",
       "       'trais no.', 'note', 'signal_condition', 'gender', 'age', 'race',\n",
       "       'handiness', 'sleep condition', 'Q11', 'Q12', 'Q13', 'Q14', 'ID',\n",
       "       'ID_boy', 'ID_girl', 'within_classification', 'within_Feature_asymmtry',\n",
       "       'stress', 'stressGroup', '42set_ID', 'between_classification_all',\n",
       "       'between_Feature_asymmtry', 'between_stressGroup', 'between_gender',\n",
       "       '39set_ID', 'between_classification', 'between_stressGroup.1',\n",
       "       '33set_ID', 'between_classification.1', 'between_stressGroup.2',\n",
       "       'Unnamed: 32', 'Unnamed: 33'],\n",
       "      dtype='object')"
      ]
     },
     "execution_count": 121,
     "metadata": {},
     "output_type": "execute_result"
    }
   ],
   "source": [
    "print(avg_accuracy)\n",
    "df.columns"
   ]
  },
  {
   "cell_type": "code",
   "execution_count": 92,
   "metadata": {},
   "outputs": [],
   "source": [
    "for _ in range(22):\n",
    "    avg_accuracy.append(-1)"
   ]
  },
  {
   "cell_type": "code",
   "execution_count": 122,
   "metadata": {},
   "outputs": [],
   "source": [
    "for i in range(4):\n",
    "    avg_accuracy.append(-1)\n",
    "df[\"within_Feature_asymmtry\"] = avg_accuracy[:46]"
   ]
  },
  {
   "cell_type": "code",
   "execution_count": 123,
   "metadata": {},
   "outputs": [],
   "source": [
    "df.to_csv('feb_27.csv')"
   ]
  },
  {
   "cell_type": "code",
   "execution_count": 97,
   "metadata": {},
   "outputs": [
    {
     "data": {
      "text/plain": [
       "0.6708571428571426"
      ]
     },
     "execution_count": 97,
     "metadata": {},
     "output_type": "execute_result"
    }
   ],
   "source": [
    "sum(accs[:42])/len(accs[:42])"
   ]
  },
  {
   "cell_type": "code",
   "execution_count": 96,
   "metadata": {},
   "outputs": [
    {
     "data": {
      "text/plain": [
       "[0.722,\n",
       " 0.611,\n",
       " 0.722,\n",
       " 0.611,\n",
       " 0.722,\n",
       " 0.722,\n",
       " 0.861,\n",
       " 0.639,\n",
       " 0.667,\n",
       " 0.639,\n",
       " 0.8,\n",
       " 0.5,\n",
       " 0.583,\n",
       " 0.667,\n",
       " 0.611,\n",
       " 0.639,\n",
       " 0.694,\n",
       " 0.5,\n",
       " 0.583,\n",
       " 0.583,\n",
       " 0.722,\n",
       " 0.806,\n",
       " 0.639,\n",
       " 0.694,\n",
       " 0.667,\n",
       " 0.611,\n",
       " 0.528,\n",
       " 0.778,\n",
       " 0.778,\n",
       " 0.639,\n",
       " 0.778,\n",
       " 0.694,\n",
       " 0.722,\n",
       " 0.5,\n",
       " 0.778,\n",
       " 0.833,\n",
       " 0.7,\n",
       " 0.7,\n",
       " 0.533,\n",
       " 0.639,\n",
       " 0.667,\n",
       " 0.694,\n",
       " -1,\n",
       " -1,\n",
       " -1,\n",
       " -1,\n",
       " -1,\n",
       " -1,\n",
       " -1,\n",
       " -1,\n",
       " -1,\n",
       " -1,\n",
       " -1,\n",
       " -1,\n",
       " -1,\n",
       " -1,\n",
       " -1,\n",
       " -1,\n",
       " -1,\n",
       " -1,\n",
       " -1,\n",
       " -1,\n",
       " -1,\n",
       " -1]"
      ]
     },
     "execution_count": 96,
     "metadata": {},
     "output_type": "execute_result"
    }
   ],
   "source": [
    "accs"
   ]
  },
  {
   "cell_type": "code",
   "execution_count": null,
   "metadata": {},
   "outputs": [],
   "source": []
  }
 ],
 "metadata": {
  "kernelspec": {
   "display_name": "Python 3",
   "language": "python",
   "name": "python3"
  },
  "language_info": {
   "codemirror_mode": {
    "name": "ipython",
    "version": 3
   },
   "file_extension": ".py",
   "mimetype": "text/x-python",
   "name": "python",
   "nbconvert_exporter": "python",
   "pygments_lexer": "ipython3",
   "version": "3.8.3"
  }
 },
 "nbformat": 4,
 "nbformat_minor": 4
}
