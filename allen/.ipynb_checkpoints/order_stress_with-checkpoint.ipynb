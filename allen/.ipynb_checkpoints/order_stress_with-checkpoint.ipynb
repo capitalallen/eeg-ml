{
 "cells": [
  {
   "cell_type": "code",
   "execution_count": 1,
   "metadata": {},
   "outputs": [],
   "source": [
    "from prep_data import Data_prepare\n",
    "import numpy as np \n",
    "import os \n",
    "from sklearn.metrics import accuracy_score\n",
    "from sklearn.ensemble import RandomForestClassifier\n",
    "from sklearn.linear_model import LogisticRegression\n",
    "from sklearn.pipeline import Pipeline\n",
    "from sklearn.preprocessing import StandardScaler\n",
    "# import prep_data"
   ]
  },
  {
   "cell_type": "markdown",
   "metadata": {},
   "source": [
    "###  Data preprocessing \n",
    "1. covert mat data to numpy array \n",
    "2. combine male and female data to one array \n",
    "3. if needed, remove certain rows \n",
    "4. get postive and negative of Xs \n",
    "    - order difference or net vs neg \n",
    "5. reshape each X: 128*8*2 = 2048 \n",
    "    - input: data \n",
    "6. generate labels for x \n",
    "    - input: data and label_type (0:zeros, 1: ones )\n",
    "7. combine net and neg \n",
    "    - input: netX,netY,negX,negY"
   ]
  },
  {
   "cell_type": "code",
   "execution_count": 2,
   "metadata": {},
   "outputs": [],
   "source": [
    "def netural_vs_negative_helper(data,position):\n",
    "    arr = []\n",
    "    index = 0\n",
    "    for i in range(data.shape[0]):\n",
    "#         print(data[i].shape)\n",
    "        temp = []\n",
    "        for j in position:\n",
    "            for k in data[i][j[0]][j[1]]:\n",
    "                temp.append(k)\n",
    "        arr.append(np.array(temp))\n",
    "    return np.array(arr)"
   ]
  },
  {
   "cell_type": "code",
   "execution_count": 3,
   "metadata": {},
   "outputs": [],
   "source": [
    "dp = Data_prepare() \n",
    "pos = [[0,3],[0,2],[0,1],[0,0]]\n",
    "neg = [[1,3],[1,2],[1,1],[1,0]]\n",
    "# netural vs postive \n",
    "# pos = [[0,0],[0,1],[1,2],[1,3],[2,0],[2,1],[2,2],[2,3]]\n",
    "# neg = [[0,2],[0,3],[1,0],[1,1],[3,0],[3,1],[3,2],[3,3]] \n",
    "m_file = \"./raw_data/Emotrans1_Boy_data_preprocessed_42.mat\" \n",
    "f_file = \"./raw_data/Emotrans1_girl_data_preprocessed_42.mat\"\n",
    "# index = [11,18,36]\n",
    "df = dp.combine_male_female(m_file,f_file)\n",
    "# df = dp.remove_person(df,index)\n",
    "pos_df = dp.netural_vs_negative_helper(df,pos)\n",
    "neg_df = dp.netural_vs_negative_helper(df,neg)\n",
    "pos_sequeezed = dp.squeeze_feature_size(pos_df)\n",
    "neg_sequeezed = dp.squeeze_feature_size(neg_df)\n",
    "pos_labels = dp.generate_labels(pos_sequeezed,1)\n",
    "neg_labels = dp.generate_labels(neg_sequeezed,0)\n",
    "x,y = dp.combine_net_neg(pos_sequeezed,pos_labels,neg_sequeezed,neg_labels)\n",
    "x,y =dp.choose_x_y_stress(\"l\",x,y)"
   ]
  },
  {
   "cell_type": "code",
   "execution_count": 11,
   "metadata": {},
   "outputs": [
    {
     "data": {
      "text/plain": [
       "(192, 2048)"
      ]
     },
     "execution_count": 11,
     "metadata": {},
     "output_type": "execute_result"
    }
   ],
   "source": [
    "x[0].shape"
   ]
  },
  {
   "cell_type": "code",
   "execution_count": 4,
   "metadata": {},
   "outputs": [],
   "source": [
    "# model = RandomForestClassifier(n_estimators=150) \n",
    "model = LogisticRegression(solver='saga', \n",
    "                                penalty='l1',\n",
    "                                C=100,\n",
    "                                max_iter=1000)"
   ]
  },
  {
   "cell_type": "code",
   "execution_count": 13,
   "metadata": {},
   "outputs": [],
   "source": [
    "def get_x_train_test(data,index):\n",
    "    x_test = data[index]\n",
    "    x_train = np.delete(data,index,axis=0)\n",
    "    return x_train,x_test.reshape(1,-1)\n",
    "\n",
    "# get y train and test set for witin CV \n",
    "def get_y_train_test(data,index):\n",
    "    y_test = data[index]\n",
    "    y_train = np.delete(data,index,axis=0)\n",
    "    return y_train.astype(int).ravel(),y_test.astype(int)\n",
    "def model_train(x_train,x_test,y_train,y_test,model):\n",
    "    model.fit(x_train,y_train.ravel())\n",
    "    y_pred = model.predict(x_test)\n",
    "    return accuracy_score(y_test,y_pred)\n",
    "\n",
    "def within_train(x,y,model):\n",
    "    # with_in\n",
    "    all_accuracy = []\n",
    "    avg_accuracy = []\n",
    "    # train a model \n",
    "    # return y_test, y_pred \n",
    "    for d in range(x.shape[0]):\n",
    "        # training set and test set\n",
    "        accuracy =[]\n",
    "        print(\"within # person:\",d)\n",
    "        for i in range(x[d].shape[0]):\n",
    "            x_train,x_test = get_x_train_test(x[d],i)\n",
    "            y_train,y_test = get_y_train_test(y[d],i)\n",
    "            acc= model_train(x_train,x_test,y_train,y_test,model)\n",
    "            accuracy.append(acc)\n",
    "        temp_acc = sum(accuracy)/len(accuracy)\n",
    "        avg_accuracy.append(temp_acc)\n",
    "        print(temp_acc)\n",
    "    return avg_accuracy\n"
   ]
  },
  {
   "cell_type": "code",
   "execution_count": 14,
   "metadata": {},
   "outputs": [
    {
     "name": "stdout",
     "output_type": "stream",
     "text": [
      "within # person: 0\n",
      "0.7135416666666666\n",
      "within # person: 1\n",
      "0.6875\n",
      "within # person: 2\n",
      "0.6354166666666666\n",
      "within # person: 3\n",
      "0.6145833333333334\n",
      "within # person: 4\n",
      "0.6875\n",
      "within # person: 5\n",
      "0.625\n",
      "within # person: 6\n",
      "0.6927083333333334\n",
      "within # person: 7\n",
      "0.578125\n",
      "within # person: 8\n",
      "0.6302083333333334\n",
      "within # person: 9\n",
      "0.6354166666666666\n",
      "within # person: 10\n",
      "0.6858974358974359\n",
      "within # person: 11\n",
      "0.75\n",
      "within # person: 12\n",
      "0.671875\n",
      "within # person: 13\n",
      "0.7371794871794872\n",
      "within # person: 14\n",
      "0.4947916666666667\n",
      "within # person: 15\n",
      "0.5364583333333334\n",
      "within # person: 16\n",
      "0.59375\n",
      "within # person: 17\n",
      "0.6145833333333334\n",
      "within # person: 18\n",
      "0.6953125\n",
      "within # person: 19\n",
      "0.5989583333333334\n",
      "within # person: 20\n",
      "0.6302083333333334\n",
      "within # person: 21\n",
      "0.6614583333333334\n",
      "within # person: 22\n",
      "0.640625\n",
      "within # person: 23\n",
      "0.7447916666666666\n",
      "within # person: 24\n",
      "0.765625\n",
      "within # person: 25\n",
      "0.5625\n",
      "within # person: 26\n",
      "0.6302083333333334\n",
      "within # person: 27\n",
      "0.5729166666666666\n",
      "within # person: 28\n",
      "0.59375\n",
      "within # person: 29\n",
      "0.703125\n",
      "within # person: 30\n",
      "0.7916666666666666\n",
      "within # person: 31\n",
      "0.6875\n",
      "within # person: 32\n",
      "0.609375\n",
      "within # person: 33\n",
      "0.7239583333333334\n",
      "within # person: 34\n",
      "0.5729166666666666\n",
      "within # person: 35\n",
      "0.6875\n",
      "within # person: 36\n",
      "0.703125\n",
      "within # person: 37\n",
      "0.5833333333333334\n",
      "within # person: 38\n",
      "0.7291666666666666\n",
      "within # person: 39\n",
      "0.7371794871794872\n",
      "within # person: 40\n",
      "0.7307692307692307\n",
      "within # person: 41\n",
      "0.6153846153846154\n"
     ]
    }
   ],
   "source": [
    "accs = within_train(x,y,model)"
   ]
  },
  {
   "cell_type": "code",
   "execution_count": null,
   "metadata": {},
   "outputs": [],
   "source": []
  }
 ],
 "metadata": {
  "kernelspec": {
   "display_name": "Python 3",
   "language": "python",
   "name": "python3"
  },
  "language_info": {
   "codemirror_mode": {
    "name": "ipython",
    "version": 3
   },
   "file_extension": ".py",
   "mimetype": "text/x-python",
   "name": "python",
   "nbconvert_exporter": "python",
   "pygments_lexer": "ipython3",
   "version": "3.7.9"
  }
 },
 "nbformat": 4,
 "nbformat_minor": 4
}
