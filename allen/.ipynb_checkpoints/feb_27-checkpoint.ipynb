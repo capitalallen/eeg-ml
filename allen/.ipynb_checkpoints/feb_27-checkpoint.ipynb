{
 "cells": [
  {
   "cell_type": "code",
   "execution_count": 6,
   "metadata": {},
   "outputs": [],
   "source": [
    "import mat73\n",
    "import numpy as np\n",
    "import matplotlib.pyplot as plt\n",
    "from sklearn.linear_model import LogisticRegression\n",
    "from sklearn.metrics import r2_score\n",
    "from sklearn.metrics import mean_squared_error\n",
    "from IPython.display import display\n",
    "from sklearn.metrics import accuracy_score\n",
    "from sklearn.utils import shuffle\n",
    "from sklearn.ensemble import RandomForestClassifier\n",
    "from sklearn.model_selection import GridSearchCV\n",
    "import pandas as pd "
   ]
  },
  {
   "cell_type": "code",
   "execution_count": 7,
   "metadata": {},
   "outputs": [],
   "source": [
    "def convert_mat_np(gender=None):\n",
    "    f_file = \"./raw_data/Emotrans1_girl_data_preprocessed_42.mat\"\n",
    "    m_file = \"./raw_data/Emotrans1_Boy_data_preprocessed_42.mat\"\n",
    "    # m_file = \"../raw_data/Emotrans1_Boy_data_preprocessed_33.mat\"\n",
    "    # f_file = \"../raw_data/Emotrans1_girl_data_preprocessed_33.mat\"\n",
    "    if gender == \"f\":\n",
    "        data_dict_female = mat73.loadmat(f_file, use_attrdict=True)\n",
    "        return np.array(data_dict_female[\"All_Feature\"])\n",
    "    elif gender == 'm':\n",
    "        data_dict_female = mat73.loadmat(m_file, use_attrdict=True)\n",
    "        return np.array(data_dict_female[\"All_Feature\"])  \n",
    "    else: \n",
    "        raise Exception(\"gender not defined\")"
   ]
  },
  {
   "cell_type": "code",
   "execution_count": 8,
   "metadata": {},
   "outputs": [],
   "source": [
    "m = convert_mat_np(\"m\")\n",
    "f = convert_mat_np(\"f\")"
   ]
  },
  {
   "cell_type": "code",
   "execution_count": 9,
   "metadata": {},
   "outputs": [
    {
     "name": "stdout",
     "output_type": "stream",
     "text": [
      "(22, 4, 4)\n",
      "(20, 4, 4)\n"
     ]
    }
   ],
   "source": [
    "# boy 18, 19, 21\n",
    "# delete and put to the end of firl \n",
    "new_f = [] \n",
    "for i in range(f.shape[0]):\n",
    "    new_f.append(f[i])\n",
    "for i in [17,18,20]:\n",
    "    new_f.append(m[i])\n",
    "f = np.array(new_f)\n",
    "# new_arr = []\n",
    "m = np.delete(m,[17,18,20],axis=0)\n",
    "print(f.shape)\n",
    "print(m.shape)\n",
    "# deleted.shape"
   ]
  },
  {
   "cell_type": "code",
   "execution_count": 10,
   "metadata": {},
   "outputs": [],
   "source": [
    "# type: 0 --> average 3+4 and 1+2; 1--> use only 3 and 2  \n",
    "def get_pos_or_neg(data,position,type=0):\n",
    "    arr = []\n",
    "    index = 0\n",
    "    for i in range(data.shape[0]):\n",
    "#         print(data[i].shape)\n",
    "        if type == 0:\n",
    "            diff = (data[i][position[0][0]][position[0][1]]+data[i][position[1][0]][position[1][1]])/2 - (data[i][position[3][0]][position[3][1]]+data[i][position[2][0]][position[2][1]])/2\n",
    "        elif type == 1:\n",
    "             diff = (data[i][position[1][0]][position[1][1]] - data[i][position[2][0]][position[2][1]])/2\n",
    "        arr.append(diff)\n",
    "    return np.array(arr)"
   ]
  },
  {
   "cell_type": "code",
   "execution_count": 11,
   "metadata": {},
   "outputs": [],
   "source": [
    "# select frequenceis and (0-4s -> 0 or 0.5-4.5s -> 1)\n",
    "# output: x \n",
    "def choose_freq(data=None,freq = None, sec=None):\n",
    "    if freq:\n",
    "        data = np.delete(data,freq,axis=3)\n",
    "    if sec == 0:\n",
    "        for i in range(data.shape[0]):\n",
    "            data[i] = np.delete(data[i], 1, axis=3)\n",
    "        return data\n",
    "    elif sec == 1:\n",
    "        for i in range(data.shape[0]):\n",
    "            data[i] = np.delete(data[i], 0, axis=3) \n",
    "        return data\n",
    "    else:\n",
    "        print('sec not specified')\n",
    "        return data "
   ]
  },
  {
   "cell_type": "code",
   "execution_count": 12,
   "metadata": {},
   "outputs": [],
   "source": [
    "# reshape to 128*8*2 = 2048\n",
    "# return x \n",
    "def squeeze_feature_size(data):\n",
    "    new_data = []\n",
    "    for d in range(data.shape[0]):\n",
    "#         for i in range(df[d].shape[0]):\n",
    "        size = data[d].shape\n",
    "        new_data.append(data[d].reshape(size[0], size[1]*size[2]*size[3]))  \n",
    "    return np.array(new_data)"
   ]
  },
  {
   "cell_type": "code",
   "execution_count": 13,
   "metadata": {},
   "outputs": [],
   "source": [
    "# generate labels for x \n",
    "# input: data and label_type (0:zeros, 1: ones )\n",
    "def generate_labels(df,type=None):\n",
    "    arr = []\n",
    "    label = []\n",
    "    label_type = -1\n",
    "    if type == 0:\n",
    "        label_type = 0\n",
    "    elif type == 1:\n",
    "        label_type = 1\n",
    "    else:\n",
    "        print(\"Wrong type - get_pos_or_neg()\")\n",
    "        return \n",
    "    for d in range(df.shape[0]):\n",
    "#         for i in range(df[d].shape[0]):\n",
    "        size = df[d].shape\n",
    "#         print(size)\n",
    "        if label_type == 1:\n",
    "            label.append(np.ones((size[0],1)))\n",
    "        else:\n",
    "            label.append(np.zeros((size[0],1)))\n",
    "    return np.array(label)"
   ]
  },
  {
   "cell_type": "code",
   "execution_count": 14,
   "metadata": {},
   "outputs": [],
   "source": [
    "# combine neg and postive for boys and girls separately\n",
    "def combine_net_neg(netX,netY,negX,negY):\n",
    "    new_x, new_y = [],[]\n",
    "    for i in range(netX.shape[0]):\n",
    "        new_x.append(np.concatenate((netX[i],negX[i]),axis=0))\n",
    "        new_y.append(np.concatenate((netY[i],negY[i]),axis=0))\n",
    "    return np.array(new_x),np.array(new_y)"
   ]
  },
  {
   "cell_type": "code",
   "execution_count": 15,
   "metadata": {},
   "outputs": [],
   "source": [
    "# get x and y training set for leave one out \n",
    "def get_x_y_train(x,y):\n",
    "    new_x = x[0]\n",
    "    new_y = y[0]\n",
    "    for i in range(1,len(x)):\n",
    "        new_x=np.append(new_x,x[i],axis=0)\n",
    "        new_y=np.append(new_y,y[i],axis=0)\n",
    "    return new_x,new_y"
   ]
  },
  {
   "cell_type": "code",
   "execution_count": 40,
   "metadata": {},
   "outputs": [],
   "source": [
    "def calculate(s):\n",
    "    num, op, stack = 0, '+', [0]\n",
    "    ops = {'+':lambda x, y: y, '-':lambda x, y: -y, '*':lambda x, y: x*y, '/':lambda x, y: (int)(float(x)/float(y))}\n",
    "    for i, c in enumerate(s):\n",
    "        if c.isdigit():\n",
    "            num = num * 10 + int(c)\n",
    "        if not c.isdigit() and c != ' ' or i == len(s)-1:\n",
    "            prev = 0 if op in '+-' else stack.pop()\n",
    "            stack.append(ops[op](prev, num))\n",
    "            num, op = 0, c\n",
    "    return sum(stack)\n",
    "def split_feature(str):\n",
    "    arr = str.split(',')\n",
    "    new_arr=[]\n",
    "    for i in arr:\n",
    "        if \"-\" in i:\n",
    "            i = i.split('-')\n",
    "            if \"*\" in i[0] or \"+\" in i[0]:\n",
    "                i[0] = calculate(i[0])\n",
    "            if \"*\" in i[1] or \"+\" in i[1]:\n",
    "                i[1] = calculate(i[1])\n",
    "            new_arr.append([int(i[0])-1,int(i[1])-1])\n",
    "    return new_arr"
   ]
  },
  {
   "cell_type": "code",
   "execution_count": 46,
   "metadata": {},
   "outputs": [
    {
     "name": "stdout",
     "output_type": "stream",
     "text": [
      "[[31, 4], [30, 17], [29, 16], [28, 15], [27, 14], [26, 13], [25, 12], [34, 5], [35, 6], [36, 7], [37, 8], [38, 9], [39, 10], [40, 11], [44, 124], [43, 125], [42, 126], [41, 127], [49, 123], [48, 122], [47, 121], [46, 120], [45, 119]]\n",
      "[[79, 92], [78, 91], [77, 90], [76, 89], [75, 88], [74, 87], [71, 93], [72, 94], [73, 95], [67, 99], [66, 98], [70, 102], [69, 101], [68, 100], [70, 102], [58, 103], [59, 104], [60, 105], [61, 106], [62, 107], [64, 108]]\n",
      "[[57, 118], [56, 117], [55, 116], [54, 115], [53, 114], [52, 113]]\n"
     ]
    }
   ],
   "source": [
    "parietal = \"32-5,31-18,30-17,29-16,28-15,27-14,26-13,32+3-6,32+4-7,32+5-8,32+6-9,32+7-10,32+8-11,32+9-12,32+13-32*3+29,32+12-32*3+30,32+11-32*3+31,32+10-32*3+32,32+18-32*3+28, 32+17 - 32*3+27, 32+16 - 32*3 + 26, 32+15 - 32*3+25,32+14-32*3+24\"\n",
    "frontal = \"32*2 + 16 - 32*2 + 29, 32*2 + 15 - 32*2 + 28, 32*2 + 14 - 32*2 + 27, 32*2 + 13 - 32*2 + 26, 32*2 + 12 - 32*2 + 25, 32*2 + 11 - 32*2 + 24,32*2  + 8 - 32*2 +30,32*2  + 9 - 32*2 +31,32*2  + 10 - 32*2 +32,32*2  + 4 - 32*3 +4,32*2  + 3 - 32*3 +3,32*2  + 7 - 32*3 +7,32*2  + 6 - 32*3 +6,32*2  + 5 - 32*3 +5,32*2  + 7 - 32*3 +7,32  +27 - 32*3 +8,32  +28 - 32*3 +9,32  +29 - 32*3 +10,32  + 30 - 32*3 +11,32  + 31 - 32*3 +12,32  + 33 - 32*3 +13\"\n",
    "middle = \"32  +26 - 32*3 +23,32  +25 - 32*3 +22,32  +24 - 32*3 +21,32  + 23 - 32*3 +20,32  + 22 - 32*3 +19,32  + 21 - 32*3 +18\"\n",
    "parietal = split_feature(parietal)\n",
    "frontal = split_feature(frontal)\n",
    "middle = split_feature(middle)\n",
    "print(parietal)\n",
    "print(frontal)\n",
    "print(middle)\n",
    "chosen_feature = parietal+frontal+middle"
   ]
  },
  {
   "cell_type": "code",
   "execution_count": 16,
   "metadata": {},
   "outputs": [],
   "source": [
    "# define model \n",
    "model = RandomForestClassifier(n_estimators=150) "
   ]
  },
  {
   "cell_type": "code",
   "execution_count": 17,
   "metadata": {},
   "outputs": [],
   "source": [
    "pos = [[0,3],[0,2],[0,1],[0,0]]\n",
    "neg = [[1,3],[1,2],[1,1],[1,0]]\n",
    "pos_df_m = get_pos_or_neg(m,pos,1)\n",
    "neg_df_m = get_pos_or_neg(m,neg,1)\n",
    "pos_df_f = get_pos_or_neg(f,pos,1)\n",
    "neg_df_f = get_pos_or_neg(f,neg,1)\n"
   ]
  },
  {
   "cell_type": "code",
   "execution_count": 19,
   "metadata": {},
   "outputs": [
    {
     "data": {
      "text/plain": [
       "(18, 128, 8, 2)"
      ]
     },
     "execution_count": 19,
     "metadata": {},
     "output_type": "execute_result"
    }
   ],
   "source": [
    "pos_df_m[0].shape"
   ]
  },
  {
   "cell_type": "code",
   "execution_count": 50,
   "metadata": {},
   "outputs": [
    {
     "data": {
      "text/plain": [
       "(20,)"
      ]
     },
     "execution_count": 50,
     "metadata": {},
     "output_type": "execute_result"
    }
   ],
   "source": [
    "temp = pos_df_m[0][0][31]-pos_df_m[0][0][4]\n",
    "temp.shape\n",
    "\"\"\"\n",
    "new_arr=[]\n",
    "itearte through chosen_feature\n",
    "    append to new_arr\n",
    "return new_arr \n",
    "\"\"\"\n",
    "def cal_diff(features,arr):\n",
    "    new_arr = [] \n",
    "    for i in features:\n",
    "        new_arr.append(arr[i[0]]-arr[i[1]])\n",
    "    return np.array(new_arr)\n",
    "\n",
    "def get_new_features(df,features):\n",
    "    new_df=[]\n",
    "    for i in range(df.shape[0]):\n",
    "        temp_df = []\n",
    "        for j in range(df[i].shape[0]):\n",
    "            temp_df.append(cal_diff(features,df[i][j]))\n",
    "        new_df.append(np.array(temp_df))\n",
    "    return np.array(new_df)\n",
    "temp = get_new_features(pos_df_m,chosen_feature)\n",
    "temp.shape"
   ]
  },
  {
   "cell_type": "code",
   "execution_count": 52,
   "metadata": {},
   "outputs": [],
   "source": [
    "pos_df_m = get_new_features(pos_df_m,chosen_feature)\n",
    "neg_df_m = get_new_features(neg_df_m,chosen_feature)\n",
    "pos_df_f = get_new_features(pos_df_f,chosen_feature)\n",
    "neg_df_f = get_new_features(neg_df_f,chosen_feature)"
   ]
  },
  {
   "cell_type": "code",
   "execution_count": 53,
   "metadata": {},
   "outputs": [],
   "source": [
    "pos_sequeezed_m = squeeze_feature_size(pos_df_m)\n",
    "neg_sequeezed_m = squeeze_feature_size(neg_df_m)\n",
    "pos_sequeezed_f = squeeze_feature_size(pos_df_f)\n",
    "neg_sequeezed_f = squeeze_feature_size(neg_df_f)"
   ]
  },
  {
   "cell_type": "code",
   "execution_count": 56,
   "metadata": {},
   "outputs": [],
   "source": [
    "pos_labels_m = generate_labels(pos_sequeezed_m,1)\n",
    "neg_labels_m = generate_labels(neg_sequeezed_m,0)\n",
    "pos_labels_f = generate_labels(pos_sequeezed_f,1)\n",
    "neg_labels_f = generate_labels(neg_sequeezed_f,0)"
   ]
  },
  {
   "cell_type": "code",
   "execution_count": 57,
   "metadata": {},
   "outputs": [],
   "source": [
    "boy_x,boy_y = combine_net_neg(pos_sequeezed_m,pos_labels_m,neg_sequeezed_m,neg_labels_m)\n",
    "girl_x,girl_y = combine_net_neg(pos_sequeezed_f,pos_labels_f,neg_sequeezed_f,neg_labels_f)"
   ]
  },
  {
   "cell_type": "code",
   "execution_count": 59,
   "metadata": {},
   "outputs": [
    {
     "data": {
      "text/plain": [
       "(36, 800)"
      ]
     },
     "execution_count": 59,
     "metadata": {},
     "output_type": "execute_result"
    }
   ],
   "source": []
  },
  {
   "cell_type": "code",
   "execution_count": 82,
   "metadata": {},
   "outputs": [],
   "source": [
    "\"\"\"\n",
    "train: boy \n",
    "test: girl \n",
    "\"\"\"\n",
    "# train model with boy \n",
    "    # get x and y \n",
    "    # train \n",
    "train_x,train_y = get_x_y_train(boy_x,boy_y)\n",
    "model.fit(train_x,train_y.ravel())\n",
    "accs_g = []\n",
    "# accuracys \n",
    "# loop girl shape[0]\n",
    "    # get accuracy and append \n",
    "for i in range(girl_x.shape[0]):\n",
    "    x_test,y_test = girl_x[i],girl_y[i]\n",
    "    y_pred = model.predict(x_test)\n",
    "    accs_g.append(accuracy_score(y_test,y_pred))"
   ]
  },
  {
   "cell_type": "code",
   "execution_count": 83,
   "metadata": {},
   "outputs": [
    {
     "name": "stdout",
     "output_type": "stream",
     "text": [
      "[0.7222222222222222, 0.8055555555555556, 0.6388888888888888, 0.6944444444444444, 0.6666666666666666, 0.6111111111111112, 0.5277777777777778, 0.7777777777777778, 0.7777777777777778, 0.6388888888888888, 0.7777777777777778, 0.6944444444444444, 0.7222222222222222, 0.5, 0.7777777777777778, 0.8333333333333334, 0.7, 0.7, 0.5333333333333333, 0.6388888888888888, 0.6666666666666666, 0.6944444444444444]\n"
     ]
    }
   ],
   "source": [
    "print(accs_g)"
   ]
  },
  {
   "cell_type": "code",
   "execution_count": 84,
   "metadata": {},
   "outputs": [],
   "source": [
    "\"\"\"\n",
    "train: boy \n",
    "test: girl \n",
    "\"\"\"\n",
    "# train model with boy \n",
    "    # get x and y \n",
    "    # train \n",
    "train_x,train_y = get_x_y_train(girl_x,girl_y)\n",
    "model.fit(train_x,train_y.ravel())\n",
    "accs_b = []\n",
    "# accuracys \n",
    "# loop girl shape[0]\n",
    "    # get accuracy and append \n",
    "for i in range(boy_x.shape[0]):\n",
    "    x_test,y_test = boy_x[i],boy_y[i]\n",
    "    y_pred = model.predict(x_test)\n",
    "    accs_b.append(accuracy_score(y_test,y_pred))"
   ]
  },
  {
   "cell_type": "code",
   "execution_count": 85,
   "metadata": {},
   "outputs": [
    {
     "name": "stdout",
     "output_type": "stream",
     "text": [
      "[0.7222222222222222, 0.6111111111111112, 0.7222222222222222, 0.6111111111111112, 0.7222222222222222, 0.7222222222222222, 0.8611111111111112, 0.6388888888888888, 0.6666666666666666, 0.6388888888888888, 0.8, 0.5, 0.5833333333333334, 0.6666666666666666, 0.6111111111111112, 0.6388888888888888, 0.6944444444444444, 0.5, 0.5833333333333334, 0.5833333333333334]\n"
     ]
    }
   ],
   "source": [
    "print(accs_b)"
   ]
  },
  {
   "cell_type": "code",
   "execution_count": 86,
   "metadata": {},
   "outputs": [],
   "source": [
    "df = pd.read_csv('feb_25.csv')"
   ]
  },
  {
   "cell_type": "code",
   "execution_count": 87,
   "metadata": {},
   "outputs": [
    {
     "data": {
      "text/plain": [
       "Index(['ID_boy', 'ID_girl', 'within_classification', 'stress', 'stressGroup',\n",
       "       '42set_ID', 'between_classification_all', 'between_stressGroup',\n",
       "       'between_gender', '39set_ID', 'between_classification',\n",
       "       'between_stressGroup.1', '33set_ID', 'between_classification.1',\n",
       "       'between_stressGroup.2', 'Unnamed: 15', 'Unnamed: 16', 'Unnamed: 17',\n",
       "       'Unnamed: 18', 'Unnamed: 19', 'Unnamed: 20', 'Unnamed: 21'],\n",
       "      dtype='object')"
      ]
     },
     "execution_count": 87,
     "metadata": {},
     "output_type": "execute_result"
    }
   ],
   "source": [
    "df.columns"
   ]
  },
  {
   "cell_type": "code",
   "execution_count": 88,
   "metadata": {},
   "outputs": [],
   "source": [
    "accs = accs_b \n",
    "for i in accs_g:\n",
    "    accs.append(i)"
   ]
  },
  {
   "cell_type": "code",
   "execution_count": 89,
   "metadata": {},
   "outputs": [
    {
     "name": "stdout",
     "output_type": "stream",
     "text": [
      "42\n"
     ]
    }
   ],
   "source": [
    "print(len(accs))\n",
    "# df['between_gender'] = accs"
   ]
  },
  {
   "cell_type": "code",
   "execution_count": 90,
   "metadata": {},
   "outputs": [],
   "source": [
    "for i in range(len(accs)):\n",
    "    accs[i] = round(accs[i],3)\n"
   ]
  },
  {
   "cell_type": "code",
   "execution_count": 92,
   "metadata": {},
   "outputs": [],
   "source": [
    "for _ in range(22):\n",
    "    accs.append(-1)"
   ]
  },
  {
   "cell_type": "code",
   "execution_count": 93,
   "metadata": {},
   "outputs": [],
   "source": [
    "df[\"between_gender\"] = accs"
   ]
  },
  {
   "cell_type": "code",
   "execution_count": 94,
   "metadata": {},
   "outputs": [],
   "source": [
    "df.to_csv('feb_25.csv')"
   ]
  },
  {
   "cell_type": "code",
   "execution_count": 97,
   "metadata": {},
   "outputs": [
    {
     "data": {
      "text/plain": [
       "0.6708571428571426"
      ]
     },
     "execution_count": 97,
     "metadata": {},
     "output_type": "execute_result"
    }
   ],
   "source": [
    "sum(accs[:42])/len(accs[:42])"
   ]
  },
  {
   "cell_type": "code",
   "execution_count": 96,
   "metadata": {},
   "outputs": [
    {
     "data": {
      "text/plain": [
       "[0.722,\n",
       " 0.611,\n",
       " 0.722,\n",
       " 0.611,\n",
       " 0.722,\n",
       " 0.722,\n",
       " 0.861,\n",
       " 0.639,\n",
       " 0.667,\n",
       " 0.639,\n",
       " 0.8,\n",
       " 0.5,\n",
       " 0.583,\n",
       " 0.667,\n",
       " 0.611,\n",
       " 0.639,\n",
       " 0.694,\n",
       " 0.5,\n",
       " 0.583,\n",
       " 0.583,\n",
       " 0.722,\n",
       " 0.806,\n",
       " 0.639,\n",
       " 0.694,\n",
       " 0.667,\n",
       " 0.611,\n",
       " 0.528,\n",
       " 0.778,\n",
       " 0.778,\n",
       " 0.639,\n",
       " 0.778,\n",
       " 0.694,\n",
       " 0.722,\n",
       " 0.5,\n",
       " 0.778,\n",
       " 0.833,\n",
       " 0.7,\n",
       " 0.7,\n",
       " 0.533,\n",
       " 0.639,\n",
       " 0.667,\n",
       " 0.694,\n",
       " -1,\n",
       " -1,\n",
       " -1,\n",
       " -1,\n",
       " -1,\n",
       " -1,\n",
       " -1,\n",
       " -1,\n",
       " -1,\n",
       " -1,\n",
       " -1,\n",
       " -1,\n",
       " -1,\n",
       " -1,\n",
       " -1,\n",
       " -1,\n",
       " -1,\n",
       " -1,\n",
       " -1,\n",
       " -1,\n",
       " -1,\n",
       " -1]"
      ]
     },
     "execution_count": 96,
     "metadata": {},
     "output_type": "execute_result"
    }
   ],
   "source": [
    "accs"
   ]
  },
  {
   "cell_type": "code",
   "execution_count": null,
   "metadata": {},
   "outputs": [],
   "source": []
  }
 ],
 "metadata": {
  "kernelspec": {
   "display_name": "Python 3",
   "language": "python",
   "name": "python3"
  },
  "language_info": {
   "codemirror_mode": {
    "name": "ipython",
    "version": 3
   },
   "file_extension": ".py",
   "mimetype": "text/x-python",
   "name": "python",
   "nbconvert_exporter": "python",
   "pygments_lexer": "ipython3",
   "version": "3.8.3"
  }
 },
 "nbformat": 4,
 "nbformat_minor": 4
}
