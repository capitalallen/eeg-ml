{
 "cells": [
  {
   "cell_type": "code",
   "execution_count": 3,
   "metadata": {},
   "outputs": [],
   "source": [
    "from prep_data import Data_prepare\n",
    "import numpy as np \n",
    "import os \n",
    "# import prep_data"
   ]
  },
  {
   "cell_type": "code",
   "execution_count": 4,
   "metadata": {},
   "outputs": [],
   "source": [
    "dp = Data_prepare() \n",
    "pos = [[0,3],[0,2],[0,1],[0,0]]\n",
    "neg = [[1,3],[1,2],[1,1],[1,0]]\n",
    "# netural vs postive \n",
    "# pos = [[0,0],[0,1],[1,2],[1,3],[2,0],[2,1],[2,2],[2,3]]\n",
    "# neg = [[0,2],[0,3],[1,0],[1,1],[3,0],[3,1],[3,2],[3,3]] \n",
    "m_file = \"./raw_data/Emotrans1_Boy_data_preprocessed_42.mat\" \n",
    "f_file = \"./raw_data/Emotrans1_girl_data_preprocessed_42.mat\"\n",
    "index=[40,41]\n",
    "df = dp.combine_male_female(m_file,f_file)\n",
    "df = dp.remove_person(df,index)\n",
    "pos_df = dp.get_pos_or_neg(df,pos)\n",
    "neg_df = dp.get_pos_or_neg(df,neg)\n",
    "pos_sequeezed = dp.squeeze_feature_size(pos_df)\n",
    "neg_sequeezed = dp.squeeze_feature_size(neg_df)\n",
    "pos_labels = dp.generate_labels(pos_sequeezed,1)\n",
    "neg_labels = dp.generate_labels(neg_sequeezed,0)\n",
    "x,y = dp.combine_net_neg(pos_sequeezed,pos_labels,neg_sequeezed,neg_labels)"
   ]
  },
  {
   "cell_type": "code",
   "execution_count": 5,
   "metadata": {},
   "outputs": [],
   "source": [
    "## (40,) -> 40*36*2048\n",
    "def flatten(data):\n",
    "    res = data[0]\n",
    "    for i in range(1,data.shape[0]):\n",
    "        res = np.append(res,data[i],axis=0)\n",
    "    return res \n",
    "new_x = flatten(x)\n",
    "new_y = flatten(y)"
   ]
  },
  {
   "cell_type": "code",
   "execution_count": 6,
   "metadata": {},
   "outputs": [],
   "source": [
    "from sklearn.preprocessing import StandardScaler\n",
    "scaler = StandardScaler()\n",
    "scaler.fit(new_x)\n",
    "new_x = scaler.transform(new_x)"
   ]
  },
  {
   "cell_type": "code",
   "execution_count": 7,
   "metadata": {},
   "outputs": [],
   "source": [
    "from sklearn.model_selection import train_test_split\n",
    "x_train, x_test, y_train, y_test = train_test_split(new_x, new_y, test_size = 0.1, random_state = 4)"
   ]
  },
  {
   "cell_type": "code",
   "execution_count": 8,
   "metadata": {},
   "outputs": [],
   "source": [
    "## reshape x_train and x_test to 3D for LSTM \n",
    "x_train = np.reshape(x_train, (x_train.shape[0],1,new_x.shape[1]))\n",
    "x_test = np.reshape(x_test, (x_test.shape[0],1,new_x.shape[1]))"
   ]
  },
  {
   "cell_type": "code",
   "execution_count": 10,
   "metadata": {},
   "outputs": [
    {
     "name": "stdout",
     "output_type": "stream",
     "text": [
      "(1263, 1, 2048) (141, 1, 2048)\n",
      "(1263, 1) (141, 1)\n"
     ]
    }
   ],
   "source": [
    "print(x_train.shape,x_test.shape)\n",
    "print(y_train.shape,y_test.shape)"
   ]
  },
  {
   "cell_type": "code",
   "execution_count": 9,
   "metadata": {},
   "outputs": [],
   "source": []
  },
  {
   "cell_type": "code",
   "execution_count": null,
   "metadata": {},
   "outputs": [],
   "source": []
  }
 ],
 "metadata": {
  "kernelspec": {
   "display_name": "Python 3",
   "language": "python",
   "name": "python3"
  },
  "language_info": {
   "codemirror_mode": {
    "name": "ipython",
    "version": 3
   },
   "file_extension": ".py",
   "mimetype": "text/x-python",
   "name": "python",
   "nbconvert_exporter": "python",
   "pygments_lexer": "ipython3",
   "version": "3.7.9"
  }
 },
 "nbformat": 4,
 "nbformat_minor": 4
}
